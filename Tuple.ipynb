{
 "cells": [
  {
   "cell_type": "markdown",
   "id": "f93372ac",
   "metadata": {},
   "source": [
    "##### Tuple"
   ]
  },
  {
   "cell_type": "markdown",
   "id": "fe109d4a",
   "metadata": {},
   "source": [
    "Tuples are used to store multiple items in a single variable.\n",
    "\n",
    "A tuple is a collection which is ordered and unchangeable.\n",
    "\n"
   ]
  },
  {
   "cell_type": "code",
   "execution_count": 9,
   "id": "deab6c92",
   "metadata": {},
   "outputs": [
    {
     "name": "stdout",
     "output_type": "stream",
     "text": [
      "(1, 2, 3, 4, 5, 6)\n",
      "<class 'tuple'>\n"
     ]
    }
   ],
   "source": [
    "tuple1=1,2,3,4,5,6\n",
    "print(tuple1)\n",
    "print(type(tuple1))"
   ]
  },
  {
   "cell_type": "code",
   "execution_count": 10,
   "id": "bc634853",
   "metadata": {},
   "outputs": [
    {
     "name": "stdout",
     "output_type": "stream",
     "text": [
      "(1, 2, 3, 'ram', 4.5, True)\n",
      "<class 'tuple'>\n"
     ]
    }
   ],
   "source": [
    "tuple2=(1,2,3,\"ram\",4.5,True)\n",
    "print(tuple2)\n",
    "print(type(tuple2))"
   ]
  },
  {
   "cell_type": "code",
   "execution_count": 11,
   "id": "e0f7c5d9",
   "metadata": {},
   "outputs": [
    {
     "name": "stdout",
     "output_type": "stream",
     "text": [
      "1\n",
      "ram\n"
     ]
    }
   ],
   "source": [
    "# Accessing elements\n",
    "print(tuple2[0])  # First element\n",
    "print(tuple2[3])  # Fourth element"
   ]
  },
  {
   "cell_type": "code",
   "execution_count": 12,
   "id": "b0c56aa9",
   "metadata": {},
   "outputs": [
    {
     "name": "stdout",
     "output_type": "stream",
     "text": [
      "6\n"
     ]
    }
   ],
   "source": [
    "# length of tuple\n",
    "print(len(tuple2))  # Length of tuple"
   ]
  },
  {
   "cell_type": "markdown",
   "id": "62d2ba2a",
   "metadata": {},
   "source": [
    "To create a tuple with only one item, you have to add a comma after the item, otherwise Python will not recognize it as a tuple."
   ]
  },
  {
   "cell_type": "code",
   "execution_count": 13,
   "id": "078ddc3d",
   "metadata": {},
   "outputs": [
    {
     "name": "stdout",
     "output_type": "stream",
     "text": [
      "apple\n",
      "<class 'str'>\n"
     ]
    }
   ],
   "source": [
    "tuple3=(\"apple\")\n",
    "print(tuple3)\n",
    "print(type(tuple3))  # This is a string, not a tuple"
   ]
  },
  {
   "cell_type": "code",
   "execution_count": 18,
   "id": "ecfa3790",
   "metadata": {},
   "outputs": [
    {
     "data": {
      "text/plain": [
       "(1, 2, 'apple', 'banana', 56)"
      ]
     },
     "execution_count": 18,
     "metadata": {},
     "output_type": "execute_result"
    }
   ],
   "source": [
    "# Tuple Constructor\n",
    "\n",
    "a=tuple((1,2,\"apple\",\"banana\",56))\n",
    "a"
   ]
  },
  {
   "cell_type": "code",
   "execution_count": null,
   "id": "a7cb0656",
   "metadata": {},
   "outputs": [
    {
     "name": "stdout",
     "output_type": "stream",
     "text": [
      "1\n"
     ]
    }
   ],
   "source": [
    "# Counting occurrences of an element\n",
    "print(a.count(\"apple\"))  # Count occurrences of \"apple\""
   ]
  },
  {
   "cell_type": "markdown",
   "id": "a2ab7cab",
   "metadata": {},
   "source": [
    "TUPLE cant be editable"
   ]
  },
  {
   "cell_type": "markdown",
   "id": "85ed231f",
   "metadata": {},
   "source": [
    "* to make changes in tuple we can convert it into list, make changes then convet edited list into tuple."
   ]
  },
  {
   "cell_type": "code",
   "execution_count": 20,
   "id": "e4b8a7d2",
   "metadata": {},
   "outputs": [
    {
     "name": "stdout",
     "output_type": "stream",
     "text": [
      "(1, 2, 3, 'rahu', 56, 33.67)\n",
      "<class 'tuple'>\n"
     ]
    }
   ],
   "source": [
    "# Example\n",
    "\n",
    "T=(1,2,3,\"rahu\",56,33.67)\n",
    "print(T)\n",
    "print(type(T))"
   ]
  },
  {
   "cell_type": "markdown",
   "id": "7b46d4a3",
   "metadata": {},
   "source": [
    "Here we have created a tuple T. We letter found that In the tuple T there is an error of name at index 3. It should be \"Rahul\"."
   ]
  },
  {
   "cell_type": "markdown",
   "id": "1681dd62",
   "metadata": {},
   "source": [
    "TO meke it correct, convert tuple into list then eidt it then convert back to tuple."
   ]
  },
  {
   "cell_type": "code",
   "execution_count": 23,
   "id": "2ac140f6",
   "metadata": {},
   "outputs": [
    {
     "name": "stdout",
     "output_type": "stream",
     "text": [
      "[1, 2, 3, 'rahu', 56, 33.67]\n",
      "<class 'list'>\n"
     ]
    }
   ],
   "source": [
    "converted_tuple=list(T)\n",
    "print(converted_tuple)  # Convert tuple to list\n",
    "print(type(converted_tuple))  # Check type of converted variable"
   ]
  },
  {
   "cell_type": "code",
   "execution_count": 24,
   "id": "612f0987",
   "metadata": {},
   "outputs": [
    {
     "name": "stdout",
     "output_type": "stream",
     "text": [
      "[1, 2, 3, 'Rahul', 56, 33.67]\n"
     ]
    }
   ],
   "source": [
    "converted_tuple[3]=\"Rahul\"\n",
    "print(converted_tuple)  # Modified list\n"
   ]
  },
  {
   "cell_type": "code",
   "execution_count": 25,
   "id": "5df49418",
   "metadata": {},
   "outputs": [
    {
     "name": "stdout",
     "output_type": "stream",
     "text": [
      "(1, 2, 3, 'Rahul', 56, 33.67)\n",
      "<class 'tuple'>\n"
     ]
    }
   ],
   "source": [
    "T=tuple(converted_tuple)  # Convert list back to tuple\n",
    "print(T)  # Print the modified tuple  \n",
    "print(type(T))  # Check type of modified variable"
   ]
  },
  {
   "cell_type": "code",
   "execution_count": 27,
   "id": "a21a6c7e",
   "metadata": {},
   "outputs": [
    {
     "name": "stdout",
     "output_type": "stream",
     "text": [
      "(1, 2, 3, 4, 5, 6, 7, 8)\n"
     ]
    }
   ],
   "source": [
    "t=(1,2,3,4)\n",
    "t2=(5,6,7,8)\n",
    "# t1.extend(t2)  # This will raise an error since tuples do not have an extend method\n",
    "# # Correct way to concatenate tuples \n",
    "t1 = t + t2  # Concatenate tuples\n",
    "print(t1)  # Print the concatenated tuple"
   ]
  },
  {
   "cell_type": "markdown",
   "id": "31cc2b08",
   "metadata": {},
   "source": [
    "Tuple Unpacking"
   ]
  },
  {
   "cell_type": "code",
   "execution_count": null,
   "id": "6878bc0e",
   "metadata": {},
   "outputs": [
    {
     "name": "stdout",
     "output_type": "stream",
     "text": [
      "1\n",
      "2\n",
      "3\n"
     ]
    }
   ],
   "source": [
    "# example 1\n",
    "a, b, c = (1, 2, 3)\n",
    "print(a)  # Output: 1\n",
    "print(b)  # Output: 2  \n",
    "print(c)  # Output: 3"
   ]
  },
  {
   "cell_type": "code",
   "execution_count": null,
   "id": "3817b92b",
   "metadata": {},
   "outputs": [
    {
     "name": "stdout",
     "output_type": "stream",
     "text": [
      "apple\n",
      "<class 'str'>\n"
     ]
    }
   ],
   "source": [
    "# example 2\n",
    "fruits = (\"apple\", \"banana\", \"cherry\")\n",
    "x,y,z=fruits\n",
    "print(x) \n",
    "print(type(x)) "
   ]
  },
  {
   "cell_type": "code",
   "execution_count": null,
   "id": "cac92e53",
   "metadata": {},
   "outputs": [
    {
     "name": "stdout",
     "output_type": "stream",
     "text": [
      "['banana', 'cherry']\n",
      "<class 'list'>\n"
     ]
    }
   ],
   "source": [
    "# example 3\n",
    "fruits = ('apple', 'banana', 'cherry')\n",
    "(x, *y) = fruits\n",
    "print(y) \n",
    "print(type(y))"
   ]
  },
  {
   "cell_type": "code",
   "execution_count": 33,
   "id": "80277d91",
   "metadata": {},
   "outputs": [
    {
     "name": "stdout",
     "output_type": "stream",
     "text": [
      "['banana', 'cherry']\n"
     ]
    }
   ],
   "source": [
    "# example 4\n",
    "fruits = ('apple', 'banana', 'cherry', 'date')\n",
    "(x, *y,z) = fruits\n",
    "print(y)"
   ]
  }
 ],
 "metadata": {
  "kernelspec": {
   "display_name": "Python 3",
   "language": "python",
   "name": "python3"
  },
  "language_info": {
   "codemirror_mode": {
    "name": "ipython",
    "version": 3
   },
   "file_extension": ".py",
   "mimetype": "text/x-python",
   "name": "python",
   "nbconvert_exporter": "python",
   "pygments_lexer": "ipython3",
   "version": "3.12.8"
  }
 },
 "nbformat": 4,
 "nbformat_minor": 5
}
