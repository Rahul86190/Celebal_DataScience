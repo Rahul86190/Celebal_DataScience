{
 "cells": [
  {
   "cell_type": "markdown",
   "id": "49dfe2f2",
   "metadata": {},
   "source": [
    "## abs()"
   ]
  },
  {
   "cell_type": "code",
   "execution_count": null,
   "id": "8afa5c74",
   "metadata": {},
   "outputs": [],
   "source": [
    "x=abs(-6.4)\n",
    "x"
   ]
  },
  {
   "cell_type": "markdown",
   "id": "31dd135a",
   "metadata": {},
   "source": [
    "## all()"
   ]
  },
  {
   "cell_type": "code",
   "execution_count": null,
   "id": "e570a242",
   "metadata": {},
   "outputs": [],
   "source": [
    "x=[\"apple\",\"banana\",1,5]\n",
    "print(all(x))\n",
    "\n",
    "y=[0,\"apple\",'banana',56]\n",
    "print(all(y))\n"
   ]
  },
  {
   "cell_type": "markdown",
   "id": "8f1bbb69",
   "metadata": {},
   "source": [
    "## any()"
   ]
  },
  {
   "cell_type": "code",
   "execution_count": null,
   "id": "68815725",
   "metadata": {},
   "outputs": [],
   "source": [
    "x=[0,5,3,\"Rahul\"]\n",
    "print(any(x))"
   ]
  },
  {
   "cell_type": "markdown",
   "id": "b09a6301",
   "metadata": {},
   "source": [
    "## ascii()"
   ]
  },
  {
   "cell_type": "code",
   "execution_count": null,
   "id": "e08afd74",
   "metadata": {},
   "outputs": [],
   "source": [
    "x=333445\n",
    "print(ascii(x))\n",
    "\n",
    "y=\"my name is rahul\"\n",
    "print(ascii(y))\n",
    "\n",
    "z=\"This is not a Ascii character å\"\n",
    "print(ascii(z))"
   ]
  },
  {
   "cell_type": "markdown",
   "id": "bb16dc7f",
   "metadata": {},
   "source": [
    "## bin()"
   ]
  },
  {
   "cell_type": "code",
   "execution_count": null,
   "id": "1c6c236e",
   "metadata": {},
   "outputs": [],
   "source": [
    "x=34\n",
    "print(bin(x))"
   ]
  },
  {
   "cell_type": "markdown",
   "id": "ee9b70f9",
   "metadata": {},
   "source": [
    "## bool()"
   ]
  },
  {
   "cell_type": "code",
   "execution_count": null,
   "id": "ea9a1acb",
   "metadata": {},
   "outputs": [],
   "source": [
    "x=bool(1)\n",
    "y=1\n",
    "print(\"type  of x is \",type(x))\n",
    "print(\"type of y is \",type(y))"
   ]
  },
  {
   "cell_type": "markdown",
   "id": "eaf8c655",
   "metadata": {},
   "source": [
    "## bytearray()"
   ]
  },
  {
   "cell_type": "code",
   "execution_count": null,
   "id": "4c945f9e",
   "metadata": {},
   "outputs": [],
   "source": [
    "x=5\n",
    "print(bytearray(x))   # can be modified"
   ]
  },
  {
   "cell_type": "markdown",
   "id": "ca11f299",
   "metadata": {},
   "source": [
    "## bytes()"
   ]
  },
  {
   "cell_type": "code",
   "execution_count": null,
   "id": "523f7d01",
   "metadata": {},
   "outputs": [],
   "source": [
    "x=4\n",
    "print(bytes(x))   # cannot modified"
   ]
  },
  {
   "cell_type": "markdown",
   "id": "10e0c55d",
   "metadata": {},
   "source": [
    "## callable()"
   ]
  },
  {
   "cell_type": "code",
   "execution_count": null,
   "id": "f08486ca",
   "metadata": {},
   "outputs": [],
   "source": [
    "def x():\n",
    "    print(\"x = \",5)\n",
    "print(callable(x))\n",
    "\n",
    "y=10\n",
    "print(callable(y))"
   ]
  },
  {
   "cell_type": "markdown",
   "id": "f4bfa29d",
   "metadata": {},
   "source": [
    "## chr()"
   ]
  },
  {
   "cell_type": "code",
   "execution_count": null,
   "id": "6be49684",
   "metadata": {},
   "outputs": [],
   "source": [
    "x=66\n",
    "print(chr(x))"
   ]
  },
  {
   "cell_type": "markdown",
   "id": "dd075713",
   "metadata": {},
   "source": [
    "##  compile()"
   ]
  },
  {
   "cell_type": "code",
   "execution_count": null,
   "id": "2ff6d4d8",
   "metadata": {},
   "outputs": [],
   "source": [
    "x = compile('print(55)', 'test', 'eval')\n",
    "exec(x)"
   ]
  },
  {
   "cell_type": "code",
   "execution_count": null,
   "id": "fef61444",
   "metadata": {},
   "outputs": [],
   "source": [
    "x = compile('print(55)\\nprint(88)', 'test', 'exec')\n",
    "exec(x)"
   ]
  },
  {
   "cell_type": "markdown",
   "id": "f842b72e",
   "metadata": {},
   "source": [
    "## eval()   \n",
    "For single expression"
   ]
  },
  {
   "cell_type": "code",
   "execution_count": null,
   "id": "100011da",
   "metadata": {},
   "outputs": [],
   "source": [
    "x=\"print(5+3)\"\n",
    "eval(x)\n",
    "\n",
    "x=\"bool(1)\"\n",
    "eval(x)"
   ]
  },
  {
   "cell_type": "markdown",
   "id": "7a7a0ebf",
   "metadata": {},
   "source": [
    "## exec()\n",
    "for multiple expression, * executes the specified Python code."
   ]
  },
  {
   "cell_type": "code",
   "execution_count": null,
   "id": "91eb31f7",
   "metadata": {},
   "outputs": [],
   "source": [
    "age=43\n",
    "x=\"if age>18:print('adult')\"\n",
    "exec(x)\n",
    "\n",
    "y='name=\"Rahul\"'\n",
    "exec(y)\n",
    "\n",
    "y='print(\"HI\")'\n",
    "eval(y)"
   ]
  },
  {
   "cell_type": "markdown",
   "id": "e4eaf525",
   "metadata": {},
   "source": [
    "## complex()"
   ]
  },
  {
   "cell_type": "code",
   "execution_count": null,
   "id": "a9cb760d",
   "metadata": {},
   "outputs": [],
   "source": [
    "x=complex(3,10)\n",
    "print(x)"
   ]
  },
  {
   "cell_type": "markdown",
   "id": "d9b4e1b9",
   "metadata": {},
   "source": [
    "## delattr()"
   ]
  },
  {
   "cell_type": "code",
   "execution_count": null,
   "id": "0ceae547",
   "metadata": {},
   "outputs": [],
   "source": [
    "class new:\n",
    "    def __init__(self):\n",
    "        self.name=\"Rahul\"\n",
    "        self.age=22\n",
    "        self.city=\"Jaipur\"\n",
    "obj1=new()\n",
    "print(obj1.name)\n",
    "print(obj1.age)\n",
    "print(obj1.city)\n",
    "\n",
    "del obj1.age\n",
    "delattr(obj1,\"city\")\n",
    "try:\n",
    "    x=obj1.city\n",
    "except AttributeError :\n",
    "    raise TypeError(\"city is not abailable\") from None\n",
    "\n"
   ]
  },
  {
   "cell_type": "markdown",
   "id": "268267ce",
   "metadata": {},
   "source": [
    "When you raise an exception inside an except block, Python automatically links the new exception to the original one.\n",
    "\n",
    "This is called implicit exception chaining, and it helps trace the full flow of what went wrong.\n",
    "\n"
   ]
  },
  {
   "cell_type": "markdown",
   "id": "aad53977",
   "metadata": {},
   "source": [
    "## dict()"
   ]
  },
  {
   "cell_type": "code",
   "execution_count": null,
   "id": "a2096134",
   "metadata": {},
   "outputs": [],
   "source": [
    "y=dict(name=\"rahul\",age=34,city=\"KOTA\")\n",
    "print(y)\n",
    "\n",
    "x=dict([(1,\"rahul\"),(2,\"maya\"),(4,\"rabbit\"),(5,\"rahul_2\")])\n",
    "print(x)"
   ]
  },
  {
   "cell_type": "markdown",
   "id": "d8433f8f",
   "metadata": {},
   "source": [
    "## divmod()"
   ]
  },
  {
   "cell_type": "markdown",
   "id": "8a11286e",
   "metadata": {},
   "source": [
    "The divmod() function returns a tuple containing the quotient  and the remainder when argument1 (dividend) is divided by argument2 (divisor)."
   ]
  },
  {
   "cell_type": "code",
   "execution_count": null,
   "id": "2db36383",
   "metadata": {},
   "outputs": [],
   "source": [
    "x = divmod(5, 2)\n",
    "x"
   ]
  },
  {
   "cell_type": "markdown",
   "id": "c3d5cec2",
   "metadata": {},
   "source": [
    "## enumerate"
   ]
  },
  {
   "cell_type": "markdown",
   "id": "730084bd",
   "metadata": {},
   "source": [
    "The enumerate() function takes a collection (e.g. a tuple) and returns it as an enumerate object.\n",
    "\n"
   ]
  },
  {
   "cell_type": "code",
   "execution_count": null,
   "id": "0965d4c6",
   "metadata": {},
   "outputs": [],
   "source": [
    "x = ('apple', 'banana', 'cherry')\n",
    "y = enumerate(x)\n",
    "# print(list(y))\n",
    "d=dict(y)\n",
    "print(d)"
   ]
  },
  {
   "cell_type": "markdown",
   "id": "213c034e",
   "metadata": {},
   "source": [
    "## format()"
   ]
  },
  {
   "cell_type": "code",
   "execution_count": null,
   "id": "371250d3",
   "metadata": {},
   "outputs": [],
   "source": [
    "x = format(0.5, '%')\n",
    "print(x)\n",
    "\n",
    "y=format(78,'b')  # binart format\n",
    "print(y)\n",
    "\n",
    "z=format(23,'X')  # hex format upper case\n",
    "print(z)\n"
   ]
  },
  {
   "cell_type": "markdown",
   "id": "ebfb5ba2",
   "metadata": {},
   "source": [
    "## getattr"
   ]
  },
  {
   "cell_type": "code",
   "execution_count": null,
   "id": "ba9284c5",
   "metadata": {},
   "outputs": [],
   "source": [
    "class Person:\n",
    "  name = \"John\"\n",
    "  age = 36\n",
    "  country = \"Norway\"\n",
    "\n",
    "x = getattr(Person, 'age')\n",
    "x"
   ]
  },
  {
   "cell_type": "markdown",
   "id": "0ad033ce",
   "metadata": {},
   "source": [
    "## setattr()"
   ]
  },
  {
   "cell_type": "code",
   "execution_count": null,
   "id": "0935c073",
   "metadata": {},
   "outputs": [],
   "source": [
    "class Person:\n",
    "  name = \"John\"\n",
    "  age = 36\n",
    "  country = \"Norway\"\n",
    "p=Person()\n",
    "setattr(Person, 'age', 40)\n",
    "print(p.age)\n",
    "setattr(Person, 'height', 20)   # to set or insert a new variable\n",
    "print(p.height)\n",
    "hasattr(Person,\"height\")  # to check the attribte has exist or not\n"
   ]
  },
  {
   "cell_type": "markdown",
   "id": "d616fb69",
   "metadata": {},
   "source": [
    "## help()"
   ]
  },
  {
   "cell_type": "code",
   "execution_count": null,
   "id": "e7f35565",
   "metadata": {},
   "outputs": [],
   "source": [
    "help(hasattr)"
   ]
  },
  {
   "cell_type": "markdown",
   "id": "0d4fa225",
   "metadata": {},
   "source": [
    "## id()"
   ]
  },
  {
   "cell_type": "code",
   "execution_count": null,
   "id": "df53361e",
   "metadata": {},
   "outputs": [],
   "source": [
    "x = ('apple', 'banana', 'cherry')\n",
    "y = id(x)\n",
    "print(y)"
   ]
  },
  {
   "cell_type": "code",
   "execution_count": null,
   "id": "06f07976",
   "metadata": {},
   "outputs": [],
   "source": [
    "help(id)"
   ]
  },
  {
   "cell_type": "code",
   "execution_count": null,
   "id": "c58016c0",
   "metadata": {},
   "outputs": [],
   "source": [
    "help(hash)"
   ]
  },
  {
   "cell_type": "markdown",
   "id": "874519ca",
   "metadata": {},
   "source": [
    "## isinstance()"
   ]
  },
  {
   "cell_type": "markdown",
   "id": "e2ca2e36",
   "metadata": {},
   "source": [
    "The isinstance() function returns True if the specified object is of the specified type, otherwise False.\n",
    "\n"
   ]
  },
  {
   "cell_type": "code",
   "execution_count": null,
   "id": "4e18f0d6",
   "metadata": {},
   "outputs": [],
   "source": [
    "x = isinstance(5, int)\n",
    "print(x)\n",
    "\n",
    "x = isinstance(\"Hello\", (float, int, str, list, dict, tuple))\n",
    "print(x)\n",
    "\n",
    "class myObj:\n",
    "  name = \"John\"\n",
    "\n",
    "y = myObj()\n",
    "\n",
    "x = isinstance(y, myObj)\n",
    "print(x)"
   ]
  },
  {
   "cell_type": "markdown",
   "id": "d34fcabc",
   "metadata": {},
   "source": [
    "## iter()"
   ]
  },
  {
   "cell_type": "code",
   "execution_count": null,
   "id": "76b3880f",
   "metadata": {},
   "outputs": [],
   "source": [
    "x = iter([\"apple\", \"banana\", \"cherry\"])\n",
    "print(next(x))\n",
    "print(next(x))\n",
    "print(next(x))"
   ]
  },
  {
   "cell_type": "markdown",
   "id": "7f940509",
   "metadata": {},
   "source": [
    "# globals()"
   ]
  },
  {
   "cell_type": "markdown",
   "id": "b9f16da4",
   "metadata": {},
   "source": [
    "The globals() function returns the global symbol table as a dictionary.\n",
    "\n",
    "A symbol table contains necessary information about the current program"
   ]
  },
  {
   "cell_type": "code",
   "execution_count": null,
   "id": "aae05909",
   "metadata": {},
   "outputs": [],
   "source": [
    "x = globals()\n",
    "print(x)"
   ]
  },
  {
   "cell_type": "code",
   "execution_count": null,
   "id": "fefbaeee",
   "metadata": {},
   "outputs": [],
   "source": [
    "print(x['__name__'])"
   ]
  },
  {
   "cell_type": "markdown",
   "id": "0bb89813",
   "metadata": {},
   "source": [
    "## map()"
   ]
  },
  {
   "cell_type": "code",
   "execution_count": null,
   "id": "3a59bd61",
   "metadata": {},
   "outputs": [],
   "source": [
    "def myfunc(a, b):\n",
    "  return a + b\n",
    "\n",
    "x = myfunc(('apple', 'banana', 'cherry'), ('orange', 'lemon', 'pineapple'))\n",
    "print(x)\n",
    "\n",
    "\n",
    "def myfunc(a, b):\n",
    "  return a + b\n",
    "\n",
    "x = map(myfunc, ('apple', 'banana', 'cherry'), ('orange', 'lemon', 'pineapple'))\n",
    "print(list(x))"
   ]
  },
  {
   "cell_type": "markdown",
   "id": "7d2af3de",
   "metadata": {},
   "source": [
    "## memoryview()"
   ]
  },
  {
   "cell_type": "code",
   "execution_count": null,
   "id": "9cbc694d",
   "metadata": {},
   "outputs": [],
   "source": [
    "x = memoryview(b\"Hello\")\n",
    "\n",
    "print(x)\n",
    "\n",
    "#return the Unicode of the first character\n",
    "print(x[0])\n",
    "\n",
    "#return the Unicode of the second character\n",
    "print(x[1])"
   ]
  },
  {
   "cell_type": "markdown",
   "id": "a3871882",
   "metadata": {},
   "source": [
    "## pow()"
   ]
  },
  {
   "cell_type": "code",
   "execution_count": null,
   "id": "4a7f0563",
   "metadata": {},
   "outputs": [],
   "source": [
    "x=pow(3,2)\n",
    "x"
   ]
  },
  {
   "cell_type": "markdown",
   "id": "718d59bc",
   "metadata": {},
   "source": [
    "## slice()"
   ]
  },
  {
   "cell_type": "code",
   "execution_count": null,
   "id": "9f5e4e31",
   "metadata": {},
   "outputs": [],
   "source": [
    "a = (\"a\", \"b\", \"c\", \"d\", \"e\", \"f\", \"g\", \"h\")\n",
    "x = slice(2)\n",
    "print(a[x])"
   ]
  },
  {
   "cell_type": "code",
   "execution_count": null,
   "id": "b6d40536",
   "metadata": {},
   "outputs": [],
   "source": [
    "a = (\"a\", \"b\", \"c\", \"d\", \"e\", \"f\", \"g\", \"h\")\n",
    "x = slice(0, 8, 3)\n",
    "print(a[x])"
   ]
  },
  {
   "cell_type": "markdown",
   "id": "182568cf",
   "metadata": {},
   "source": [
    "## vars()"
   ]
  },
  {
   "cell_type": "code",
   "execution_count": null,
   "id": "0457b39e",
   "metadata": {},
   "outputs": [],
   "source": [
    "class Person:\n",
    "    name=\"Rahul\"\n",
    "    city=\"Jaipur\"\n",
    "\n",
    "x=vars(Person)\n",
    "x"
   ]
  },
  {
   "cell_type": "markdown",
   "id": "aa570862",
   "metadata": {},
   "source": [
    "# zip()"
   ]
  },
  {
   "cell_type": "code",
   "execution_count": null,
   "id": "8ced35f8",
   "metadata": {},
   "outputs": [],
   "source": [
    "a = (\"John\", \"Charles\", \"Mike\")\n",
    "b = (\"Jenny\", \"Christy\", \"Monica\", \"Vicky\")\n",
    "\n",
    "x = zip(a, b)\n",
    "# print(list(x))\n",
    "d=dict(x)\n",
    "print(d)"
   ]
  },
  {
   "cell_type": "code",
   "execution_count": null,
   "id": "0beef3e4",
   "metadata": {},
   "outputs": [],
   "source": []
  }
 ],
 "metadata": {
  "kernelspec": {
   "display_name": "Python 3",
   "language": "python",
   "name": "python3"
  },
  "language_info": {
   "codemirror_mode": {
    "name": "ipython",
    "version": 3
   },
   "file_extension": ".py",
   "mimetype": "text/x-python",
   "name": "python",
   "nbconvert_exporter": "python",
   "pygments_lexer": "ipython3",
   "version": "3.12.8"
  }
 },
 "nbformat": 4,
 "nbformat_minor": 5
}
