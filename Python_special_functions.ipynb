{
 "cells": [
  {
   "cell_type": "markdown",
   "id": "49dfe2f2",
   "metadata": {},
   "source": [
    "## abs()"
   ]
  },
  {
   "cell_type": "code",
   "execution_count": 3,
   "id": "8afa5c74",
   "metadata": {},
   "outputs": [
    {
     "data": {
      "text/plain": [
       "6.4"
      ]
     },
     "execution_count": 3,
     "metadata": {},
     "output_type": "execute_result"
    }
   ],
   "source": [
    "x=abs(-6.4)\n",
    "x"
   ]
  },
  {
   "cell_type": "markdown",
   "id": "31dd135a",
   "metadata": {},
   "source": [
    "## all()"
   ]
  },
  {
   "cell_type": "code",
   "execution_count": 6,
   "id": "e570a242",
   "metadata": {},
   "outputs": [
    {
     "name": "stdout",
     "output_type": "stream",
     "text": [
      "True\n",
      "False\n"
     ]
    }
   ],
   "source": [
    "x=[\"apple\",\"banana\",1,5]\n",
    "print(all(x))\n",
    "\n",
    "y=[0,\"apple\",'banana',56]\n",
    "print(all(y))\n"
   ]
  },
  {
   "cell_type": "markdown",
   "id": "8f1bbb69",
   "metadata": {},
   "source": [
    "## any()"
   ]
  },
  {
   "cell_type": "code",
   "execution_count": 7,
   "id": "68815725",
   "metadata": {},
   "outputs": [
    {
     "name": "stdout",
     "output_type": "stream",
     "text": [
      "True\n"
     ]
    }
   ],
   "source": [
    "x=[0,5,3,\"Rahul\"]\n",
    "print(any(x))"
   ]
  },
  {
   "cell_type": "markdown",
   "id": "b09a6301",
   "metadata": {},
   "source": [
    "## ascii()"
   ]
  },
  {
   "cell_type": "code",
   "execution_count": 16,
   "id": "e08afd74",
   "metadata": {},
   "outputs": [
    {
     "name": "stdout",
     "output_type": "stream",
     "text": [
      "333445\n",
      "'my name is rahul'\n",
      "'This is not a Ascii character \\xe5'\n"
     ]
    }
   ],
   "source": [
    "x=333445\n",
    "print(ascii(x))\n",
    "\n",
    "y=\"my name is rahul\"\n",
    "print(ascii(y))\n",
    "\n",
    "z=\"This is not a Ascii character å\"\n",
    "print(ascii(z))"
   ]
  },
  {
   "cell_type": "markdown",
   "id": "bb16dc7f",
   "metadata": {},
   "source": [
    "## bin()"
   ]
  },
  {
   "cell_type": "code",
   "execution_count": 19,
   "id": "1c6c236e",
   "metadata": {},
   "outputs": [
    {
     "name": "stdout",
     "output_type": "stream",
     "text": [
      "0b100010\n"
     ]
    }
   ],
   "source": [
    "x=34\n",
    "print(bin(x))"
   ]
  },
  {
   "cell_type": "markdown",
   "id": "ee9b70f9",
   "metadata": {},
   "source": [
    "## bool()"
   ]
  },
  {
   "cell_type": "code",
   "execution_count": 20,
   "id": "ea9a1acb",
   "metadata": {},
   "outputs": [
    {
     "name": "stdout",
     "output_type": "stream",
     "text": [
      "type  of x is  <class 'bool'>\n",
      "type of y is  <class 'int'>\n"
     ]
    }
   ],
   "source": [
    "x=bool(1)\n",
    "y=1\n",
    "print(\"type  of x is \",type(x))\n",
    "print(\"type of y is \",type(y))"
   ]
  },
  {
   "cell_type": "markdown",
   "id": "eaf8c655",
   "metadata": {},
   "source": [
    "## bytearray()"
   ]
  },
  {
   "cell_type": "code",
   "execution_count": 26,
   "id": "4c945f9e",
   "metadata": {},
   "outputs": [
    {
     "name": "stdout",
     "output_type": "stream",
     "text": [
      "bytearray(b'\\x00\\x00\\x00\\x00\\x00')\n"
     ]
    }
   ],
   "source": [
    "x=5\n",
    "print(bytearray(x))   # can be modified"
   ]
  },
  {
   "cell_type": "markdown",
   "id": "ca11f299",
   "metadata": {},
   "source": [
    "## bytes()"
   ]
  },
  {
   "cell_type": "code",
   "execution_count": 27,
   "id": "523f7d01",
   "metadata": {},
   "outputs": [
    {
     "name": "stdout",
     "output_type": "stream",
     "text": [
      "b'\\x00\\x00\\x00\\x00'\n"
     ]
    }
   ],
   "source": [
    "x=4\n",
    "print(bytes(x))   # cannot modified"
   ]
  },
  {
   "cell_type": "markdown",
   "id": "10e0c55d",
   "metadata": {},
   "source": [
    "## callable()"
   ]
  },
  {
   "cell_type": "code",
   "execution_count": null,
   "id": "f08486ca",
   "metadata": {},
   "outputs": [
    {
     "name": "stdout",
     "output_type": "stream",
     "text": [
      "True\n",
      "False\n"
     ]
    }
   ],
   "source": [
    "def x():\n",
    "    print(\"x = \",5)\n",
    "print(callable(x))\n",
    "\n",
    "y=10\n",
    "print(callable(y))"
   ]
  },
  {
   "cell_type": "markdown",
   "id": "f4bfa29d",
   "metadata": {},
   "source": [
    "## chr()"
   ]
  },
  {
   "cell_type": "code",
   "execution_count": 38,
   "id": "6be49684",
   "metadata": {},
   "outputs": [
    {
     "name": "stdout",
     "output_type": "stream",
     "text": [
      "B\n"
     ]
    }
   ],
   "source": [
    "x=66\n",
    "print(chr(x))"
   ]
  },
  {
   "cell_type": "markdown",
   "id": "dd075713",
   "metadata": {},
   "source": [
    "##  compile()"
   ]
  },
  {
   "cell_type": "code",
   "execution_count": 48,
   "id": "2ff6d4d8",
   "metadata": {},
   "outputs": [
    {
     "name": "stdout",
     "output_type": "stream",
     "text": [
      "55\n"
     ]
    }
   ],
   "source": [
    "x = compile('print(55)', 'test', 'eval')\n",
    "exec(x)"
   ]
  },
  {
   "cell_type": "code",
   "execution_count": 49,
   "id": "fef61444",
   "metadata": {},
   "outputs": [
    {
     "name": "stdout",
     "output_type": "stream",
     "text": [
      "55\n",
      "88\n"
     ]
    }
   ],
   "source": [
    "x = compile('print(55)\\nprint(88)', 'test', 'exec')\n",
    "exec(x)"
   ]
  },
  {
   "cell_type": "markdown",
   "id": "f842b72e",
   "metadata": {},
   "source": [
    "## eval()   \n",
    "For single expression"
   ]
  },
  {
   "cell_type": "code",
   "execution_count": 54,
   "id": "100011da",
   "metadata": {},
   "outputs": [
    {
     "name": "stdout",
     "output_type": "stream",
     "text": [
      "8\n"
     ]
    },
    {
     "data": {
      "text/plain": [
       "True"
      ]
     },
     "execution_count": 54,
     "metadata": {},
     "output_type": "execute_result"
    }
   ],
   "source": [
    "x=\"print(5+3)\"\n",
    "eval(x)\n",
    "\n",
    "x=\"bool(1)\"\n",
    "eval(x)"
   ]
  },
  {
   "cell_type": "markdown",
   "id": "7a7a0ebf",
   "metadata": {},
   "source": [
    "## exec()\n",
    "for multiple expression, * executes the specified Python code."
   ]
  },
  {
   "cell_type": "code",
   "execution_count": 76,
   "id": "91eb31f7",
   "metadata": {},
   "outputs": [
    {
     "name": "stdout",
     "output_type": "stream",
     "text": [
      "adult\n",
      "HI\n"
     ]
    }
   ],
   "source": [
    "age=43\n",
    "x=\"if age>18:print('adult')\"\n",
    "exec(x)\n",
    "\n",
    "y='name=\"Rahul\"'\n",
    "exec(y)\n",
    "\n",
    "y='print(\"HI\")'\n",
    "eval(y)"
   ]
  },
  {
   "cell_type": "markdown",
   "id": "e4eaf525",
   "metadata": {},
   "source": [
    "## complex()"
   ]
  },
  {
   "cell_type": "code",
   "execution_count": 77,
   "id": "a9cb760d",
   "metadata": {},
   "outputs": [
    {
     "name": "stdout",
     "output_type": "stream",
     "text": [
      "(3+10j)\n"
     ]
    }
   ],
   "source": [
    "x=complex(3,10)\n",
    "print(x)"
   ]
  },
  {
   "cell_type": "markdown",
   "id": "d9b4e1b9",
   "metadata": {},
   "source": [
    "## delattr()"
   ]
  },
  {
   "cell_type": "code",
   "execution_count": 106,
   "id": "0ceae547",
   "metadata": {},
   "outputs": [
    {
     "name": "stdout",
     "output_type": "stream",
     "text": [
      "Rahul\n",
      "22\n",
      "Jaipur\n"
     ]
    },
    {
     "ename": "TypeError",
     "evalue": "city is not abailable",
     "output_type": "error",
     "traceback": [
      "\u001b[1;31m---------------------------------------------------------------------------\u001b[0m",
      "\u001b[1;31mTypeError\u001b[0m                                 Traceback (most recent call last)",
      "Cell \u001b[1;32mIn[106], line 16\u001b[0m\n\u001b[0;32m     14\u001b[0m     x\u001b[38;5;241m=\u001b[39mobj1\u001b[38;5;241m.\u001b[39mcity\n\u001b[0;32m     15\u001b[0m \u001b[38;5;28;01mexcept\u001b[39;00m \u001b[38;5;167;01mAttributeError\u001b[39;00m :\n\u001b[1;32m---> 16\u001b[0m     \u001b[38;5;28;01mraise\u001b[39;00m \u001b[38;5;167;01mTypeError\u001b[39;00m(\u001b[38;5;124m\"\u001b[39m\u001b[38;5;124mcity is not abailable\u001b[39m\u001b[38;5;124m\"\u001b[39m) \u001b[38;5;28;01mfrom\u001b[39;00m\u001b[38;5;250m \u001b[39m\u001b[38;5;28;01mNone\u001b[39;00m\n",
      "\u001b[1;31mTypeError\u001b[0m: city is not abailable"
     ]
    }
   ],
   "source": [
    "class new:\n",
    "    def __init__(self):\n",
    "        self.name=\"Rahul\"\n",
    "        self.age=22\n",
    "        self.city=\"Jaipur\"\n",
    "obj1=new()\n",
    "print(obj1.name)\n",
    "print(obj1.age)\n",
    "print(obj1.city)\n",
    "\n",
    "del obj1.age\n",
    "delattr(obj1,\"city\")\n",
    "try:\n",
    "    x=obj1.city\n",
    "except AttributeError :\n",
    "    raise TypeError(\"city is not abailable\") from None\n",
    "\n"
   ]
  },
  {
   "cell_type": "markdown",
   "id": "268267ce",
   "metadata": {},
   "source": [
    "When you raise an exception inside an except block, Python automatically links the new exception to the original one.\n",
    "\n",
    "This is called implicit exception chaining, and it helps trace the full flow of what went wrong.\n",
    "\n"
   ]
  },
  {
   "cell_type": "markdown",
   "id": "aad53977",
   "metadata": {},
   "source": [
    "## dict()"
   ]
  },
  {
   "cell_type": "code",
   "execution_count": 117,
   "id": "a2096134",
   "metadata": {},
   "outputs": [
    {
     "name": "stdout",
     "output_type": "stream",
     "text": [
      "{'name': 'rahul', 'age': 34, 'city': 'KOTA'}\n",
      "{1: 'rahul', 2: 'maya', 4: 'rabbit', 5: 'rahul_2'}\n"
     ]
    }
   ],
   "source": [
    "y=dict(name=\"rahul\",age=34,city=\"KOTA\")\n",
    "print(y)\n",
    "\n",
    "x=dict([(1,\"rahul\"),(2,\"maya\"),(4,\"rabbit\"),(5,\"rahul_2\")])\n",
    "print(x)"
   ]
  },
  {
   "cell_type": "markdown",
   "id": "d8433f8f",
   "metadata": {},
   "source": [
    "## divmod()"
   ]
  },
  {
   "cell_type": "markdown",
   "id": "8a11286e",
   "metadata": {},
   "source": [
    "The divmod() function returns a tuple containing the quotient  and the remainder when argument1 (dividend) is divided by argument2 (divisor)."
   ]
  },
  {
   "cell_type": "code",
   "execution_count": 119,
   "id": "2db36383",
   "metadata": {},
   "outputs": [
    {
     "data": {
      "text/plain": [
       "(2, 1)"
      ]
     },
     "execution_count": 119,
     "metadata": {},
     "output_type": "execute_result"
    }
   ],
   "source": [
    "x = divmod(5, 2)\n",
    "x"
   ]
  },
  {
   "cell_type": "markdown",
   "id": "c3d5cec2",
   "metadata": {},
   "source": [
    "## enumerate"
   ]
  },
  {
   "cell_type": "markdown",
   "id": "730084bd",
   "metadata": {},
   "source": [
    "The enumerate() function takes a collection (e.g. a tuple) and returns it as an enumerate object.\n",
    "\n"
   ]
  },
  {
   "cell_type": "code",
   "execution_count": 132,
   "id": "0965d4c6",
   "metadata": {},
   "outputs": [
    {
     "name": "stdout",
     "output_type": "stream",
     "text": [
      "{0: 'apple', 1: 'banana', 2: 'cherry'}\n"
     ]
    }
   ],
   "source": [
    "x = ('apple', 'banana', 'cherry')\n",
    "y = enumerate(x)\n",
    "# print(list(y))\n",
    "d=dict(y)\n",
    "print(d)"
   ]
  },
  {
   "cell_type": "markdown",
   "id": "213c034e",
   "metadata": {},
   "source": [
    "## format()"
   ]
  },
  {
   "cell_type": "code",
   "execution_count": 139,
   "id": "371250d3",
   "metadata": {},
   "outputs": [
    {
     "name": "stdout",
     "output_type": "stream",
     "text": [
      "50.000000%\n",
      "1001110\n",
      "17\n"
     ]
    }
   ],
   "source": [
    "x = format(0.5, '%')\n",
    "print(x)\n",
    "\n",
    "y=format(78,'b')  # binart format\n",
    "print(y)\n",
    "\n",
    "z=format(23,'X')  # hex format upper case\n",
    "print(z)\n"
   ]
  },
  {
   "cell_type": "markdown",
   "id": "ebfb5ba2",
   "metadata": {},
   "source": [
    "## getattr"
   ]
  },
  {
   "cell_type": "code",
   "execution_count": 141,
   "id": "ba9284c5",
   "metadata": {},
   "outputs": [
    {
     "data": {
      "text/plain": [
       "36"
      ]
     },
     "execution_count": 141,
     "metadata": {},
     "output_type": "execute_result"
    }
   ],
   "source": [
    "class Person:\n",
    "  name = \"John\"\n",
    "  age = 36\n",
    "  country = \"Norway\"\n",
    "\n",
    "x = getattr(Person, 'age')\n",
    "x"
   ]
  },
  {
   "cell_type": "markdown",
   "id": "0ad033ce",
   "metadata": {},
   "source": [
    "## setattr()"
   ]
  },
  {
   "cell_type": "code",
   "execution_count": 149,
   "id": "0935c073",
   "metadata": {},
   "outputs": [
    {
     "name": "stdout",
     "output_type": "stream",
     "text": [
      "40\n",
      "20\n"
     ]
    },
    {
     "data": {
      "text/plain": [
       "True"
      ]
     },
     "execution_count": 149,
     "metadata": {},
     "output_type": "execute_result"
    }
   ],
   "source": [
    "class Person:\n",
    "  name = \"John\"\n",
    "  age = 36\n",
    "  country = \"Norway\"\n",
    "p=Person()\n",
    "setattr(Person, 'age', 40)\n",
    "print(p.age)\n",
    "setattr(Person, 'height', 20)   # to set or insert a new variable\n",
    "print(p.height)\n",
    "hasattr(Person,\"height\")  # to check the attribte has exist or not\n"
   ]
  },
  {
   "cell_type": "markdown",
   "id": "d616fb69",
   "metadata": {},
   "source": [
    "## help()"
   ]
  },
  {
   "cell_type": "code",
   "execution_count": 156,
   "id": "e7f35565",
   "metadata": {},
   "outputs": [
    {
     "name": "stdout",
     "output_type": "stream",
     "text": [
      "Help on built-in function hasattr in module builtins:\n",
      "\n",
      "hasattr(obj, name, /)\n",
      "    Return whether the object has an attribute with the given name.\n",
      "\n",
      "    This is done by calling getattr(obj, name) and catching AttributeError.\n",
      "\n"
     ]
    }
   ],
   "source": [
    "help(hasattr)"
   ]
  },
  {
   "cell_type": "markdown",
   "id": "0d4fa225",
   "metadata": {},
   "source": [
    "## id()"
   ]
  },
  {
   "cell_type": "code",
   "execution_count": 158,
   "id": "df53361e",
   "metadata": {},
   "outputs": [
    {
     "name": "stdout",
     "output_type": "stream",
     "text": [
      "2957992945472\n"
     ]
    }
   ],
   "source": [
    "x = ('apple', 'banana', 'cherry')\n",
    "y = id(x)\n",
    "print(y)"
   ]
  },
  {
   "cell_type": "code",
   "execution_count": 159,
   "id": "06f07976",
   "metadata": {},
   "outputs": [
    {
     "name": "stdout",
     "output_type": "stream",
     "text": [
      "Help on built-in function id in module builtins:\n",
      "\n",
      "id(obj, /)\n",
      "    Return the identity of an object.\n",
      "\n",
      "    This is guaranteed to be unique among simultaneously existing objects.\n",
      "    (CPython uses the object's memory address.)\n",
      "\n"
     ]
    }
   ],
   "source": [
    "help(id)"
   ]
  },
  {
   "cell_type": "code",
   "execution_count": 161,
   "id": "c58016c0",
   "metadata": {},
   "outputs": [
    {
     "name": "stdout",
     "output_type": "stream",
     "text": [
      "Help on built-in function hash in module builtins:\n",
      "\n",
      "hash(obj, /)\n",
      "    Return the hash value for the given object.\n",
      "\n",
      "    Two objects that compare equal must also have the same hash value, but the\n",
      "    reverse is not necessarily true.\n",
      "\n"
     ]
    }
   ],
   "source": [
    "help(hash)"
   ]
  },
  {
   "cell_type": "markdown",
   "id": "874519ca",
   "metadata": {},
   "source": [
    "## isinstance()"
   ]
  },
  {
   "cell_type": "markdown",
   "id": "e2ca2e36",
   "metadata": {},
   "source": [
    "The isinstance() function returns True if the specified object is of the specified type, otherwise False.\n",
    "\n"
   ]
  },
  {
   "cell_type": "code",
   "execution_count": 166,
   "id": "4e18f0d6",
   "metadata": {},
   "outputs": [
    {
     "name": "stdout",
     "output_type": "stream",
     "text": [
      "True\n",
      "True\n",
      "True\n"
     ]
    }
   ],
   "source": [
    "x = isinstance(5, int)\n",
    "print(x)\n",
    "\n",
    "x = isinstance(\"Hello\", (float, int, str, list, dict, tuple))\n",
    "print(x)\n",
    "\n",
    "class myObj:\n",
    "  name = \"John\"\n",
    "\n",
    "y = myObj()\n",
    "\n",
    "x = isinstance(y, myObj)\n",
    "print(x)"
   ]
  },
  {
   "cell_type": "markdown",
   "id": "d34fcabc",
   "metadata": {},
   "source": [
    "## iter()"
   ]
  },
  {
   "cell_type": "code",
   "execution_count": 167,
   "id": "76b3880f",
   "metadata": {},
   "outputs": [
    {
     "name": "stdout",
     "output_type": "stream",
     "text": [
      "apple\n",
      "banana\n",
      "cherry\n"
     ]
    }
   ],
   "source": [
    "x = iter([\"apple\", \"banana\", \"cherry\"])\n",
    "print(next(x))\n",
    "print(next(x))\n",
    "print(next(x))"
   ]
  },
  {
   "cell_type": "markdown",
   "id": "7f940509",
   "metadata": {},
   "source": [
    "# globals()"
   ]
  },
  {
   "cell_type": "markdown",
   "id": "b9f16da4",
   "metadata": {},
   "source": [
    "The globals() function returns the global symbol table as a dictionary.\n",
    "\n",
    "A symbol table contains necessary information about the current program"
   ]
  },
  {
   "cell_type": "code",
   "execution_count": 168,
   "id": "aae05909",
   "metadata": {},
   "outputs": [
    {
     "name": "stdout",
     "output_type": "stream",
     "text": [
      "{'__name__': '__main__', '__doc__': 'Automatically created module for IPython interactive environment', '__package__': None, '__loader__': None, '__spec__': None, '__builtin__': <module 'builtins' (built-in)>, '__builtins__': <module 'builtins' (built-in)>, '_ih': ['', 'x=abs(6.4)', 'x=abs(6.4)\\nx', 'x=abs(-6.4)\\nx', 'x=[\"apple\",\"banana\",1,5]\\nx', 'x=[\"apple\",\"banana\",1,5]\\nall(x)', 'x=[\"apple\",\"banana\",1,5]\\nprint(all(x))\\n\\ny=[0,\"apple\",\\'banana\\',56]\\nprint(all(y))', 'x=[0,5,3,\"Rahul\"]\\nprint(any(x))', '## ascii', 'x=333445\\nprint(ascii(x))', 'x=333445\\nprint(ascii(x))\\n\\ny=\"my name is rahul\"\\nprint(ascii(y))', 'x=333445\\nprint(ascii(x))\\n\\ny=\"my name is rahul 0\"\\nprint(ascii(y))', 'x=333445\\nprint(ascii(x))\\n\\ny=\"my name is rahul\"\\nprint(ascii(y))\\n\\nz=\"This is not a Ascii character ~\"\\nprint(ascii(z))', 'x=333445\\nprint(ascii(x))\\n\\ny=\"my name is rahul\"\\nprint(ascii(y))\\n\\nz=\"This is not a Ascii character )\"\\nprint(ascii(z))', 'x=333445\\nprint(ascii(x))\\n\\ny=\"my name is rahul\"\\nprint(ascii(y))\\n\\nz=\"This is not a Ascii character ^\"\\nprint(ascii(z))', 'x=333445\\nprint(ascii(x))\\n\\ny=\"my name is rahul\"\\nprint(ascii(y))\\n\\nz=\"This is not a Ascii character $\"\\nprint(ascii(z))', 'x=333445\\nprint(ascii(x))\\n\\ny=\"my name is rahul\"\\nprint(ascii(y))\\n\\nz=\"This is not a Ascii character å\"\\nprint(ascii(z))', 'x=90\\nprint(bin(x))', 'x=5\\nprint(bin(x))', 'x=34\\nprint(bin(x))', 'x=bool(1)\\ny=1\\nprint(\"type  of x is \",type(x))\\nprint(\"type of y is \",type(y))', 'x=[\"Rahul\",\"Riksha\",\"Rajwada\"]\\nprint(bytearray(x))', 'x=\"rahul\"\\nprint(bytearray(x))', 'x=30\\nprint(bytearray(x))', 'x=5\\nprint(bytearray(x))', 'x=4\\nprint(bytes(x))', 'x=5\\nprint(bytearray(x))   # can be modified', 'x=4\\nprint(bytes(x))   # cannot modified', 'def x():\\n    print(\"x = \",5)\\nprint(callable(x))', 'def x():\\n    print(\"x = \",5)\\nprint(callable(x))\\n\\ny=10\\nprint(callable(y))', 'x=97\\nprint(chr(x))', 'x=91\\nprint(chr(x))', 'x=96\\nprint(chr(x))', 'x=48\\nprint(chr(x))', 'x=56\\nprint(chr(x))', 'x=63\\nprint(chr(x))', 'x=64\\nprint(chr(x))', 'x=65\\nprint(chr(x))', 'x=66\\nprint(chr(x))', 'class B:\\n    def new():\\n        print(\"this is new method\")\\nobj=B()\\ndef old():\\n    print(\"this is old class\")\\nclassmethod(old)', 'class B:\\n    def new():\\n        print(\"this is new method\")\\nobj=B()\\ndef old():\\n    print(\"this is old class\")\\nclassmethod(old)\\n\\nB.old', 'class B:\\n    def new():\\n        print(\"this is new method\")\\nobj=B()\\ndef old():\\n    print(\"this is old class\")\\nclassmethod(old)\\n\\nB.old()', 'class B:\\n    def new():\\n        print(\"this is new method\")\\nobj=B()\\ndef old():\\n    print(\"this is old class\")\\nclassmethod(B,old)', 'x=[2,3,6,\"new\"]\\nprint(compile(x))', \"x = compile('print(55)', 'test', 'eval')\\nexec(x)\", 'x=2,3,6,\"new\"\\nprint(compile(x))', 'print(compile(2,3,6,\"new\"))', 'print(compile(\"new\"))', \"x = compile('print(55)', 'test', 'eval')\\nexec(x)\", \"x = compile('print(55)\\\\nprint(88)', 'test', 'exec')\\nexec(x)\", 'x=\"print(5+3)\"\\neval(x)', 'x=\"print(5+3)\"\\neval(x)\\nprint(hi)', 'x=\"print(5+3)\"\\neval(x)\\nprint(\"hi\")', 'x=\"print(5+3)\"\\neval(x)\\n\\nx=\"bool(1)\"\\neval(X)', 'x=\"print(5+3)\"\\neval(x)\\n\\nx=\"bool(1)\"\\neval(x)', 'x=\"my name=Rahul and my age=45 \\\\nprint(name)\\\\nprint(age)\\\\nif age>18:print(adult)\"', 'x=\"my name=Rahul and my age=45 \\\\nprint(name)\\\\nprint(age)\\\\nif age>18:print(adult)\"\\nexec(x)', 'x=\"my name=\"Rahul\" and my age=45 \\\\nprint(name)\\\\nprint(age)\\\\nif age>18:print(adult)\"\\nexec(x)', 'x=\"my name=\\'Rahul\\' and my age=45 \\\\nprint(name)\\\\nprint(age)\\\\nif age>18:print(adult)\"\\nexec(x)', 'x=\"my name=\\'Rahul\\'\\\\nprint(name)\"\\nexec(x)', 'x=\"name=\\'Rahul\\'\\\\nprint(name)\"\\nexec(x)', 'x=\"name=\\'Rahul\\' and my age=45 \\\\nprint(name)\\\\nprint(age)\\\\nif age>18:print(adult)\"\\nexec(x)', 'x=\"name=\\'Rahul\\' and age=45 \\\\nprint(name)\\\\nprint(age)\\\\nif age>18:print(adult)\"\\nexec(x)', 'age=43\\nx=\"if age>18:print(adult)\"\\nexec(x)', 'age=43\\nx=\"if age>18:print(\"adult\")\"\\nexec(x)', 'age=43\\nx=\"if age>18:print(\\'adult\\')\"\\nexec(x)', 'age=43\\nx=\"if age>18:print(\\'adult\\')\"\\neval(x)', 'age=43\\nx=\"if age>18:print(\\'adult\\')\"\\nexec(x)\\n\\ny=\\'name=\"Rahul\\'\\neval(y)', 'age=43\\nx=\"if age>18:print(\\'adult\\')\"\\nexec(x)\\n\\ny=\\'name=\"Rahul\\'\\neexc(y)', 'age=43\\nx=\"if age>18:print(\\'adult\\')\"\\nexec(x)\\n\\ny=\\'name=\"Rahul\\'\\nexec(y)', 'age=43\\nx=\"if age>18:print(\\'adult\\')\"\\nexec(x)\\n\\ny=\\'name=\"Rahul\"\\'\\nexec(y)', 'age=43\\nx=\"if age>18:print(\\'adult\\')\"\\nexec(x)\\n\\ny=\\'name=\"Rahul\"\\'\\neval(y)', 'age=43\\nx=\"if age>18:print(\\'adult\\')\"\\nexec(x)\\n\\ny=\\'name=\"Rahul\"\\'\\nexec(y)', 'age=43\\nx=\"if age>18:print(\\'adult\\')\"\\nexec(x)\\n\\ny=\\'name=\"Rahul\"\\'\\neval(y)', 'age=43\\nx=\"if age>18:print(\\'adult\\')\"\\nexec(x)\\n\\ny=\\'name=\"Rahul\"\\'\\nexec(y)\\n\\ny=\\'if True:print(\"HI\")\\'\\nexec(y)', 'age=43\\nx=\"if age>18:print(\\'adult\\')\"\\nexec(x)\\n\\ny=\\'name=\"Rahul\"\\'\\nexec(y)\\n\\ny=\\'if True:print(\"HI\")\\'\\neval(y)', 'age=43\\nx=\"if age>18:print(\\'adult\\')\"\\nexec(x)\\n\\ny=\\'name=\"Rahul\"\\'\\nexec(y)\\n\\ny=\\'print(\"HI\")\\'\\neval(y)', 'x=complex(3,10)\\nprint(x)', 'class new:\\n    def __init__(self):\\n        self.name=\"Rahul\"\\n        self.age=22\\n        self.city=\"Jaipur\"\\nobj1=new()\\nprint(obj1.name)', 'class new:\\n    def __init__(self):\\n        self.name=\"Rahul\"\\n        self.age=22\\n        self.city=\"Jaipur\"\\nobj1=new()\\nprint(obj1.name)\\nprint(obj1.age)', 'class new:\\n    def __init__(self):\\n        self.name=\"Rahul\"\\n        self.age=22\\n        self.city=\"Jaipur\"\\nobj1=new()\\nprint(obj1.name)\\nprint(obj1.age)\\nprint(obj1.city)', 'class new:\\n    def __init__(self):\\n        self.name=\"Rahul\"\\n        self.age=22\\n        self.city=\"Jaipur\"\\nobj1=new()\\nprint(obj1.name)\\nprint(obj1.age)\\nprint(obj1.city)\\n\\ndelattr(new,\"city\")', 'class new:\\n    def __init__(self):\\n        self.name=\"Rahul\"\\n        self.age=22\\n        self.city=\"Jaipur\"\\nobj1=new()\\nprint(obj1.name)\\nprint(obj1.age)\\nprint(obj1.city)\\n\\ndel obj1.age', 'class new:\\n    def __init__(self):\\n        self.name=\"Rahul\"\\n        self.age=22\\n        self.city=\"Jaipur\"\\nobj1=new()\\nprint(obj1.name)\\nprint(obj1.age)\\nprint(obj1.city)\\n\\ndel obj1.age\\nprint(obj1.age)', 'class new:\\n    def __init__(self):\\n        self.name=\"Rahul\"\\n        self.age=22\\n        self.city=\"Jaipur\"\\nobj1=new()\\nprint(obj1.name)\\nprint(obj1.age)\\nprint(obj1.city)\\n\\ndel obj1.age\\ndelattr(new,age)', 'class new:\\n    def __init__(self):\\n        self.name=\"Rahul\"\\n        self.age=22\\n        self.city=\"Jaipur\"\\nobj1=new()\\nprint(obj1.name)\\nprint(obj1.age)\\nprint(obj1.city)\\n\\ndel obj1.age\\ndelattr(new,\"age\")', 'class new:\\n    def __init__(self):\\n        self.name=\"Rahul\"\\n        self.age=22\\n        self.city=\"Jaipur\"\\nobj1=new()\\nprint(obj1.name)\\nprint(obj1.age)\\nprint(obj1.city)\\n\\ndel obj1.age\\ndelattr(new,\"city\")', 'class new:\\n    def __init__(self):\\n        self.name=\"Rahul\"\\n        self.age=22\\n        self.city=\"Jaipur\"\\nobj1=new()\\nprint(obj1.name)\\nprint(obj1.age)\\nprint(obj1.city)\\n\\ndel obj1.age\\ndelattr(obj1,\"city\")', 'class new:\\n    def __init__(self):\\n        self.name=\"Rahul\"\\n        self.age=22\\n        self.city=\"Jaipur\"\\nobj1=new()\\nprint(obj1.name)\\nprint(obj1.age)\\nprint(obj1.city)\\n\\ndel obj1.age\\ndelattr(obj1,\"city\")\\nprint(obj1.city)', 'class new:\\n    def __init__(self):\\n        self.name=\"Rahul\"\\n        self.age=22\\n        self.city=\"Jaipur\"\\nobj1=new()\\nprint(obj1.name)\\nprint(obj1.age)\\nprint(obj1.city)\\n\\ndel obj1.age\\ndelattr(obj1,\"city\")\\nif obj1.city is False:\\n    raise(\"ArithmeticError\",)', 'class new:\\n    def __init__(self):\\n        self.name=\"Rahul\"\\n        self.age=22\\n        self.city=\"Jaipur\"\\nobj1=new()\\nprint(obj1.name)\\nprint(obj1.age)\\nprint(obj1.city)\\n\\ndel obj1.age\\ndelattr(obj1,\"city\")\\nif obj1.city is False:\\n    raise(\"ArithmeticError\")', 'class new:\\n    def __init__(self):\\n        self.name=\"Rahul\"\\n        self.age=22\\n        self.city=\"Jaipur\"\\nobj1=new()\\nprint(obj1.name)\\nprint(obj1.age)\\nprint(obj1.city)\\n\\ndel obj1.age\\ndelattr(obj1,\"city\")\\nif obj1.city is False:\\n    raise(\"ArithmeticError\")', 'class new:\\n    def __init__(self):\\n        self.name=\"Rahul\"\\n        self.age=22\\n        self.city=\"Jaipur\"\\nobj1=new()\\nprint(obj1.name)\\nprint(obj1.age)\\nprint(obj1.city)\\n\\ndel obj1.age\\ndelattr(obj1,\"city\")\\ntry:\\n    print(obj1.city)\\nexcept:\\n    raise(\"inputerror\",\"city is not abailable\")', 'class new:\\n    def __init__(self):\\n        self.name=\"Rahul\"\\n        self.age=22\\n        self.city=\"Jaipur\"\\nobj1=new()\\nprint(obj1.name)\\nprint(obj1.age)\\nprint(obj1.city)\\n\\ndel obj1.age\\ndelattr(obj1,\"city\")\\ntry:\\n    print(obj1.city)\\nexcept:\\n    raise(\"AttributeError\",\"city is not abailable\")', 'class new:\\n    def __init__(self):\\n        self.name=\"Rahul\"\\n        self.age=22\\n        self.city=\"Jaipur\"\\nobj1=new()\\nprint(obj1.name)\\nprint(obj1.age)\\nprint(obj1.city)\\n\\ndel obj1.age\\ndelattr(obj1,\"city\")\\ntry:\\n    print(obj1.city)\\nexcept:\\n    raise TypeError(\"city is not abailable\")', 'class new:\\n    def __init__(self):\\n        self.name=\"Rahul\"\\n        self.age=22\\n        self.city=\"Jaipur\"\\nobj1=new()\\nprint(obj1.name)\\nprint(obj1.age)\\nprint(obj1.city)\\n\\ndel obj1.age\\ndelattr(obj1,\"city\")\\ntry:\\n    print(obj1.city)\\nexcept:\\n    raise Exception(\"city is not abailable\")', 'class new:\\n    def __init__(self):\\n        self.name=\"Rahul\"\\n        self.age=22\\n        self.city=\"Jaipur\"\\nobj1=new()\\nprint(obj1.name)\\nprint(obj1.age)\\nprint(obj1.city)\\n\\ndel obj1.age\\ndelattr(obj1,\"city\")\\ntry:\\n    print(obj1.age)\\nexcept:\\n    raise Exception(\"city is not abailable\")', 'class new:\\n    def __init__(self):\\n        self.name=\"Rahul\"\\n        self.age=22\\n        self.city=\"Jaipur\"\\nobj1=new()\\nprint(obj1.name)\\nprint(obj1.age)\\nprint(obj1.city)\\n\\ndel obj1.age\\ndelattr(obj1,\"city\")\\ntry:\\n    print(obj1.name)\\nexcept:\\n    raise Exception(\"city is not abailable\")', 'class new:\\n    def __init__(self):\\n        self.name=\"Rahul\"\\n        self.age=22\\n        self.city=\"Jaipur\"\\nobj1=new()\\nprint(obj1.name)\\nprint(obj1.age)\\nprint(obj1.city)\\n\\ndel obj1.age\\ndelattr(obj1,\"city\")\\ntry:\\n    print(obj1.city)\\nexcept:\\n    raise Exception(\"city is not abailable\")', 'class new:\\n    def __init__(self):\\n        self.name=\"Rahul\"\\n        self.age=22\\n        self.city=\"Jaipur\"\\nobj1=new()\\nprint(obj1.name)\\nprint(obj1.age)\\nprint(obj1.city)\\n\\ndel obj1.age\\ndelattr(obj1,\"city\")\\ntry:\\n    print(obj1.city)\\nexcept:\\n    raise AttributeError(\"city is not abailable\")', 'class new:\\n    def __init__(self):\\n        self.name=\"Rahul\"\\n        self.age=22\\n        self.city=\"Jaipur\"\\nobj1=new()\\nprint(obj1.name)\\nprint(obj1.age)\\nprint(obj1.city)\\n\\ndel obj1.age\\ndelattr(obj1,\"city\")\\ntry:\\n    x=obj1.city\\nexcept:\\n    raise AttributeError(\"city is not abailable\")', 'class new:\\n    def __init__(self):\\n        self.name=\"Rahul\"\\n        self.age=22\\n        self.city=\"Jaipur\"\\nobj1=new()\\nprint(obj1.name)\\nprint(obj1.age)\\nprint(obj1.city)\\n\\ndel obj1.age\\ndelattr(obj1,\"city\")\\ntry:\\n    x=obj1.city\\nexcept AttributeError:\\n    raise AttributeError(\"city is not abailable\")', 'class new:\\n    def __init__(self):\\n        self.name=\"Rahul\"\\n        self.age=22\\n        self.city=\"Jaipur\"\\nobj1=new()\\nprint(obj1.name)\\nprint(obj1.age)\\nprint(obj1.city)\\n\\ndel obj1.age\\ndelattr(obj1,\"city\")\\ntry:\\n    x=obj1.city\\nexcept :\\n    raise TypeError(\"city is not abailable\")', 'class new:\\n    def __init__(self):\\n        self.name=\"Rahul\"\\n        self.age=22\\n        self.city=\"Jaipur\"\\nobj1=new()\\nprint(obj1.name)\\nprint(obj1.age)\\nprint(obj1.city)\\n\\ndel obj1.age\\ndelattr(obj1,\"city\")\\ntry:\\n    x=obj1.city\\nexcept AttributeError :\\n    raise TypeError(\"city is not abailable\")', 'class new:\\n    def __init__(self):\\n        self.name=\"Rahul\"\\n        self.age=22\\n        self.city=\"Jaipur\"\\nobj1=new()\\nprint(obj1.name)\\nprint(obj1.age)\\nprint(obj1.city)\\n\\ndel obj1.age\\ndelattr(obj1,\"city\")\\ntry:\\n    x=obj1.city\\nexcept AttributeError :\\n    raise TypeError(\"city is not abailable\") from None', 'import sys\\nclass new:\\n    def __init__(self):\\n        self.name=\"Rahul\"\\n        self.age=22\\n        self.city=\"Jaipur\"\\nobj1=new()\\nprint(obj1.name)\\nprint(obj1.age)\\nprint(obj1.city)\\n\\ndel obj1.age\\ndelattr(obj1,\"city\")\\ntry:\\n    x=obj1.city\\nexcept AttributeError :\\n    raise TypeError(\"city is not abailable\") from None', 'class new:\\n    def __init__(self):\\n        self.name=\"Rahul\"\\n        self.age=22\\n        self.city=\"Jaipur\"\\nobj1=new()\\nprint(obj1.name)\\nprint(obj1.age)\\nprint(obj1.city)\\n\\ndel obj1.age\\ndelattr(obj1,\"city\")\\ntry:\\n    x=obj1.city\\nexcept AttributeError :\\n    raise TypeError(\"city is not abailable\") from None', 'x=[1,2,4,5,\"rahul\"]\\nprint(dict(x))', 'x=[1,2,4,5,\"rahul\"]\\ny=dict(x)\\nprint(y)', 'x=[1=\"rahul\",2=\"maya\",4=\"rabbit\",5=\"rahul_2\"]\\ny=dict(x)\\nprint(y)', 'x=1=\"rahul\",2=\"maya\",4=\"rabbit\",5=\"rahul_2\"\\ny=dict(x)\\nprint(y)', 'x=(1=\"rahul\",2=\"maya\",4=\"rabbit\",5=\"rahul_2\")\\ny=dict(x)\\nprint(y)', 'y=dict(1=\"rahul\",2=\"maya\",4=\"rabbit\",5=\"rahul_2\")\\nprint(y)', '# y=dict(1=\"rahul\",2=\"maya\",4=\"rabbit\",5=\"rahul_2\")\\ny=dict(name=\"rahul\",age=34,city=\"KOTA\")\\nprint(y)', 'y=dict{1=\"rahul\",2=\"maya\",4=\"rabbit\",5=\"rahul_2\"}\\ny=dict(name=\"rahul\",age=34,city=\"KOTA\")\\nprint(y)', 'y=dict(name=\"rahul\",age=34,city=\"KOTA\")\\nprint(y)\\n\\nx=y=dict([(1,\"rahul\"),(2,\"maya\"),(4=\"rabbit\"),(5=\"rahul_2\")])', 'y=dict(name=\"rahul\",age=34,city=\"KOTA\")\\nprint(y)\\n\\nx=dict([(1,\"rahul\"),(2,\"maya\"),(4=\"rabbit\"),(5=\"rahul_2\")])', 'y=dict(name=\"rahul\",age=34,city=\"KOTA\")\\nprint(y)\\n\\nx=dict([(1,\"rahul\"),(2,\"maya\"),(4,\"rabbit\"),(5,\"rahul_2\")])\\nprint(x)', 'x = divmod(5, 2)', 'x = divmod(5, 2)\\nx', \"x = ('apple', 'banana', 'cherry')\\ny = enumerate(x)\", \"x = ('apple', 'banana', 'cherry')\\ny = enumerate(x)\\ny\", \"x = ('apple', 'banana', 'cherry')\\ny = enumerate(x)\\nx\", \"x = ('apple', 'banana', 'cherry')\\ny = enumerate(x)\\ny\", \"x = ('apple', 'banana', 'cherry')\\ny = enumerate(x)\\nprint(list(y))\", \"x = ('apple', 'banana', 'cherry')\\ny = enumerate(x)\\nprint(list(y))\\nd=dict(list(y))\\nprint(d)\", \"x = ('apple', 'banana', 'cherry')\\ny = enumerate(x)\\nprint(list(y))\\nd=dict([list(y)])\\nprint(d)\", \"x = ('apple', 'banana', 'cherry')\\ny = enumerate(x)\\nprint(list(y))\\nd=dict(list(y))\\nprint(d)\", \"x = ('apple', 'banana', 'cherry')\\ny = enumerate(x)\\nprint(list(y))\\nd1=list(y)\\nd=dict(d1)\\nprint(d)\", \"x = ('apple', 'banana', 'cherry')\\ny = enumerate(x)\\nprint(list(y))\\nd=dict(y)\\nprint(d)\", \"x = ('apple', 'banana', 'cherry')\\ny = enumerate(x)\\n# print(list(y))\\nd=dict(y)\\nprint(d)\", \"x = ('apple', 'banana', 'cherry')\\ny = enumerate(x)\\nprint(list(y))\\nd=dict(y)\\nprint(d)\", \"x = ('apple', 'banana', 'cherry')\\ny = enumerate(x)\\n# print(list(y))\\nd=dict(y)\\nprint(d)\", \"x = format(0.5, '%')\", \"x = format(0.5, '%')\\nprint(x)\", \"x = format(0.5, '%')\\nprint(x)\\n\\ny=format(78,'-')\\nprint(y)\", \"x = format(0.5, '%')\\nprint(x)\\n\\ny=format(78,'b')\\nprint(y)\", \"x = format(0.5, '%')\\nprint(x)\\n\\ny=format(78,'b')\\nprint(y)\\n\\nz=format(23,'g')\\nprint(z)\", \"x = format(0.5, '%')\\nprint(x)\\n\\ny=format(78,'b')\\nprint(y)\\n\\nz=format(23,'X')\\nprint(z)\", \"x = format(0.5, '%')\\nprint(x)\\n\\ny=format(78,'b')  # binart format\\nprint(y)\\n\\nz=format(23,'X')  # hex format upper case\\nprint(z)\", 'class Person:\\n  name = \"John\"\\n  age = 36\\n  country = \"Norway\"\\n\\nx = getattr(Person, \\'age\\')', 'class Person:\\n  name = \"John\"\\n  age = 36\\n  country = \"Norway\"\\n\\nx = getattr(Person, \\'age\\')\\nx', 'class Person:\\n  name = \"John\"\\n  age = 36\\n  country = \"Norway\"\\np=Person()\\nsetattr(Person, \\'age\\', 40)', 'class Person:\\n  name = \"John\"\\n  age = 36\\n  country = \"Norway\"\\np=Person()\\nsetattr(Person, \\'age\\', 40)\\nprint(p.age)', 'class Person:\\n  name = \"John\"\\n  age = 36\\n  country = \"Norway\"\\np=Person()\\nsetattr(Person, \\'age\\', 40)\\nprint(p.age)\\nsetattr(Person, \\'height\\', 40)', 'class Person:\\n  name = \"John\"\\n  age = 36\\n  country = \"Norway\"\\np=Person()\\nsetattr(Person, \\'age\\', 40)\\nprint(p.age)\\nsetattr(Person, \\'height\\', 40)\\nprint(p.height)', 'class Person:\\n  name = \"John\"\\n  age = 36\\n  country = \"Norway\"\\np=Person()\\nsetattr(Person, \\'age\\', 40)\\nprint(p.age)\\nsetattr(Person, \\'height\\', 20)\\nprint(p.height)', 'class Person:\\n  name = \"John\"\\n  age = 36\\n  country = \"Norway\"\\np=Person()\\nsetattr(Person, \\'age\\', 40)\\nprint(p.age)\\nsetattr(Person, \\'height\\', 20)\\nprint(p.height)\\nhasattr(Person,height)', 'class Person:\\n  name = \"John\"\\n  age = 36\\n  country = \"Norway\"\\np=Person()\\nsetattr(Person, \\'age\\', 40)\\nprint(p.age)\\nsetattr(Person, \\'height\\', 20)\\nprint(p.height)\\nhasattr(Person,\"height\")', 'class Person:\\n  name = \"John\"\\n  age = 36\\n  country = \"Norway\"\\np=Person()\\nsetattr(Person, \\'age\\', 40)\\nprint(p.age)\\nsetattr(Person, \\'height\\', 20)   # to set or insert a new variable\\nprint(p.height)\\nhasattr(Person,\"height\")  # to check the attribte has exist or not', 'hash()', 'hash(p)', 'help', '())', 'help()', 'help(print)', 'help(hasattr)', \"x = ('apple', 'banana', 'cherry')\\ny = id(x)\", \"x = ('apple', 'banana', 'cherry')\\ny = id(x)\\nprint(y)\", 'help(id)', 'help(index)', 'help(hash)', 'x = isinstance(5, int)', 'x = isinstance(5, int)\\nprint(x)', 'x = isinstance(5, int)\\nprint(x)\\n\\nx = isinstance(\"Hello\", (float, int, str, list, dict, tuple))\\nprint(x)', 'x = isinstance(5, int)\\nprint(x)\\n\\nx = isinstance(\"Hello\", (float, int, str, list, dict, tuple))\\nprint(x)\\n\\nclass myObj:\\n  name = \"John\"\\n\\ny = myObj()\\n\\nx = isinstance(y, myObj)', 'x = isinstance(5, int)\\nprint(x)\\n\\nx = isinstance(\"Hello\", (float, int, str, list, dict, tuple))\\nprint(x)\\n\\nclass myObj:\\n  name = \"John\"\\n\\ny = myObj()\\n\\nx = isinstance(y, myObj)\\nprint(x)', 'x = iter([\"apple\", \"banana\", \"cherry\"])\\nprint(next(x))\\nprint(next(x))\\nprint(next(x))', 'x = globals()\\nprint(x)'], '_oh': {2: 6.4, 3: 6.4, 4: ['apple', 'banana', 1, 5], 5: True, 39: <classmethod(<function old at 0x000002B0B5EF49A0>)>, 54: True, 119: (2, 1), 121: <enumerate object at 0x000002B0B61BA930>, 122: ('apple', 'banana', 'cherry'), 123: <enumerate object at 0x000002B0B61BB4C0>, 141: 36, 148: True, 149: True, 151: 184873966891, 152: Type help() for interactive help, or help(object) for help about object.}, '_dh': [WindowsPath('d:/New folder/Celebal_DataScience')], 'In': ['', 'x=abs(6.4)', 'x=abs(6.4)\\nx', 'x=abs(-6.4)\\nx', 'x=[\"apple\",\"banana\",1,5]\\nx', 'x=[\"apple\",\"banana\",1,5]\\nall(x)', 'x=[\"apple\",\"banana\",1,5]\\nprint(all(x))\\n\\ny=[0,\"apple\",\\'banana\\',56]\\nprint(all(y))', 'x=[0,5,3,\"Rahul\"]\\nprint(any(x))', '## ascii', 'x=333445\\nprint(ascii(x))', 'x=333445\\nprint(ascii(x))\\n\\ny=\"my name is rahul\"\\nprint(ascii(y))', 'x=333445\\nprint(ascii(x))\\n\\ny=\"my name is rahul 0\"\\nprint(ascii(y))', 'x=333445\\nprint(ascii(x))\\n\\ny=\"my name is rahul\"\\nprint(ascii(y))\\n\\nz=\"This is not a Ascii character ~\"\\nprint(ascii(z))', 'x=333445\\nprint(ascii(x))\\n\\ny=\"my name is rahul\"\\nprint(ascii(y))\\n\\nz=\"This is not a Ascii character )\"\\nprint(ascii(z))', 'x=333445\\nprint(ascii(x))\\n\\ny=\"my name is rahul\"\\nprint(ascii(y))\\n\\nz=\"This is not a Ascii character ^\"\\nprint(ascii(z))', 'x=333445\\nprint(ascii(x))\\n\\ny=\"my name is rahul\"\\nprint(ascii(y))\\n\\nz=\"This is not a Ascii character $\"\\nprint(ascii(z))', 'x=333445\\nprint(ascii(x))\\n\\ny=\"my name is rahul\"\\nprint(ascii(y))\\n\\nz=\"This is not a Ascii character å\"\\nprint(ascii(z))', 'x=90\\nprint(bin(x))', 'x=5\\nprint(bin(x))', 'x=34\\nprint(bin(x))', 'x=bool(1)\\ny=1\\nprint(\"type  of x is \",type(x))\\nprint(\"type of y is \",type(y))', 'x=[\"Rahul\",\"Riksha\",\"Rajwada\"]\\nprint(bytearray(x))', 'x=\"rahul\"\\nprint(bytearray(x))', 'x=30\\nprint(bytearray(x))', 'x=5\\nprint(bytearray(x))', 'x=4\\nprint(bytes(x))', 'x=5\\nprint(bytearray(x))   # can be modified', 'x=4\\nprint(bytes(x))   # cannot modified', 'def x():\\n    print(\"x = \",5)\\nprint(callable(x))', 'def x():\\n    print(\"x = \",5)\\nprint(callable(x))\\n\\ny=10\\nprint(callable(y))', 'x=97\\nprint(chr(x))', 'x=91\\nprint(chr(x))', 'x=96\\nprint(chr(x))', 'x=48\\nprint(chr(x))', 'x=56\\nprint(chr(x))', 'x=63\\nprint(chr(x))', 'x=64\\nprint(chr(x))', 'x=65\\nprint(chr(x))', 'x=66\\nprint(chr(x))', 'class B:\\n    def new():\\n        print(\"this is new method\")\\nobj=B()\\ndef old():\\n    print(\"this is old class\")\\nclassmethod(old)', 'class B:\\n    def new():\\n        print(\"this is new method\")\\nobj=B()\\ndef old():\\n    print(\"this is old class\")\\nclassmethod(old)\\n\\nB.old', 'class B:\\n    def new():\\n        print(\"this is new method\")\\nobj=B()\\ndef old():\\n    print(\"this is old class\")\\nclassmethod(old)\\n\\nB.old()', 'class B:\\n    def new():\\n        print(\"this is new method\")\\nobj=B()\\ndef old():\\n    print(\"this is old class\")\\nclassmethod(B,old)', 'x=[2,3,6,\"new\"]\\nprint(compile(x))', \"x = compile('print(55)', 'test', 'eval')\\nexec(x)\", 'x=2,3,6,\"new\"\\nprint(compile(x))', 'print(compile(2,3,6,\"new\"))', 'print(compile(\"new\"))', \"x = compile('print(55)', 'test', 'eval')\\nexec(x)\", \"x = compile('print(55)\\\\nprint(88)', 'test', 'exec')\\nexec(x)\", 'x=\"print(5+3)\"\\neval(x)', 'x=\"print(5+3)\"\\neval(x)\\nprint(hi)', 'x=\"print(5+3)\"\\neval(x)\\nprint(\"hi\")', 'x=\"print(5+3)\"\\neval(x)\\n\\nx=\"bool(1)\"\\neval(X)', 'x=\"print(5+3)\"\\neval(x)\\n\\nx=\"bool(1)\"\\neval(x)', 'x=\"my name=Rahul and my age=45 \\\\nprint(name)\\\\nprint(age)\\\\nif age>18:print(adult)\"', 'x=\"my name=Rahul and my age=45 \\\\nprint(name)\\\\nprint(age)\\\\nif age>18:print(adult)\"\\nexec(x)', 'x=\"my name=\"Rahul\" and my age=45 \\\\nprint(name)\\\\nprint(age)\\\\nif age>18:print(adult)\"\\nexec(x)', 'x=\"my name=\\'Rahul\\' and my age=45 \\\\nprint(name)\\\\nprint(age)\\\\nif age>18:print(adult)\"\\nexec(x)', 'x=\"my name=\\'Rahul\\'\\\\nprint(name)\"\\nexec(x)', 'x=\"name=\\'Rahul\\'\\\\nprint(name)\"\\nexec(x)', 'x=\"name=\\'Rahul\\' and my age=45 \\\\nprint(name)\\\\nprint(age)\\\\nif age>18:print(adult)\"\\nexec(x)', 'x=\"name=\\'Rahul\\' and age=45 \\\\nprint(name)\\\\nprint(age)\\\\nif age>18:print(adult)\"\\nexec(x)', 'age=43\\nx=\"if age>18:print(adult)\"\\nexec(x)', 'age=43\\nx=\"if age>18:print(\"adult\")\"\\nexec(x)', 'age=43\\nx=\"if age>18:print(\\'adult\\')\"\\nexec(x)', 'age=43\\nx=\"if age>18:print(\\'adult\\')\"\\neval(x)', 'age=43\\nx=\"if age>18:print(\\'adult\\')\"\\nexec(x)\\n\\ny=\\'name=\"Rahul\\'\\neval(y)', 'age=43\\nx=\"if age>18:print(\\'adult\\')\"\\nexec(x)\\n\\ny=\\'name=\"Rahul\\'\\neexc(y)', 'age=43\\nx=\"if age>18:print(\\'adult\\')\"\\nexec(x)\\n\\ny=\\'name=\"Rahul\\'\\nexec(y)', 'age=43\\nx=\"if age>18:print(\\'adult\\')\"\\nexec(x)\\n\\ny=\\'name=\"Rahul\"\\'\\nexec(y)', 'age=43\\nx=\"if age>18:print(\\'adult\\')\"\\nexec(x)\\n\\ny=\\'name=\"Rahul\"\\'\\neval(y)', 'age=43\\nx=\"if age>18:print(\\'adult\\')\"\\nexec(x)\\n\\ny=\\'name=\"Rahul\"\\'\\nexec(y)', 'age=43\\nx=\"if age>18:print(\\'adult\\')\"\\nexec(x)\\n\\ny=\\'name=\"Rahul\"\\'\\neval(y)', 'age=43\\nx=\"if age>18:print(\\'adult\\')\"\\nexec(x)\\n\\ny=\\'name=\"Rahul\"\\'\\nexec(y)\\n\\ny=\\'if True:print(\"HI\")\\'\\nexec(y)', 'age=43\\nx=\"if age>18:print(\\'adult\\')\"\\nexec(x)\\n\\ny=\\'name=\"Rahul\"\\'\\nexec(y)\\n\\ny=\\'if True:print(\"HI\")\\'\\neval(y)', 'age=43\\nx=\"if age>18:print(\\'adult\\')\"\\nexec(x)\\n\\ny=\\'name=\"Rahul\"\\'\\nexec(y)\\n\\ny=\\'print(\"HI\")\\'\\neval(y)', 'x=complex(3,10)\\nprint(x)', 'class new:\\n    def __init__(self):\\n        self.name=\"Rahul\"\\n        self.age=22\\n        self.city=\"Jaipur\"\\nobj1=new()\\nprint(obj1.name)', 'class new:\\n    def __init__(self):\\n        self.name=\"Rahul\"\\n        self.age=22\\n        self.city=\"Jaipur\"\\nobj1=new()\\nprint(obj1.name)\\nprint(obj1.age)', 'class new:\\n    def __init__(self):\\n        self.name=\"Rahul\"\\n        self.age=22\\n        self.city=\"Jaipur\"\\nobj1=new()\\nprint(obj1.name)\\nprint(obj1.age)\\nprint(obj1.city)', 'class new:\\n    def __init__(self):\\n        self.name=\"Rahul\"\\n        self.age=22\\n        self.city=\"Jaipur\"\\nobj1=new()\\nprint(obj1.name)\\nprint(obj1.age)\\nprint(obj1.city)\\n\\ndelattr(new,\"city\")', 'class new:\\n    def __init__(self):\\n        self.name=\"Rahul\"\\n        self.age=22\\n        self.city=\"Jaipur\"\\nobj1=new()\\nprint(obj1.name)\\nprint(obj1.age)\\nprint(obj1.city)\\n\\ndel obj1.age', 'class new:\\n    def __init__(self):\\n        self.name=\"Rahul\"\\n        self.age=22\\n        self.city=\"Jaipur\"\\nobj1=new()\\nprint(obj1.name)\\nprint(obj1.age)\\nprint(obj1.city)\\n\\ndel obj1.age\\nprint(obj1.age)', 'class new:\\n    def __init__(self):\\n        self.name=\"Rahul\"\\n        self.age=22\\n        self.city=\"Jaipur\"\\nobj1=new()\\nprint(obj1.name)\\nprint(obj1.age)\\nprint(obj1.city)\\n\\ndel obj1.age\\ndelattr(new,age)', 'class new:\\n    def __init__(self):\\n        self.name=\"Rahul\"\\n        self.age=22\\n        self.city=\"Jaipur\"\\nobj1=new()\\nprint(obj1.name)\\nprint(obj1.age)\\nprint(obj1.city)\\n\\ndel obj1.age\\ndelattr(new,\"age\")', 'class new:\\n    def __init__(self):\\n        self.name=\"Rahul\"\\n        self.age=22\\n        self.city=\"Jaipur\"\\nobj1=new()\\nprint(obj1.name)\\nprint(obj1.age)\\nprint(obj1.city)\\n\\ndel obj1.age\\ndelattr(new,\"city\")', 'class new:\\n    def __init__(self):\\n        self.name=\"Rahul\"\\n        self.age=22\\n        self.city=\"Jaipur\"\\nobj1=new()\\nprint(obj1.name)\\nprint(obj1.age)\\nprint(obj1.city)\\n\\ndel obj1.age\\ndelattr(obj1,\"city\")', 'class new:\\n    def __init__(self):\\n        self.name=\"Rahul\"\\n        self.age=22\\n        self.city=\"Jaipur\"\\nobj1=new()\\nprint(obj1.name)\\nprint(obj1.age)\\nprint(obj1.city)\\n\\ndel obj1.age\\ndelattr(obj1,\"city\")\\nprint(obj1.city)', 'class new:\\n    def __init__(self):\\n        self.name=\"Rahul\"\\n        self.age=22\\n        self.city=\"Jaipur\"\\nobj1=new()\\nprint(obj1.name)\\nprint(obj1.age)\\nprint(obj1.city)\\n\\ndel obj1.age\\ndelattr(obj1,\"city\")\\nif obj1.city is False:\\n    raise(\"ArithmeticError\",)', 'class new:\\n    def __init__(self):\\n        self.name=\"Rahul\"\\n        self.age=22\\n        self.city=\"Jaipur\"\\nobj1=new()\\nprint(obj1.name)\\nprint(obj1.age)\\nprint(obj1.city)\\n\\ndel obj1.age\\ndelattr(obj1,\"city\")\\nif obj1.city is False:\\n    raise(\"ArithmeticError\")', 'class new:\\n    def __init__(self):\\n        self.name=\"Rahul\"\\n        self.age=22\\n        self.city=\"Jaipur\"\\nobj1=new()\\nprint(obj1.name)\\nprint(obj1.age)\\nprint(obj1.city)\\n\\ndel obj1.age\\ndelattr(obj1,\"city\")\\nif obj1.city is False:\\n    raise(\"ArithmeticError\")', 'class new:\\n    def __init__(self):\\n        self.name=\"Rahul\"\\n        self.age=22\\n        self.city=\"Jaipur\"\\nobj1=new()\\nprint(obj1.name)\\nprint(obj1.age)\\nprint(obj1.city)\\n\\ndel obj1.age\\ndelattr(obj1,\"city\")\\ntry:\\n    print(obj1.city)\\nexcept:\\n    raise(\"inputerror\",\"city is not abailable\")', 'class new:\\n    def __init__(self):\\n        self.name=\"Rahul\"\\n        self.age=22\\n        self.city=\"Jaipur\"\\nobj1=new()\\nprint(obj1.name)\\nprint(obj1.age)\\nprint(obj1.city)\\n\\ndel obj1.age\\ndelattr(obj1,\"city\")\\ntry:\\n    print(obj1.city)\\nexcept:\\n    raise(\"AttributeError\",\"city is not abailable\")', 'class new:\\n    def __init__(self):\\n        self.name=\"Rahul\"\\n        self.age=22\\n        self.city=\"Jaipur\"\\nobj1=new()\\nprint(obj1.name)\\nprint(obj1.age)\\nprint(obj1.city)\\n\\ndel obj1.age\\ndelattr(obj1,\"city\")\\ntry:\\n    print(obj1.city)\\nexcept:\\n    raise TypeError(\"city is not abailable\")', 'class new:\\n    def __init__(self):\\n        self.name=\"Rahul\"\\n        self.age=22\\n        self.city=\"Jaipur\"\\nobj1=new()\\nprint(obj1.name)\\nprint(obj1.age)\\nprint(obj1.city)\\n\\ndel obj1.age\\ndelattr(obj1,\"city\")\\ntry:\\n    print(obj1.city)\\nexcept:\\n    raise Exception(\"city is not abailable\")', 'class new:\\n    def __init__(self):\\n        self.name=\"Rahul\"\\n        self.age=22\\n        self.city=\"Jaipur\"\\nobj1=new()\\nprint(obj1.name)\\nprint(obj1.age)\\nprint(obj1.city)\\n\\ndel obj1.age\\ndelattr(obj1,\"city\")\\ntry:\\n    print(obj1.age)\\nexcept:\\n    raise Exception(\"city is not abailable\")', 'class new:\\n    def __init__(self):\\n        self.name=\"Rahul\"\\n        self.age=22\\n        self.city=\"Jaipur\"\\nobj1=new()\\nprint(obj1.name)\\nprint(obj1.age)\\nprint(obj1.city)\\n\\ndel obj1.age\\ndelattr(obj1,\"city\")\\ntry:\\n    print(obj1.name)\\nexcept:\\n    raise Exception(\"city is not abailable\")', 'class new:\\n    def __init__(self):\\n        self.name=\"Rahul\"\\n        self.age=22\\n        self.city=\"Jaipur\"\\nobj1=new()\\nprint(obj1.name)\\nprint(obj1.age)\\nprint(obj1.city)\\n\\ndel obj1.age\\ndelattr(obj1,\"city\")\\ntry:\\n    print(obj1.city)\\nexcept:\\n    raise Exception(\"city is not abailable\")', 'class new:\\n    def __init__(self):\\n        self.name=\"Rahul\"\\n        self.age=22\\n        self.city=\"Jaipur\"\\nobj1=new()\\nprint(obj1.name)\\nprint(obj1.age)\\nprint(obj1.city)\\n\\ndel obj1.age\\ndelattr(obj1,\"city\")\\ntry:\\n    print(obj1.city)\\nexcept:\\n    raise AttributeError(\"city is not abailable\")', 'class new:\\n    def __init__(self):\\n        self.name=\"Rahul\"\\n        self.age=22\\n        self.city=\"Jaipur\"\\nobj1=new()\\nprint(obj1.name)\\nprint(obj1.age)\\nprint(obj1.city)\\n\\ndel obj1.age\\ndelattr(obj1,\"city\")\\ntry:\\n    x=obj1.city\\nexcept:\\n    raise AttributeError(\"city is not abailable\")', 'class new:\\n    def __init__(self):\\n        self.name=\"Rahul\"\\n        self.age=22\\n        self.city=\"Jaipur\"\\nobj1=new()\\nprint(obj1.name)\\nprint(obj1.age)\\nprint(obj1.city)\\n\\ndel obj1.age\\ndelattr(obj1,\"city\")\\ntry:\\n    x=obj1.city\\nexcept AttributeError:\\n    raise AttributeError(\"city is not abailable\")', 'class new:\\n    def __init__(self):\\n        self.name=\"Rahul\"\\n        self.age=22\\n        self.city=\"Jaipur\"\\nobj1=new()\\nprint(obj1.name)\\nprint(obj1.age)\\nprint(obj1.city)\\n\\ndel obj1.age\\ndelattr(obj1,\"city\")\\ntry:\\n    x=obj1.city\\nexcept :\\n    raise TypeError(\"city is not abailable\")', 'class new:\\n    def __init__(self):\\n        self.name=\"Rahul\"\\n        self.age=22\\n        self.city=\"Jaipur\"\\nobj1=new()\\nprint(obj1.name)\\nprint(obj1.age)\\nprint(obj1.city)\\n\\ndel obj1.age\\ndelattr(obj1,\"city\")\\ntry:\\n    x=obj1.city\\nexcept AttributeError :\\n    raise TypeError(\"city is not abailable\")', 'class new:\\n    def __init__(self):\\n        self.name=\"Rahul\"\\n        self.age=22\\n        self.city=\"Jaipur\"\\nobj1=new()\\nprint(obj1.name)\\nprint(obj1.age)\\nprint(obj1.city)\\n\\ndel obj1.age\\ndelattr(obj1,\"city\")\\ntry:\\n    x=obj1.city\\nexcept AttributeError :\\n    raise TypeError(\"city is not abailable\") from None', 'import sys\\nclass new:\\n    def __init__(self):\\n        self.name=\"Rahul\"\\n        self.age=22\\n        self.city=\"Jaipur\"\\nobj1=new()\\nprint(obj1.name)\\nprint(obj1.age)\\nprint(obj1.city)\\n\\ndel obj1.age\\ndelattr(obj1,\"city\")\\ntry:\\n    x=obj1.city\\nexcept AttributeError :\\n    raise TypeError(\"city is not abailable\") from None', 'class new:\\n    def __init__(self):\\n        self.name=\"Rahul\"\\n        self.age=22\\n        self.city=\"Jaipur\"\\nobj1=new()\\nprint(obj1.name)\\nprint(obj1.age)\\nprint(obj1.city)\\n\\ndel obj1.age\\ndelattr(obj1,\"city\")\\ntry:\\n    x=obj1.city\\nexcept AttributeError :\\n    raise TypeError(\"city is not abailable\") from None', 'x=[1,2,4,5,\"rahul\"]\\nprint(dict(x))', 'x=[1,2,4,5,\"rahul\"]\\ny=dict(x)\\nprint(y)', 'x=[1=\"rahul\",2=\"maya\",4=\"rabbit\",5=\"rahul_2\"]\\ny=dict(x)\\nprint(y)', 'x=1=\"rahul\",2=\"maya\",4=\"rabbit\",5=\"rahul_2\"\\ny=dict(x)\\nprint(y)', 'x=(1=\"rahul\",2=\"maya\",4=\"rabbit\",5=\"rahul_2\")\\ny=dict(x)\\nprint(y)', 'y=dict(1=\"rahul\",2=\"maya\",4=\"rabbit\",5=\"rahul_2\")\\nprint(y)', '# y=dict(1=\"rahul\",2=\"maya\",4=\"rabbit\",5=\"rahul_2\")\\ny=dict(name=\"rahul\",age=34,city=\"KOTA\")\\nprint(y)', 'y=dict{1=\"rahul\",2=\"maya\",4=\"rabbit\",5=\"rahul_2\"}\\ny=dict(name=\"rahul\",age=34,city=\"KOTA\")\\nprint(y)', 'y=dict(name=\"rahul\",age=34,city=\"KOTA\")\\nprint(y)\\n\\nx=y=dict([(1,\"rahul\"),(2,\"maya\"),(4=\"rabbit\"),(5=\"rahul_2\")])', 'y=dict(name=\"rahul\",age=34,city=\"KOTA\")\\nprint(y)\\n\\nx=dict([(1,\"rahul\"),(2,\"maya\"),(4=\"rabbit\"),(5=\"rahul_2\")])', 'y=dict(name=\"rahul\",age=34,city=\"KOTA\")\\nprint(y)\\n\\nx=dict([(1,\"rahul\"),(2,\"maya\"),(4,\"rabbit\"),(5,\"rahul_2\")])\\nprint(x)', 'x = divmod(5, 2)', 'x = divmod(5, 2)\\nx', \"x = ('apple', 'banana', 'cherry')\\ny = enumerate(x)\", \"x = ('apple', 'banana', 'cherry')\\ny = enumerate(x)\\ny\", \"x = ('apple', 'banana', 'cherry')\\ny = enumerate(x)\\nx\", \"x = ('apple', 'banana', 'cherry')\\ny = enumerate(x)\\ny\", \"x = ('apple', 'banana', 'cherry')\\ny = enumerate(x)\\nprint(list(y))\", \"x = ('apple', 'banana', 'cherry')\\ny = enumerate(x)\\nprint(list(y))\\nd=dict(list(y))\\nprint(d)\", \"x = ('apple', 'banana', 'cherry')\\ny = enumerate(x)\\nprint(list(y))\\nd=dict([list(y)])\\nprint(d)\", \"x = ('apple', 'banana', 'cherry')\\ny = enumerate(x)\\nprint(list(y))\\nd=dict(list(y))\\nprint(d)\", \"x = ('apple', 'banana', 'cherry')\\ny = enumerate(x)\\nprint(list(y))\\nd1=list(y)\\nd=dict(d1)\\nprint(d)\", \"x = ('apple', 'banana', 'cherry')\\ny = enumerate(x)\\nprint(list(y))\\nd=dict(y)\\nprint(d)\", \"x = ('apple', 'banana', 'cherry')\\ny = enumerate(x)\\n# print(list(y))\\nd=dict(y)\\nprint(d)\", \"x = ('apple', 'banana', 'cherry')\\ny = enumerate(x)\\nprint(list(y))\\nd=dict(y)\\nprint(d)\", \"x = ('apple', 'banana', 'cherry')\\ny = enumerate(x)\\n# print(list(y))\\nd=dict(y)\\nprint(d)\", \"x = format(0.5, '%')\", \"x = format(0.5, '%')\\nprint(x)\", \"x = format(0.5, '%')\\nprint(x)\\n\\ny=format(78,'-')\\nprint(y)\", \"x = format(0.5, '%')\\nprint(x)\\n\\ny=format(78,'b')\\nprint(y)\", \"x = format(0.5, '%')\\nprint(x)\\n\\ny=format(78,'b')\\nprint(y)\\n\\nz=format(23,'g')\\nprint(z)\", \"x = format(0.5, '%')\\nprint(x)\\n\\ny=format(78,'b')\\nprint(y)\\n\\nz=format(23,'X')\\nprint(z)\", \"x = format(0.5, '%')\\nprint(x)\\n\\ny=format(78,'b')  # binart format\\nprint(y)\\n\\nz=format(23,'X')  # hex format upper case\\nprint(z)\", 'class Person:\\n  name = \"John\"\\n  age = 36\\n  country = \"Norway\"\\n\\nx = getattr(Person, \\'age\\')', 'class Person:\\n  name = \"John\"\\n  age = 36\\n  country = \"Norway\"\\n\\nx = getattr(Person, \\'age\\')\\nx', 'class Person:\\n  name = \"John\"\\n  age = 36\\n  country = \"Norway\"\\np=Person()\\nsetattr(Person, \\'age\\', 40)', 'class Person:\\n  name = \"John\"\\n  age = 36\\n  country = \"Norway\"\\np=Person()\\nsetattr(Person, \\'age\\', 40)\\nprint(p.age)', 'class Person:\\n  name = \"John\"\\n  age = 36\\n  country = \"Norway\"\\np=Person()\\nsetattr(Person, \\'age\\', 40)\\nprint(p.age)\\nsetattr(Person, \\'height\\', 40)', 'class Person:\\n  name = \"John\"\\n  age = 36\\n  country = \"Norway\"\\np=Person()\\nsetattr(Person, \\'age\\', 40)\\nprint(p.age)\\nsetattr(Person, \\'height\\', 40)\\nprint(p.height)', 'class Person:\\n  name = \"John\"\\n  age = 36\\n  country = \"Norway\"\\np=Person()\\nsetattr(Person, \\'age\\', 40)\\nprint(p.age)\\nsetattr(Person, \\'height\\', 20)\\nprint(p.height)', 'class Person:\\n  name = \"John\"\\n  age = 36\\n  country = \"Norway\"\\np=Person()\\nsetattr(Person, \\'age\\', 40)\\nprint(p.age)\\nsetattr(Person, \\'height\\', 20)\\nprint(p.height)\\nhasattr(Person,height)', 'class Person:\\n  name = \"John\"\\n  age = 36\\n  country = \"Norway\"\\np=Person()\\nsetattr(Person, \\'age\\', 40)\\nprint(p.age)\\nsetattr(Person, \\'height\\', 20)\\nprint(p.height)\\nhasattr(Person,\"height\")', 'class Person:\\n  name = \"John\"\\n  age = 36\\n  country = \"Norway\"\\np=Person()\\nsetattr(Person, \\'age\\', 40)\\nprint(p.age)\\nsetattr(Person, \\'height\\', 20)   # to set or insert a new variable\\nprint(p.height)\\nhasattr(Person,\"height\")  # to check the attribte has exist or not', 'hash()', 'hash(p)', 'help', '())', 'help()', 'help(print)', 'help(hasattr)', \"x = ('apple', 'banana', 'cherry')\\ny = id(x)\", \"x = ('apple', 'banana', 'cherry')\\ny = id(x)\\nprint(y)\", 'help(id)', 'help(index)', 'help(hash)', 'x = isinstance(5, int)', 'x = isinstance(5, int)\\nprint(x)', 'x = isinstance(5, int)\\nprint(x)\\n\\nx = isinstance(\"Hello\", (float, int, str, list, dict, tuple))\\nprint(x)', 'x = isinstance(5, int)\\nprint(x)\\n\\nx = isinstance(\"Hello\", (float, int, str, list, dict, tuple))\\nprint(x)\\n\\nclass myObj:\\n  name = \"John\"\\n\\ny = myObj()\\n\\nx = isinstance(y, myObj)', 'x = isinstance(5, int)\\nprint(x)\\n\\nx = isinstance(\"Hello\", (float, int, str, list, dict, tuple))\\nprint(x)\\n\\nclass myObj:\\n  name = \"John\"\\n\\ny = myObj()\\n\\nx = isinstance(y, myObj)\\nprint(x)', 'x = iter([\"apple\", \"banana\", \"cherry\"])\\nprint(next(x))\\nprint(next(x))\\nprint(next(x))', 'x = globals()\\nprint(x)'], 'Out': {2: 6.4, 3: 6.4, 4: ['apple', 'banana', 1, 5], 5: True, 39: <classmethod(<function old at 0x000002B0B5EF49A0>)>, 54: True, 119: (2, 1), 121: <enumerate object at 0x000002B0B61BA930>, 122: ('apple', 'banana', 'cherry'), 123: <enumerate object at 0x000002B0B61BB4C0>, 141: 36, 148: True, 149: True, 151: 184873966891, 152: Type help() for interactive help, or help(object) for help about object.}, 'get_ipython': <bound method InteractiveShell.get_ipython of <ipykernel.zmqshell.ZMQInteractiveShell object at 0x000002B0B44569F0>>, 'exit': <IPython.core.autocall.ZMQExitAutocall object at 0x000002B0B550CBC0>, 'quit': <IPython.core.autocall.ZMQExitAutocall object at 0x000002B0B550CBC0>, 'open': <function open at 0x000002B0B391EC00>, '_': Type help() for interactive help, or help(object) for help about object., '__': 184873966891, '___': True, '__vsc_ipynb_file__': 'd:\\\\New folder\\\\Celebal_DataScience\\\\Pytho_special_functions.ipynb', '_i': 'x = iter([\"apple\", \"banana\", \"cherry\"])\\nprint(next(x))\\nprint(next(x))\\nprint(next(x))', '_ii': 'x = isinstance(5, int)\\nprint(x)\\n\\nx = isinstance(\"Hello\", (float, int, str, list, dict, tuple))\\nprint(x)\\n\\nclass myObj:\\n  name = \"John\"\\n\\ny = myObj()\\n\\nx = isinstance(y, myObj)\\nprint(x)', '_iii': 'x = isinstance(5, int)\\nprint(x)\\n\\nx = isinstance(\"Hello\", (float, int, str, list, dict, tuple))\\nprint(x)\\n\\nclass myObj:\\n  name = \"John\"\\n\\ny = myObj()\\n\\nx = isinstance(y, myObj)', '_i1': 'x=abs(6.4)', 'x': {...}, '_i2': 'x=abs(6.4)\\nx', '_2': 6.4, '_i3': 'x=abs(-6.4)\\nx', '_3': 6.4, '_i4': 'x=[\"apple\",\"banana\",1,5]\\nx', '_4': ['apple', 'banana', 1, 5], '_i5': 'x=[\"apple\",\"banana\",1,5]\\nall(x)', '_5': True, '_i6': 'x=[\"apple\",\"banana\",1,5]\\nprint(all(x))\\n\\ny=[0,\"apple\",\\'banana\\',56]\\nprint(all(y))', 'y': <__main__.myObj object at 0x000002B0B5AC4950>, '_i7': 'x=[0,5,3,\"Rahul\"]\\nprint(any(x))', '_i8': '## ascii', '_i9': 'x=333445\\nprint(ascii(x))', '_i10': 'x=333445\\nprint(ascii(x))\\n\\ny=\"my name is rahul\"\\nprint(ascii(y))', '_i11': 'x=333445\\nprint(ascii(x))\\n\\ny=\"my name is rahul 0\"\\nprint(ascii(y))', '_i12': 'x=333445\\nprint(ascii(x))\\n\\ny=\"my name is rahul\"\\nprint(ascii(y))\\n\\nz=\"This is not a Ascii character ~\"\\nprint(ascii(z))', 'z': '17', '_i13': 'x=333445\\nprint(ascii(x))\\n\\ny=\"my name is rahul\"\\nprint(ascii(y))\\n\\nz=\"This is not a Ascii character )\"\\nprint(ascii(z))', '_i14': 'x=333445\\nprint(ascii(x))\\n\\ny=\"my name is rahul\"\\nprint(ascii(y))\\n\\nz=\"This is not a Ascii character ^\"\\nprint(ascii(z))', '_i15': 'x=333445\\nprint(ascii(x))\\n\\ny=\"my name is rahul\"\\nprint(ascii(y))\\n\\nz=\"This is not a Ascii character $\"\\nprint(ascii(z))', '_i16': 'x=333445\\nprint(ascii(x))\\n\\ny=\"my name is rahul\"\\nprint(ascii(y))\\n\\nz=\"This is not a Ascii character å\"\\nprint(ascii(z))', '_i17': 'x=90\\nprint(bin(x))', '_i18': 'x=5\\nprint(bin(x))', '_i19': 'x=34\\nprint(bin(x))', '_i20': 'x=bool(1)\\ny=1\\nprint(\"type  of x is \",type(x))\\nprint(\"type of y is \",type(y))', '_i21': 'x=[\"Rahul\",\"Riksha\",\"Rajwada\"]\\nprint(bytearray(x))', '_i22': 'x=\"rahul\"\\nprint(bytearray(x))', '_i23': 'x=30\\nprint(bytearray(x))', '_i24': 'x=5\\nprint(bytearray(x))', '_i25': 'x=4\\nprint(bytes(x))', '_i26': 'x=5\\nprint(bytearray(x))   # can be modified', '_i27': 'x=4\\nprint(bytes(x))   # cannot modified', '_i28': 'def x():\\n    print(\"x = \",5)\\nprint(callable(x))', '_i29': 'def x():\\n    print(\"x = \",5)\\nprint(callable(x))\\n\\ny=10\\nprint(callable(y))', '_i30': 'x=97\\nprint(chr(x))', '_i31': 'x=91\\nprint(chr(x))', '_i32': 'x=96\\nprint(chr(x))', '_i33': 'x=48\\nprint(chr(x))', '_i34': 'x=56\\nprint(chr(x))', '_i35': 'x=63\\nprint(chr(x))', '_i36': 'x=64\\nprint(chr(x))', '_i37': 'x=65\\nprint(chr(x))', '_i38': 'x=66\\nprint(chr(x))', '_i39': 'class B:\\n    def new():\\n        print(\"this is new method\")\\nobj=B()\\ndef old():\\n    print(\"this is old class\")\\nclassmethod(old)', 'B': <class '__main__.B'>, 'obj': <__main__.B object at 0x000002B0B5856F90>, 'old': <function old at 0x000002B0B5EF5620>, '_39': <classmethod(<function old at 0x000002B0B5EF49A0>)>, '_i40': 'class B:\\n    def new():\\n        print(\"this is new method\")\\nobj=B()\\ndef old():\\n    print(\"this is old class\")\\nclassmethod(old)\\n\\nB.old', '_i41': 'class B:\\n    def new():\\n        print(\"this is new method\")\\nobj=B()\\ndef old():\\n    print(\"this is old class\")\\nclassmethod(old)\\n\\nB.old()', '_i42': 'class B:\\n    def new():\\n        print(\"this is new method\")\\nobj=B()\\ndef old():\\n    print(\"this is old class\")\\nclassmethod(B,old)', '_i43': 'x=[2,3,6,\"new\"]\\nprint(compile(x))', '_i44': \"x = compile('print(55)', 'test', 'eval')\\nexec(x)\", '_i45': 'x=2,3,6,\"new\"\\nprint(compile(x))', '_i46': '\\nprint(compile(2,3,6,\"new\"))', '_i47': '\\nprint(compile(\"new\"))', '_i48': \"x = compile('print(55)', 'test', 'eval')\\nexec(x)\", '_i49': \"x = compile('print(55)\\\\nprint(88)', 'test', 'exec')\\nexec(x)\", '_i50': 'x=\"print(5+3)\"\\neval(x)', '_i51': 'x=\"print(5+3)\"\\neval(x)\\nprint(hi)', '_i52': 'x=\"print(5+3)\"\\neval(x)\\nprint(\"hi\")', '_i53': 'x=\"print(5+3)\"\\neval(x)\\n\\nx=\"bool(1)\"\\neval(X)', '_i54': 'x=\"print(5+3)\"\\neval(x)\\n\\nx=\"bool(1)\"\\neval(x)', '_54': True, '_i55': 'x=\"my name=Rahul and my age=45 \\\\nprint(name)\\\\nprint(age)\\\\nif age>18:print(adult)\"', '_i56': 'x=\"my name=Rahul and my age=45 \\\\nprint(name)\\\\nprint(age)\\\\nif age>18:print(adult)\"\\nexec(x)', '_i57': 'x=\"my name=\"Rahul\" and my age=45 \\\\nprint(name)\\\\nprint(age)\\\\nif age>18:print(adult)\"\\nexec(x)', '_i58': 'x=\"my name=\\'Rahul\\' and my age=45 \\\\nprint(name)\\\\nprint(age)\\\\nif age>18:print(adult)\"\\nexec(x)', '_i59': 'x=\"my name=\\'Rahul\\'\\\\nprint(name)\"\\nexec(x)', '_i60': 'x=\"name=\\'Rahul\\'\\\\nprint(name)\"\\nexec(x)', 'name': 'Rahul', '_i61': 'x=\"name=\\'Rahul\\' and my age=45 \\\\nprint(name)\\\\nprint(age)\\\\nif age>18:print(adult)\"\\nexec(x)', '_i62': 'x=\"name=\\'Rahul\\' and age=45 \\\\nprint(name)\\\\nprint(age)\\\\nif age>18:print(adult)\"\\nexec(x)', '_i63': 'age=43\\nx=\"if age>18:print(adult)\"\\nexec(x)', 'age': 43, '_i64': 'age=43\\nx=\"if age>18:print(\"adult\")\"\\nexec(x)', '_i65': 'age=43\\nx=\"if age>18:print(\\'adult\\')\"\\nexec(x)', '_i66': 'age=43\\nx=\"if age>18:print(\\'adult\\')\"\\neval(x)', '_i67': 'age=43\\nx=\"if age>18:print(\\'adult\\')\"\\nexec(x)\\n\\ny=\\'name=\"Rahul\\'\\neval(y)', '_i68': 'age=43\\nx=\"if age>18:print(\\'adult\\')\"\\nexec(x)\\n\\ny=\\'name=\"Rahul\\'\\neexc(y)', '_i69': 'age=43\\nx=\"if age>18:print(\\'adult\\')\"\\nexec(x)\\n\\ny=\\'name=\"Rahul\\'\\nexec(y)', '_i70': 'age=43\\nx=\"if age>18:print(\\'adult\\')\"\\nexec(x)\\n\\ny=\\'name=\"Rahul\"\\'\\nexec(y)', '_i71': 'age=43\\nx=\"if age>18:print(\\'adult\\')\"\\nexec(x)\\n\\ny=\\'name=\"Rahul\"\\'\\neval(y)', '_i72': 'age=43\\nx=\"if age>18:print(\\'adult\\')\"\\nexec(x)\\n\\ny=\\'name=\"Rahul\"\\'\\nexec(y)', '_i73': 'age=43\\nx=\"if age>18:print(\\'adult\\')\"\\nexec(x)\\n\\ny=\\'name=\"Rahul\"\\'\\neval(y)', '_i74': 'age=43\\nx=\"if age>18:print(\\'adult\\')\"\\nexec(x)\\n\\ny=\\'name=\"Rahul\"\\'\\nexec(y)\\n\\ny=\\'if True:print(\"HI\")\\'\\nexec(y)', '_i75': 'age=43\\nx=\"if age>18:print(\\'adult\\')\"\\nexec(x)\\n\\ny=\\'name=\"Rahul\"\\'\\nexec(y)\\n\\ny=\\'if True:print(\"HI\")\\'\\neval(y)', '_i76': 'age=43\\nx=\"if age>18:print(\\'adult\\')\"\\nexec(x)\\n\\ny=\\'name=\"Rahul\"\\'\\nexec(y)\\n\\ny=\\'print(\"HI\")\\'\\neval(y)', '_i77': 'x=complex(3,10)\\nprint(x)', '_i78': 'class new:\\n    def __init__(self):\\n        self.name=\"Rahul\"\\n        self.age=22\\n        self.city=\"Jaipur\"\\nobj1=new()\\nprint(obj1.name)', 'new': <class '__main__.new'>, 'obj1': <__main__.new object at 0x000002B0B5824D70>, '_i79': 'class new:\\n    def __init__(self):\\n        self.name=\"Rahul\"\\n        self.age=22\\n        self.city=\"Jaipur\"\\nobj1=new()\\nprint(obj1.name)\\nprint(obj1.age)', '_i80': 'class new:\\n    def __init__(self):\\n        self.name=\"Rahul\"\\n        self.age=22\\n        self.city=\"Jaipur\"\\nobj1=new()\\nprint(obj1.name)\\nprint(obj1.age)\\nprint(obj1.city)', '_i81': 'class new:\\n    def __init__(self):\\n        self.name=\"Rahul\"\\n        self.age=22\\n        self.city=\"Jaipur\"\\nobj1=new()\\nprint(obj1.name)\\nprint(obj1.age)\\nprint(obj1.city)\\n\\ndelattr(new,\"city\")', '_i82': 'class new:\\n    def __init__(self):\\n        self.name=\"Rahul\"\\n        self.age=22\\n        self.city=\"Jaipur\"\\nobj1=new()\\nprint(obj1.name)\\nprint(obj1.age)\\nprint(obj1.city)\\n\\ndel obj1.age', '_i83': 'class new:\\n    def __init__(self):\\n        self.name=\"Rahul\"\\n        self.age=22\\n        self.city=\"Jaipur\"\\nobj1=new()\\nprint(obj1.name)\\nprint(obj1.age)\\nprint(obj1.city)\\n\\ndel obj1.age\\nprint(obj1.age)', '_i84': 'class new:\\n    def __init__(self):\\n        self.name=\"Rahul\"\\n        self.age=22\\n        self.city=\"Jaipur\"\\nobj1=new()\\nprint(obj1.name)\\nprint(obj1.age)\\nprint(obj1.city)\\n\\ndel obj1.age\\ndelattr(new,age)', '_i85': 'class new:\\n    def __init__(self):\\n        self.name=\"Rahul\"\\n        self.age=22\\n        self.city=\"Jaipur\"\\nobj1=new()\\nprint(obj1.name)\\nprint(obj1.age)\\nprint(obj1.city)\\n\\ndel obj1.age\\ndelattr(new,\"age\")', '_i86': 'class new:\\n    def __init__(self):\\n        self.name=\"Rahul\"\\n        self.age=22\\n        self.city=\"Jaipur\"\\nobj1=new()\\nprint(obj1.name)\\nprint(obj1.age)\\nprint(obj1.city)\\n\\ndel obj1.age\\ndelattr(new,\"city\")', '_i87': 'class new:\\n    def __init__(self):\\n        self.name=\"Rahul\"\\n        self.age=22\\n        self.city=\"Jaipur\"\\nobj1=new()\\nprint(obj1.name)\\nprint(obj1.age)\\nprint(obj1.city)\\n\\ndel obj1.age\\ndelattr(obj1,\"city\")', '_i88': 'class new:\\n    def __init__(self):\\n        self.name=\"Rahul\"\\n        self.age=22\\n        self.city=\"Jaipur\"\\nobj1=new()\\nprint(obj1.name)\\nprint(obj1.age)\\nprint(obj1.city)\\n\\ndel obj1.age\\ndelattr(obj1,\"city\")\\nprint(obj1.city)', '_i89': 'class new:\\n    def __init__(self):\\n        self.name=\"Rahul\"\\n        self.age=22\\n        self.city=\"Jaipur\"\\nobj1=new()\\nprint(obj1.name)\\nprint(obj1.age)\\nprint(obj1.city)\\n\\ndel obj1.age\\ndelattr(obj1,\"city\")\\nif obj1.city is False:\\n    raise(\"ArithmeticError\",)', '_i90': 'class new:\\n    def __init__(self):\\n        self.name=\"Rahul\"\\n        self.age=22\\n        self.city=\"Jaipur\"\\nobj1=new()\\nprint(obj1.name)\\nprint(obj1.age)\\nprint(obj1.city)\\n\\ndel obj1.age\\ndelattr(obj1,\"city\")\\nif obj1.city is False:\\n    raise(\"ArithmeticError\")', '_i91': 'class new:\\n    def __init__(self):\\n        self.name=\"Rahul\"\\n        self.age=22\\n        self.city=\"Jaipur\"\\nobj1=new()\\nprint(obj1.name)\\nprint(obj1.age)\\nprint(obj1.city)\\n\\ndel obj1.age\\ndelattr(obj1,\"city\")\\nif obj1.city is False:\\n    raise(\"ArithmeticError\")', '_i92': 'class new:\\n    def __init__(self):\\n        self.name=\"Rahul\"\\n        self.age=22\\n        self.city=\"Jaipur\"\\nobj1=new()\\nprint(obj1.name)\\nprint(obj1.age)\\nprint(obj1.city)\\n\\ndel obj1.age\\ndelattr(obj1,\"city\")\\ntry:\\n    print(obj1.city)\\nexcept:\\n    raise(\"inputerror\",\"city is not abailable\")', '_i93': 'class new:\\n    def __init__(self):\\n        self.name=\"Rahul\"\\n        self.age=22\\n        self.city=\"Jaipur\"\\nobj1=new()\\nprint(obj1.name)\\nprint(obj1.age)\\nprint(obj1.city)\\n\\ndel obj1.age\\ndelattr(obj1,\"city\")\\ntry:\\n    print(obj1.city)\\nexcept:\\n    raise(\"AttributeError\",\"city is not abailable\")', '_i94': 'class new:\\n    def __init__(self):\\n        self.name=\"Rahul\"\\n        self.age=22\\n        self.city=\"Jaipur\"\\nobj1=new()\\nprint(obj1.name)\\nprint(obj1.age)\\nprint(obj1.city)\\n\\ndel obj1.age\\ndelattr(obj1,\"city\")\\ntry:\\n    print(obj1.city)\\nexcept:\\n    raise TypeError(\"city is not abailable\")', '_i95': 'class new:\\n    def __init__(self):\\n        self.name=\"Rahul\"\\n        self.age=22\\n        self.city=\"Jaipur\"\\nobj1=new()\\nprint(obj1.name)\\nprint(obj1.age)\\nprint(obj1.city)\\n\\ndel obj1.age\\ndelattr(obj1,\"city\")\\ntry:\\n    print(obj1.city)\\nexcept:\\n    raise Exception(\"city is not abailable\")', '_i96': 'class new:\\n    def __init__(self):\\n        self.name=\"Rahul\"\\n        self.age=22\\n        self.city=\"Jaipur\"\\nobj1=new()\\nprint(obj1.name)\\nprint(obj1.age)\\nprint(obj1.city)\\n\\ndel obj1.age\\ndelattr(obj1,\"city\")\\ntry:\\n    print(obj1.age)\\nexcept:\\n    raise Exception(\"city is not abailable\")', '_i97': 'class new:\\n    def __init__(self):\\n        self.name=\"Rahul\"\\n        self.age=22\\n        self.city=\"Jaipur\"\\nobj1=new()\\nprint(obj1.name)\\nprint(obj1.age)\\nprint(obj1.city)\\n\\ndel obj1.age\\ndelattr(obj1,\"city\")\\ntry:\\n    print(obj1.name)\\nexcept:\\n    raise Exception(\"city is not abailable\")', '_i98': 'class new:\\n    def __init__(self):\\n        self.name=\"Rahul\"\\n        self.age=22\\n        self.city=\"Jaipur\"\\nobj1=new()\\nprint(obj1.name)\\nprint(obj1.age)\\nprint(obj1.city)\\n\\ndel obj1.age\\ndelattr(obj1,\"city\")\\ntry:\\n    print(obj1.city)\\nexcept:\\n    raise Exception(\"city is not abailable\")', '_i99': 'class new:\\n    def __init__(self):\\n        self.name=\"Rahul\"\\n        self.age=22\\n        self.city=\"Jaipur\"\\nobj1=new()\\nprint(obj1.name)\\nprint(obj1.age)\\nprint(obj1.city)\\n\\ndel obj1.age\\ndelattr(obj1,\"city\")\\ntry:\\n    print(obj1.city)\\nexcept:\\n    raise AttributeError(\"city is not abailable\")', '_i100': 'class new:\\n    def __init__(self):\\n        self.name=\"Rahul\"\\n        self.age=22\\n        self.city=\"Jaipur\"\\nobj1=new()\\nprint(obj1.name)\\nprint(obj1.age)\\nprint(obj1.city)\\n\\ndel obj1.age\\ndelattr(obj1,\"city\")\\ntry:\\n    x=obj1.city\\nexcept:\\n    raise AttributeError(\"city is not abailable\")', '_i101': 'class new:\\n    def __init__(self):\\n        self.name=\"Rahul\"\\n        self.age=22\\n        self.city=\"Jaipur\"\\nobj1=new()\\nprint(obj1.name)\\nprint(obj1.age)\\nprint(obj1.city)\\n\\ndel obj1.age\\ndelattr(obj1,\"city\")\\ntry:\\n    x=obj1.city\\nexcept AttributeError:\\n    raise AttributeError(\"city is not abailable\")', '_i102': 'class new:\\n    def __init__(self):\\n        self.name=\"Rahul\"\\n        self.age=22\\n        self.city=\"Jaipur\"\\nobj1=new()\\nprint(obj1.name)\\nprint(obj1.age)\\nprint(obj1.city)\\n\\ndel obj1.age\\ndelattr(obj1,\"city\")\\ntry:\\n    x=obj1.city\\nexcept :\\n    raise TypeError(\"city is not abailable\")', '_i103': 'class new:\\n    def __init__(self):\\n        self.name=\"Rahul\"\\n        self.age=22\\n        self.city=\"Jaipur\"\\nobj1=new()\\nprint(obj1.name)\\nprint(obj1.age)\\nprint(obj1.city)\\n\\ndel obj1.age\\ndelattr(obj1,\"city\")\\ntry:\\n    x=obj1.city\\nexcept AttributeError :\\n    raise TypeError(\"city is not abailable\")', '_i104': 'class new:\\n    def __init__(self):\\n        self.name=\"Rahul\"\\n        self.age=22\\n        self.city=\"Jaipur\"\\nobj1=new()\\nprint(obj1.name)\\nprint(obj1.age)\\nprint(obj1.city)\\n\\ndel obj1.age\\ndelattr(obj1,\"city\")\\ntry:\\n    x=obj1.city\\nexcept AttributeError :\\n    raise TypeError(\"city is not abailable\") from None', '_i105': 'import sys\\nclass new:\\n    def __init__(self):\\n        self.name=\"Rahul\"\\n        self.age=22\\n        self.city=\"Jaipur\"\\nobj1=new()\\nprint(obj1.name)\\nprint(obj1.age)\\nprint(obj1.city)\\n\\ndel obj1.age\\ndelattr(obj1,\"city\")\\ntry:\\n    x=obj1.city\\nexcept AttributeError :\\n    raise TypeError(\"city is not abailable\") from None', 'sys': <module 'sys' (built-in)>, '_i106': 'class new:\\n    def __init__(self):\\n        self.name=\"Rahul\"\\n        self.age=22\\n        self.city=\"Jaipur\"\\nobj1=new()\\nprint(obj1.name)\\nprint(obj1.age)\\nprint(obj1.city)\\n\\ndel obj1.age\\ndelattr(obj1,\"city\")\\ntry:\\n    x=obj1.city\\nexcept AttributeError :\\n    raise TypeError(\"city is not abailable\") from None', '_i107': 'x=[1,2,4,5,\"rahul\"]\\nprint(dict(x))', '_i108': 'x=[1,2,4,5,\"rahul\"]\\ny=dict(x)\\nprint(y)', '_i109': 'x=[1=\"rahul\",2=\"maya\",4=\"rabbit\",5=\"rahul_2\"]\\ny=dict(x)\\nprint(y)', '_i110': 'x=1=\"rahul\",2=\"maya\",4=\"rabbit\",5=\"rahul_2\"\\ny=dict(x)\\nprint(y)', '_i111': 'x=(1=\"rahul\",2=\"maya\",4=\"rabbit\",5=\"rahul_2\")\\ny=dict(x)\\nprint(y)', '_i112': '\\ny=dict(1=\"rahul\",2=\"maya\",4=\"rabbit\",5=\"rahul_2\")\\nprint(y)', '_i113': '# y=dict(1=\"rahul\",2=\"maya\",4=\"rabbit\",5=\"rahul_2\")\\ny=dict(name=\"rahul\",age=34,city=\"KOTA\")\\nprint(y)', '_i114': 'y=dict{1=\"rahul\",2=\"maya\",4=\"rabbit\",5=\"rahul_2\"}\\ny=dict(name=\"rahul\",age=34,city=\"KOTA\")\\nprint(y)', '_i115': 'y=dict(name=\"rahul\",age=34,city=\"KOTA\")\\nprint(y)\\n\\nx=y=dict([(1,\"rahul\"),(2,\"maya\"),(4=\"rabbit\"),(5=\"rahul_2\")])', '_i116': 'y=dict(name=\"rahul\",age=34,city=\"KOTA\")\\nprint(y)\\n\\nx=dict([(1,\"rahul\"),(2,\"maya\"),(4=\"rabbit\"),(5=\"rahul_2\")])', '_i117': 'y=dict(name=\"rahul\",age=34,city=\"KOTA\")\\nprint(y)\\n\\nx=dict([(1,\"rahul\"),(2,\"maya\"),(4,\"rabbit\"),(5,\"rahul_2\")])\\nprint(x)', '_i118': 'x = divmod(5, 2)', '_i119': 'x = divmod(5, 2)\\nx', '_119': (2, 1), '_i120': \"x = ('apple', 'banana', 'cherry')\\ny = enumerate(x)\", '_i121': \"x = ('apple', 'banana', 'cherry')\\ny = enumerate(x)\\ny\", '_121': <enumerate object at 0x000002B0B61BA930>, '_i122': \"x = ('apple', 'banana', 'cherry')\\ny = enumerate(x)\\nx\", '_122': ('apple', 'banana', 'cherry'), '_i123': \"x = ('apple', 'banana', 'cherry')\\ny = enumerate(x)\\ny\", '_123': <enumerate object at 0x000002B0B61BB4C0>, '_i124': \"x = ('apple', 'banana', 'cherry')\\ny = enumerate(x)\\nprint(list(y))\", '_i125': \"x = ('apple', 'banana', 'cherry')\\ny = enumerate(x)\\nprint(list(y))\\nd=dict(list(y))\\nprint(d)\", 'd': {0: 'apple', 1: 'banana', 2: 'cherry'}, '_i126': \"x = ('apple', 'banana', 'cherry')\\ny = enumerate(x)\\nprint(list(y))\\nd=dict([list(y)])\\nprint(d)\", '_i127': \"x = ('apple', 'banana', 'cherry')\\ny = enumerate(x)\\nprint(list(y))\\nd=dict(list(y))\\nprint(d)\", '_i128': \"x = ('apple', 'banana', 'cherry')\\ny = enumerate(x)\\nprint(list(y))\\nd1=list(y)\\nd=dict(d1)\\nprint(d)\", 'd1': [], '_i129': \"x = ('apple', 'banana', 'cherry')\\ny = enumerate(x)\\nprint(list(y))\\nd=dict(y)\\nprint(d)\", '_i130': \"x = ('apple', 'banana', 'cherry')\\ny = enumerate(x)\\n# print(list(y))\\nd=dict(y)\\nprint(d)\", '_i131': \"x = ('apple', 'banana', 'cherry')\\ny = enumerate(x)\\nprint(list(y))\\nd=dict(y)\\nprint(d)\", '_i132': \"x = ('apple', 'banana', 'cherry')\\ny = enumerate(x)\\n# print(list(y))\\nd=dict(y)\\nprint(d)\", '_i133': \"x = format(0.5, '%')\", '_i134': \"x = format(0.5, '%')\\nprint(x)\", '_i135': \"x = format(0.5, '%')\\nprint(x)\\n\\ny=format(78,'-')\\nprint(y)\", '_i136': \"x = format(0.5, '%')\\nprint(x)\\n\\ny=format(78,'b')\\nprint(y)\", '_i137': \"x = format(0.5, '%')\\nprint(x)\\n\\ny=format(78,'b')\\nprint(y)\\n\\nz=format(23,'g')\\nprint(z)\", '_i138': \"x = format(0.5, '%')\\nprint(x)\\n\\ny=format(78,'b')\\nprint(y)\\n\\nz=format(23,'X')\\nprint(z)\", '_i139': \"x = format(0.5, '%')\\nprint(x)\\n\\ny=format(78,'b')  # binart format\\nprint(y)\\n\\nz=format(23,'X')  # hex format upper case\\nprint(z)\", '_i140': 'class Person:\\n  name = \"John\"\\n  age = 36\\n  country = \"Norway\"\\n\\nx = getattr(Person, \\'age\\')', 'Person': <class '__main__.Person'>, '_i141': 'class Person:\\n  name = \"John\"\\n  age = 36\\n  country = \"Norway\"\\n\\nx = getattr(Person, \\'age\\')\\nx', '_141': 36, '_i142': 'class Person:\\n  name = \"John\"\\n  age = 36\\n  country = \"Norway\"\\np=Person()\\nsetattr(Person, \\'age\\', 40)', 'p': <__main__.Person object at 0x000002B0B58DD2B0>, '_i143': 'class Person:\\n  name = \"John\"\\n  age = 36\\n  country = \"Norway\"\\np=Person()\\nsetattr(Person, \\'age\\', 40)\\nprint(p.age)', '_i144': 'class Person:\\n  name = \"John\"\\n  age = 36\\n  country = \"Norway\"\\np=Person()\\nsetattr(Person, \\'age\\', 40)\\nprint(p.age)\\nsetattr(Person, \\'height\\', 40)', '_i145': 'class Person:\\n  name = \"John\"\\n  age = 36\\n  country = \"Norway\"\\np=Person()\\nsetattr(Person, \\'age\\', 40)\\nprint(p.age)\\nsetattr(Person, \\'height\\', 40)\\nprint(p.height)', '_i146': 'class Person:\\n  name = \"John\"\\n  age = 36\\n  country = \"Norway\"\\np=Person()\\nsetattr(Person, \\'age\\', 40)\\nprint(p.age)\\nsetattr(Person, \\'height\\', 20)\\nprint(p.height)', '_i147': 'class Person:\\n  name = \"John\"\\n  age = 36\\n  country = \"Norway\"\\np=Person()\\nsetattr(Person, \\'age\\', 40)\\nprint(p.age)\\nsetattr(Person, \\'height\\', 20)\\nprint(p.height)\\nhasattr(Person,height)', '_i148': 'class Person:\\n  name = \"John\"\\n  age = 36\\n  country = \"Norway\"\\np=Person()\\nsetattr(Person, \\'age\\', 40)\\nprint(p.age)\\nsetattr(Person, \\'height\\', 20)\\nprint(p.height)\\nhasattr(Person,\"height\")', '_148': True, '_i149': 'class Person:\\n  name = \"John\"\\n  age = 36\\n  country = \"Norway\"\\np=Person()\\nsetattr(Person, \\'age\\', 40)\\nprint(p.age)\\nsetattr(Person, \\'height\\', 20)   # to set or insert a new variable\\nprint(p.height)\\nhasattr(Person,\"height\")  # to check the attribte has exist or not', '_149': True, '_i150': 'hash()', '_i151': 'hash(p)', '_151': 184873966891, '_i152': 'help', '_152': Type help() for interactive help, or help(object) for help about object., '_i153': '())', '_i154': 'help()', '_i155': 'help(print)', '_i156': 'help(hasattr)', '_i157': \"x = ('apple', 'banana', 'cherry')\\ny = id(x)\", '_i158': \"x = ('apple', 'banana', 'cherry')\\ny = id(x)\\nprint(y)\", '_i159': 'help(id)', '_i160': 'help(index)', '_i161': 'help(hash)', '_i162': 'x = isinstance(5, int)', '_i163': 'x = isinstance(5, int)\\nprint(x)', '_i164': 'x = isinstance(5, int)\\nprint(x)\\n\\nx = isinstance(\"Hello\", (float, int, str, list, dict, tuple))\\nprint(x)', '_i165': 'x = isinstance(5, int)\\nprint(x)\\n\\nx = isinstance(\"Hello\", (float, int, str, list, dict, tuple))\\nprint(x)\\n\\nclass myObj:\\n  name = \"John\"\\n\\ny = myObj()\\n\\nx = isinstance(y, myObj)', 'myObj': <class '__main__.myObj'>, '_i166': 'x = isinstance(5, int)\\nprint(x)\\n\\nx = isinstance(\"Hello\", (float, int, str, list, dict, tuple))\\nprint(x)\\n\\nclass myObj:\\n  name = \"John\"\\n\\ny = myObj()\\n\\nx = isinstance(y, myObj)\\nprint(x)', '_i167': 'x = iter([\"apple\", \"banana\", \"cherry\"])\\nprint(next(x))\\nprint(next(x))\\nprint(next(x))', '_i168': 'x = globals()\\nprint(x)'}\n"
     ]
    }
   ],
   "source": [
    "x = globals()\n",
    "print(x)"
   ]
  },
  {
   "cell_type": "code",
   "execution_count": 173,
   "id": "fefbaeee",
   "metadata": {},
   "outputs": [
    {
     "name": "stdout",
     "output_type": "stream",
     "text": [
      "__main__\n"
     ]
    }
   ],
   "source": [
    "print(x['__name__'])"
   ]
  },
  {
   "cell_type": "markdown",
   "id": "0bb89813",
   "metadata": {},
   "source": [
    "## map()"
   ]
  },
  {
   "cell_type": "code",
   "execution_count": 181,
   "id": "3a59bd61",
   "metadata": {},
   "outputs": [
    {
     "name": "stdout",
     "output_type": "stream",
     "text": [
      "('apple', 'banana', 'cherry', 'orange', 'lemon', 'pineapple')\n",
      "['appleorange', 'bananalemon', 'cherrypineapple']\n"
     ]
    }
   ],
   "source": [
    "def myfunc(a, b):\n",
    "  return a + b\n",
    "\n",
    "x = myfunc(('apple', 'banana', 'cherry'), ('orange', 'lemon', 'pineapple'))\n",
    "print(x)\n",
    "\n",
    "\n",
    "def myfunc(a, b):\n",
    "  return a + b\n",
    "\n",
    "x = map(myfunc, ('apple', 'banana', 'cherry'), ('orange', 'lemon', 'pineapple'))\n",
    "print(list(x))"
   ]
  },
  {
   "cell_type": "markdown",
   "id": "7d2af3de",
   "metadata": {},
   "source": [
    "## memoryview()"
   ]
  },
  {
   "cell_type": "code",
   "execution_count": 182,
   "id": "9cbc694d",
   "metadata": {},
   "outputs": [
    {
     "name": "stdout",
     "output_type": "stream",
     "text": [
      "<memory at 0x000002B0B6242BC0>\n",
      "72\n",
      "101\n"
     ]
    }
   ],
   "source": [
    "x = memoryview(b\"Hello\")\n",
    "\n",
    "print(x)\n",
    "\n",
    "#return the Unicode of the first character\n",
    "print(x[0])\n",
    "\n",
    "#return the Unicode of the second character\n",
    "print(x[1])"
   ]
  },
  {
   "cell_type": "markdown",
   "id": "a3871882",
   "metadata": {},
   "source": [
    "## pow()"
   ]
  },
  {
   "cell_type": "code",
   "execution_count": 183,
   "id": "4a7f0563",
   "metadata": {},
   "outputs": [
    {
     "data": {
      "text/plain": [
       "9"
      ]
     },
     "execution_count": 183,
     "metadata": {},
     "output_type": "execute_result"
    }
   ],
   "source": [
    "x=pow(3,2)\n",
    "x"
   ]
  },
  {
   "cell_type": "markdown",
   "id": "718d59bc",
   "metadata": {},
   "source": [
    "## slice()"
   ]
  },
  {
   "cell_type": "code",
   "execution_count": 184,
   "id": "9f5e4e31",
   "metadata": {},
   "outputs": [
    {
     "name": "stdout",
     "output_type": "stream",
     "text": [
      "('a', 'b')\n"
     ]
    }
   ],
   "source": [
    "a = (\"a\", \"b\", \"c\", \"d\", \"e\", \"f\", \"g\", \"h\")\n",
    "x = slice(2)\n",
    "print(a[x])"
   ]
  },
  {
   "cell_type": "code",
   "execution_count": 185,
   "id": "b6d40536",
   "metadata": {},
   "outputs": [
    {
     "name": "stdout",
     "output_type": "stream",
     "text": [
      "('a', 'd', 'g')\n"
     ]
    }
   ],
   "source": [
    "a = (\"a\", \"b\", \"c\", \"d\", \"e\", \"f\", \"g\", \"h\")\n",
    "x = slice(0, 8, 3)\n",
    "print(a[x])"
   ]
  },
  {
   "cell_type": "markdown",
   "id": "182568cf",
   "metadata": {},
   "source": [
    "## vars()"
   ]
  },
  {
   "cell_type": "code",
   "execution_count": 189,
   "id": "0457b39e",
   "metadata": {},
   "outputs": [
    {
     "data": {
      "text/plain": [
       "mappingproxy({'__module__': '__main__',\n",
       "              'name': 'Rahul',\n",
       "              'city': 'Jaipur',\n",
       "              '__dict__': <attribute '__dict__' of 'Person' objects>,\n",
       "              '__weakref__': <attribute '__weakref__' of 'Person' objects>,\n",
       "              '__doc__': None})"
      ]
     },
     "execution_count": 189,
     "metadata": {},
     "output_type": "execute_result"
    }
   ],
   "source": [
    "class Person:\n",
    "    name=\"Rahul\"\n",
    "    city=\"Jaipur\"\n",
    "\n",
    "x=vars(Person)\n",
    "x"
   ]
  },
  {
   "cell_type": "markdown",
   "id": "aa570862",
   "metadata": {},
   "source": [
    "# zip()"
   ]
  },
  {
   "cell_type": "code",
   "execution_count": 198,
   "id": "8ced35f8",
   "metadata": {},
   "outputs": [
    {
     "name": "stdout",
     "output_type": "stream",
     "text": [
      "{'John': 'Jenny', 'Charles': 'Christy', 'Mike': 'Monica'}\n"
     ]
    }
   ],
   "source": [
    "a = (\"John\", \"Charles\", \"Mike\")\n",
    "b = (\"Jenny\", \"Christy\", \"Monica\", \"Vicky\")\n",
    "\n",
    "x = zip(a, b)\n",
    "# print(list(x))\n",
    "d=dict(x)\n",
    "print(d)"
   ]
  },
  {
   "cell_type": "code",
   "execution_count": null,
   "id": "0beef3e4",
   "metadata": {},
   "outputs": [],
   "source": []
  }
 ],
 "metadata": {
  "kernelspec": {
   "display_name": "Python 3",
   "language": "python",
   "name": "python3"
  },
  "language_info": {
   "codemirror_mode": {
    "name": "ipython",
    "version": 3
   },
   "file_extension": ".py",
   "mimetype": "text/x-python",
   "name": "python",
   "nbconvert_exporter": "python",
   "pygments_lexer": "ipython3",
   "version": "3.12.8"
  }
 },
 "nbformat": 4,
 "nbformat_minor": 5
}
