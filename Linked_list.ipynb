{
 "cells": [
  {
   "cell_type": "markdown",
   "id": "c0639a07",
   "metadata": {},
   "source": [
    "A Linked List is, as the word implies, a list where the nodes are linked together. Each node contains data and a pointer. \n",
    "\n",
    "The way they are linked together is that each node points to where in the memory the next node is placed."
   ]
  },
  {
   "cell_type": "markdown",
   "id": "dc15b529",
   "metadata": {},
   "source": [
    "Basic things we can do with linked lists are:\n",
    "\n",
    "*Traversal\n",
    "\n",
    "*Remove a node\n",
    "\n",
    "*Insert a node\n",
    "\n",
    "*Sort"
   ]
  },
  {
   "cell_type": "markdown",
   "id": "fa704c8d",
   "metadata": {},
   "source": [
    "#### Traversal in Linked list"
   ]
  },
  {
   "cell_type": "code",
   "execution_count": 1,
   "id": "3dde4765",
   "metadata": {},
   "outputs": [
    {
     "name": "stdout",
     "output_type": "stream",
     "text": [
      "5->11->58->80->23->null\n"
     ]
    }
   ],
   "source": [
    "class Node:\n",
    "    def __init__(self,data):\n",
    "        self.data=data\n",
    "        self.next=None\n",
    "\n",
    "def LinkedList_traversal(head):\n",
    "    currentnode=head\n",
    "    while(currentnode):\n",
    "        print(currentnode.data,end=\"->\")\n",
    "        currentnode=currentnode.next\n",
    "    print(\"null\")\n",
    "    \n",
    "\n",
    "node1=Node(5)\n",
    "node2=Node(11)\n",
    "node3=Node(58)\n",
    "node4=Node(80)\n",
    "node5=Node(23)\n",
    "\n",
    "node1.next=node2\n",
    "node2.next=node3\n",
    "node3.next=node4\n",
    "node4.next=node5\n",
    "\n",
    "LinkedList_traversal(node1)\n",
    "    "
   ]
  },
  {
   "cell_type": "markdown",
   "id": "9321bc82",
   "metadata": {},
   "source": [
    "### finding Lowest value in Linked list"
   ]
  },
  {
   "cell_type": "code",
   "execution_count": 3,
   "id": "409d288c",
   "metadata": {},
   "outputs": [
    {
     "name": "stdout",
     "output_type": "stream",
     "text": [
      "The lowest value in the linked list is: 11\n"
     ]
    }
   ],
   "source": [
    "class Node:\n",
    "  def __init__(self, data):\n",
    "    self.data = data\n",
    "    self.next = None\n",
    "\n",
    "def smallest_value(head):\n",
    "  minValue=head.data\n",
    "  current_node=head.next\n",
    "  while current_node:\n",
    "    if current_node.data < minValue:\n",
    "      minValue=current_node.data\n",
    "    current_node=current_node.next\n",
    "  return minValue\n",
    "\n",
    "node1=Node(50)\n",
    "node2=Node(11)\n",
    "node3=Node(58)\n",
    "node4=Node(80)\n",
    "node5=Node(23)\n",
    "\n",
    "node1.next=node2\n",
    "node2.next=node3\n",
    "node3.next=node4\n",
    "node4.next=node5\n",
    "\n",
    "print(\"The lowest value in the linked list is:\", smallest_value(node1))\n"
   ]
  },
  {
   "cell_type": "markdown",
   "id": "1ea2b7df",
   "metadata": {},
   "source": [
    "### Deleting an element "
   ]
  },
  {
   "cell_type": "markdown",
   "id": "fa0eda12",
   "metadata": {},
   "source": [
    "If you want to delete a node in a linked list, it is important to connect the nodes on each side of the node before deleting it,\n",
    "\n",
    "so that the linked list is not broken."
   ]
  },
  {
   "cell_type": "code",
   "execution_count": null,
   "id": "3862d552",
   "metadata": {},
   "outputs": [
    {
     "name": "stdout",
     "output_type": "stream",
     "text": [
      "5->11->80->23->null\n",
      "5->11->58->80->23->null\n"
     ]
    }
   ],
   "source": [
    "class Node:\n",
    "    def __init__(self,data):\n",
    "        self.data=data\n",
    "        self.next=None\n",
    "        \n",
    "def LinkedList_traversal(head):\n",
    "    currentnode=head\n",
    "    while(currentnode):\n",
    "        print(currentnode.data,end=\"->\")\n",
    "        currentnode=currentnode.next\n",
    "    print(\"null\")\n",
    "\n",
    "\n",
    "def deleting_node(head,node_to_delete):\n",
    "    if head==node_to_delete:\n",
    "        return head.next\n",
    "    \n",
    "    currentnode=head\n",
    "    while(currentnode):\n",
    "        \n",
    "        if currentnode==node_to_delete:\n",
    "            currentnode=currentnode.next\n",
    "        print(currentnode.data,end=\"->\")\n",
    "        currentnode=currentnode.next\n",
    "    print(\"null\")\n",
    "\n",
    "node1=Node(5)\n",
    "node2=Node(11)\n",
    "node3=Node(58)\n",
    "node4=Node(80)\n",
    "node5=Node(23)\n",
    "\n",
    "node1.next=node2\n",
    "node2.next=node3\n",
    "node3.next=node4\n",
    "node4.next=node5\n",
    "\n",
    "deleting_node(node1,node3)\n",
    "LinkedList_traversal(node1)"
   ]
  },
  {
   "cell_type": "code",
   "execution_count": null,
   "id": "f30d23f3",
   "metadata": {},
   "outputs": [
    {
     "name": "stdout",
     "output_type": "stream",
     "text": [
      "5->11->58->80->23->null\n"
     ]
    }
   ],
   "source": [
    "class Node:\n",
    "    def __init__(self,data):\n",
    "        self.data=data\n",
    "        self.next=None\n",
    "\n",
    "def insertion_at_end(head,data,node):\n",
    "    currentnode=head\n",
    "    while(currentnode):\n",
    "        \n",
    "        \n",
    "        if currentnode.next==False:\n",
    "            currentnode.next=node6\n",
    "            node6.data=data\n",
    "\n",
    "        currentnode=currentnode.next\n",
    "        print(currentnode.data,end=\"->\")\n",
    "    print(\"null\")\n",
    "\n",
    "node1=Node(5)\n",
    "node2=Node(11)\n",
    "node3=Node(58)\n",
    "node4=Node(80)\n",
    "node5=Node(23)\n",
    "node6=Node(None)\n",
    "\n",
    "node1.next=node2\n",
    "node2.next=node3\n",
    "node3.next=node4\n",
    "node4.next=node5\n",
    "insertion_at_end(node1,50,node6)\n",
    "    "
   ]
  },
  {
   "cell_type": "code",
   "execution_count": null,
   "id": "0b0104b9",
   "metadata": {},
   "outputs": [],
   "source": []
  }
 ],
 "metadata": {
  "kernelspec": {
   "display_name": "Python 3",
   "language": "python",
   "name": "python3"
  },
  "language_info": {
   "codemirror_mode": {
    "name": "ipython",
    "version": 3
   },
   "file_extension": ".py",
   "mimetype": "text/x-python",
   "name": "python",
   "nbconvert_exporter": "python",
   "pygments_lexer": "ipython3",
   "version": "3.12.8"
  }
 },
 "nbformat": 4,
 "nbformat_minor": 5
}
