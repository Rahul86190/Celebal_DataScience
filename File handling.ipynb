{
 "cells": [
  {
   "cell_type": "markdown",
   "id": "92690a77",
   "metadata": {},
   "source": [
    "## open"
   ]
  },
  {
   "cell_type": "markdown",
   "id": "22d8e9d4",
   "metadata": {},
   "source": [
    "Open is used to done the operations on the file.\n"
   ]
  },
  {
   "cell_type": "markdown",
   "id": "84215109",
   "metadata": {},
   "source": [
    "We can use file and open file with four operations.\n",
    "* \"r\" = Read mode\n",
    "* \"w\" = Write mode\n",
    "* \"a\" = Append mode\n",
    "* \"x\" = creating mode"
   ]
  },
  {
   "cell_type": "markdown",
   "id": "f69e07ca",
   "metadata": {},
   "source": [
    "> Read mode"
   ]
  },
  {
   "cell_type": "markdown",
   "id": "98165791",
   "metadata": {},
   "source": [
    "In read mode file can be open for the purpose of reading, We can't make changes in the file"
   ]
  },
  {
   "cell_type": "code",
   "execution_count": 2,
   "id": "f00d79b2",
   "metadata": {},
   "outputs": [
    {
     "ename": "FileNotFoundError",
     "evalue": "[Errno 2] No such file or directory: 'File1.txt'",
     "output_type": "error",
     "traceback": [
      "\u001b[1;31m---------------------------------------------------------------------------\u001b[0m",
      "\u001b[1;31mFileNotFoundError\u001b[0m                         Traceback (most recent call last)",
      "Cell \u001b[1;32mIn[2], line 1\u001b[0m\n\u001b[1;32m----> 1\u001b[0m f\u001b[38;5;241m=\u001b[39m\u001b[38;5;28;43mopen\u001b[39;49m\u001b[43m(\u001b[49m\u001b[38;5;124;43m\"\u001b[39;49m\u001b[38;5;124;43mFile1.txt\u001b[39;49m\u001b[38;5;124;43m\"\u001b[39;49m\u001b[43m,\u001b[49m\u001b[38;5;124;43m\"\u001b[39;49m\u001b[38;5;124;43mr\u001b[39;49m\u001b[38;5;124;43m\"\u001b[39;49m\u001b[43m)\u001b[49m   \u001b[38;5;66;03m# it will raise an error beacause File1.txt is not present in the current directory.\u001b[39;00m\n\u001b[0;32m      2\u001b[0m \u001b[38;5;28mprint\u001b[39m(f)\n",
      "File \u001b[1;32mc:\\Users\\Admin\\AppData\\Local\\Programs\\Python\\Python312\\Lib\\site-packages\\IPython\\core\\interactiveshell.py:324\u001b[0m, in \u001b[0;36m_modified_open\u001b[1;34m(file, *args, **kwargs)\u001b[0m\n\u001b[0;32m    317\u001b[0m \u001b[38;5;28;01mif\u001b[39;00m file \u001b[38;5;129;01min\u001b[39;00m {\u001b[38;5;241m0\u001b[39m, \u001b[38;5;241m1\u001b[39m, \u001b[38;5;241m2\u001b[39m}:\n\u001b[0;32m    318\u001b[0m     \u001b[38;5;28;01mraise\u001b[39;00m \u001b[38;5;167;01mValueError\u001b[39;00m(\n\u001b[0;32m    319\u001b[0m         \u001b[38;5;124mf\u001b[39m\u001b[38;5;124m\"\u001b[39m\u001b[38;5;124mIPython won\u001b[39m\u001b[38;5;124m'\u001b[39m\u001b[38;5;124mt let you open fd=\u001b[39m\u001b[38;5;132;01m{\u001b[39;00mfile\u001b[38;5;132;01m}\u001b[39;00m\u001b[38;5;124m by default \u001b[39m\u001b[38;5;124m\"\u001b[39m\n\u001b[0;32m    320\u001b[0m         \u001b[38;5;124m\"\u001b[39m\u001b[38;5;124mas it is likely to crash IPython. If you know what you are doing, \u001b[39m\u001b[38;5;124m\"\u001b[39m\n\u001b[0;32m    321\u001b[0m         \u001b[38;5;124m\"\u001b[39m\u001b[38;5;124myou can use builtins\u001b[39m\u001b[38;5;124m'\u001b[39m\u001b[38;5;124m open.\u001b[39m\u001b[38;5;124m\"\u001b[39m\n\u001b[0;32m    322\u001b[0m     )\n\u001b[1;32m--> 324\u001b[0m \u001b[38;5;28;01mreturn\u001b[39;00m \u001b[43mio_open\u001b[49m\u001b[43m(\u001b[49m\u001b[43mfile\u001b[49m\u001b[43m,\u001b[49m\u001b[43m \u001b[49m\u001b[38;5;241;43m*\u001b[39;49m\u001b[43margs\u001b[49m\u001b[43m,\u001b[49m\u001b[43m \u001b[49m\u001b[38;5;241;43m*\u001b[39;49m\u001b[38;5;241;43m*\u001b[39;49m\u001b[43mkwargs\u001b[49m\u001b[43m)\u001b[49m\n",
      "\u001b[1;31mFileNotFoundError\u001b[0m: [Errno 2] No such file or directory: 'File1.txt'"
     ]
    }
   ],
   "source": [
    "f=open(\"File1.txt\",\"r\")   # it will raise an error beacause File1.txt is not present in the current directory.\n",
    "print(f)"
   ]
  },
  {
   "cell_type": "markdown",
   "id": "878ac62e",
   "metadata": {},
   "source": [
    "## Note: To open a file,  the file must be exist in the current working directory."
   ]
  },
  {
   "cell_type": "markdown",
   "id": "cd923435",
   "metadata": {},
   "source": [
    "> Write mode"
   ]
  },
  {
   "cell_type": "markdown",
   "id": "7b5c1ce7",
   "metadata": {},
   "source": [
    "* Creating a file\n",
    "\n",
    " A file can be created by \"x\" operator and also with \"w\" operator.\n",
    "\n",
    " \"x\" operator can only able to create file and it can't make changes in the file can't access the file information.\n",
    " \n",
    " \"W\" operator can make the changes in file by writing in the file or if the file don't exist then if create the file then perform writte operation."
   ]
  },
  {
   "cell_type": "code",
   "execution_count": 19,
   "id": "ee4435ce",
   "metadata": {},
   "outputs": [],
   "source": [
    "# file creation by \"x\" operator\n",
    "file1=open(\"File2.txt\",\"x\")"
   ]
  },
  {
   "cell_type": "code",
   "execution_count": 20,
   "id": "9d4bfe71",
   "metadata": {},
   "outputs": [
    {
     "data": {
      "text/plain": [
       "5"
      ]
     },
     "execution_count": 20,
     "metadata": {},
     "output_type": "execute_result"
    }
   ],
   "source": [
    "file1.write(\"Rahul\")"
   ]
  },
  {
   "cell_type": "code",
   "execution_count": null,
   "id": "b44fd908",
   "metadata": {},
   "outputs": [],
   "source": [
    "file"
   ]
  },
  {
   "cell_type": "markdown",
   "id": "4da6d3a2",
   "metadata": {},
   "source": []
  },
  {
   "cell_type": "markdown",
   "id": "3ec26aad",
   "metadata": {},
   "source": []
  }
 ],
 "metadata": {
  "kernelspec": {
   "display_name": "Python 3",
   "language": "python",
   "name": "python3"
  },
  "language_info": {
   "codemirror_mode": {
    "name": "ipython",
    "version": 3
   },
   "file_extension": ".py",
   "mimetype": "text/x-python",
   "name": "python",
   "nbconvert_exporter": "python",
   "pygments_lexer": "ipython3",
   "version": "3.12.8"
  }
 },
 "nbformat": 4,
 "nbformat_minor": 5
}
