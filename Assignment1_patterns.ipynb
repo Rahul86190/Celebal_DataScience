{
 "cells": [
  {
   "cell_type": "markdown",
   "id": "7bc2dab0",
   "metadata": {},
   "source": [
    "## 1. Lower Triangular * pattern."
   ]
  },
  {
   "cell_type": "code",
   "execution_count": 11,
   "id": "14f1ffb0",
   "metadata": {},
   "outputs": [
    {
     "name": "stdout",
     "output_type": "stream",
     "text": [
      "* \n",
      "\n",
      "* * \n",
      "\n",
      "* * * \n",
      "\n",
      "* * * * \n",
      "\n",
      "* * * * * \n",
      "\n",
      "* * * * * * \n",
      "\n",
      "* * * * * * * \n",
      "\n",
      "* * * * * * * * \n",
      "\n",
      "* * * * * * * * * \n",
      "\n",
      "* * * * * * * * * * \n",
      "\n"
     ]
    }
   ],
   "source": [
    "\"\"\" let we want to print pattern of lower triangle for 10 rows,\n",
    "so we can define so directly use the iterations to print the patter.\n",
    "\n",
    "I can wrute code directly but I want to use function\n",
    "\"\"\"\n",
    "def lower_triangle(rows):\n",
    "    for i in range(rows):\n",
    "        for j in range(i+1):\n",
    "            print(\"*\", end=\" \")\n",
    "        print(\"\\n\")\n",
    "lower_triangle(10)\n"
   ]
  },
  {
   "cell_type": "markdown",
   "id": "56fe7aa7",
   "metadata": {},
   "source": [
    "## 2. Upper Triangular * pattern."
   ]
  },
  {
   "cell_type": "code",
   "execution_count": 13,
   "id": "9527e0ae",
   "metadata": {},
   "outputs": [
    {
     "name": "stdout",
     "output_type": "stream",
     "text": [
      "* * * * * * * * * * \n",
      "\n",
      "* * * * * * * * * \n",
      "\n",
      "* * * * * * * * \n",
      "\n",
      "* * * * * * * \n",
      "\n",
      "* * * * * * \n",
      "\n",
      "* * * * * \n",
      "\n",
      "* * * * \n",
      "\n",
      "* * * \n",
      "\n",
      "* * \n",
      "\n",
      "* \n",
      "\n"
     ]
    }
   ],
   "source": [
    "\"\"\" Similar as Lower Triangle we can generate the pattern of upper triangle as -\"\"\"\n",
    "\n",
    "def upper_triangle(rows):\n",
    "    for i in range(rows, 0, -1):\n",
    "        for j in range(i):\n",
    "            print(\"*\", end=\" \")\n",
    "        print(\"\\n\")\n",
    "upper_triangle(10)"
   ]
  },
  {
   "cell_type": "markdown",
   "id": "004e1de6",
   "metadata": {},
   "source": [
    "## 3. Pyramid shape"
   ]
  },
  {
   "cell_type": "code",
   "execution_count": 19,
   "id": "d195e8bb",
   "metadata": {},
   "outputs": [
    {
     "name": "stdout",
     "output_type": "stream",
     "text": [
      "                  * \n",
      "\n",
      "                * * * \n",
      "\n",
      "              * * * * * \n",
      "\n",
      "            * * * * * * * \n",
      "\n",
      "          * * * * * * * * * \n",
      "\n",
      "        * * * * * * * * * * * \n",
      "\n",
      "      * * * * * * * * * * * * * \n",
      "\n",
      "    * * * * * * * * * * * * * * * \n",
      "\n",
      "  * * * * * * * * * * * * * * * * * \n",
      "\n",
      "* * * * * * * * * * * * * * * * * * * \n",
      "\n"
     ]
    }
   ],
   "source": [
    "\"\"\" Pyramid pattern - \"\"\"\n",
    "def pyramid(rows):\n",
    "    for i in range(rows):\n",
    "        for j in range(rows - i - 1):\n",
    "            print(\" \", end=\" \")\n",
    "        for j in range(2 * i + 1):\n",
    "            print(\"*\", end=\" \")\n",
    "        print(\"\\n\")\n",
    "pyramid(10)"
   ]
  },
  {
   "cell_type": "code",
   "execution_count": 7,
   "id": "28124ba1",
   "metadata": {},
   "outputs": [
    {
     "name": "stdout",
     "output_type": "stream",
     "text": [
      "         * \n",
      "        * * \n",
      "       * * * \n",
      "      * * * * \n",
      "     * * * * * \n",
      "    * * * * * * \n",
      "   * * * * * * * \n",
      "  * * * * * * * * \n",
      " * * * * * * * * * \n",
      "* * * * * * * * * * \n"
     ]
    }
   ],
   "source": [
    "# Another way\n",
    "row=10\n",
    "for i in range(1,row+1):\n",
    "    print(\" \"*(row-i)+ \"* \"*i)\n"
   ]
  },
  {
   "cell_type": "code",
   "execution_count": null,
   "id": "97f5cf30",
   "metadata": {},
   "outputs": [],
   "source": []
  }
 ],
 "metadata": {
  "kernelspec": {
   "display_name": "Python 3",
   "language": "python",
   "name": "python3"
  },
  "language_info": {
   "codemirror_mode": {
    "name": "ipython",
    "version": 3
   },
   "file_extension": ".py",
   "mimetype": "text/x-python",
   "name": "python",
   "nbconvert_exporter": "python",
   "pygments_lexer": "ipython3",
   "version": "3.12.8"
  }
 },
 "nbformat": 4,
 "nbformat_minor": 5
}
