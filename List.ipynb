{
 "cells": [
  {
   "cell_type": "markdown",
   "id": "3a2a3946",
   "metadata": {},
   "source": [
    "#### List - List is an built in data type in python to store the multiple datatypes in a single variable."
   ]
  },
  {
   "cell_type": "markdown",
   "id": "388b8d5e",
   "metadata": {},
   "source": [
    "List items are ordered, changeable, and allow duplicate values.\n",
    "\n",
    "Use indexes for operations on the list values."
   ]
  },
  {
   "cell_type": "code",
   "execution_count": 73,
   "id": "83cf7602",
   "metadata": {},
   "outputs": [
    {
     "name": "stdout",
     "output_type": "stream",
     "text": [
      "List1: [1, 2, 'ram', 34.78, True, (33+2j)]\n"
     ]
    }
   ],
   "source": [
    "# Example\n",
    "\n",
    "List1=[1,2,\"ram\",34.78,True,33+2j]\n",
    "print(\"List1:\", List1)"
   ]
  },
  {
   "cell_type": "code",
   "execution_count": 74,
   "id": "7b217b0e",
   "metadata": {},
   "outputs": [
    {
     "name": "stdout",
     "output_type": "stream",
     "text": [
      "<class 'list'>\n"
     ]
    }
   ],
   "source": [
    "print(type(List1))"
   ]
  },
  {
   "cell_type": "code",
   "execution_count": 75,
   "id": "0b3f5cbe",
   "metadata": {},
   "outputs": [
    {
     "name": "stdout",
     "output_type": "stream",
     "text": [
      "6\n"
     ]
    }
   ],
   "source": [
    "print(len(List1))"
   ]
  },
  {
   "cell_type": "code",
   "execution_count": 76,
   "id": "a3613663",
   "metadata": {},
   "outputs": [
    {
     "name": "stdout",
     "output_type": "stream",
     "text": [
      "2\n",
      "['ram', 34.78, True]\n"
     ]
    }
   ],
   "source": [
    "print(List1[1])\n",
    "print(List1[2:5])"
   ]
  },
  {
   "cell_type": "code",
   "execution_count": 77,
   "id": "16dfa2b9",
   "metadata": {},
   "outputs": [
    {
     "name": "stdout",
     "output_type": "stream",
     "text": [
      "<class 'bool'>\n",
      "<class 'complex'>\n",
      "33.0\n"
     ]
    }
   ],
   "source": [
    "print(type(List1[4]))\n",
    "print(type(List1[5]))\n",
    "print(List1[5].real)"
   ]
  },
  {
   "cell_type": "markdown",
   "id": "8a25b8aa",
   "metadata": {},
   "source": [
    "> list operations"
   ]
  },
  {
   "cell_type": "markdown",
   "id": "83974a5a",
   "metadata": {},
   "source": [
    "append()\tAdds an element at the end of the list\n",
    "\n",
    "clear()\tRemoves all the elements from the list\n",
    "\n",
    "copy()\tReturns a copy of the list\n",
    "\n",
    "count()\tReturns the number of elements with the specified value\n",
    "\n",
    "extend()\tAdd the elements of a list (or any iterable), to the end of the current list\n",
    "\n",
    "index()\tReturns the index of the first element with the specified value\n",
    "\n",
    "insert()\tAdds an element at the specified position\n",
    "\n",
    "pop()\tRemoves the element at the specified position\n",
    "\n",
    "remove()\tRemoves the item with the specified value\n",
    "\n",
    "reverse()\tReverses the order of the list\n",
    "\n",
    "sort()\tSorts the list\n",
    "\n",
    "del Delete "
   ]
  },
  {
   "cell_type": "code",
   "execution_count": 78,
   "id": "5d82e572",
   "metadata": {},
   "outputs": [
    {
     "name": "stdout",
     "output_type": "stream",
     "text": [
      "Index of 34.78 in List1: 3\n"
     ]
    }
   ],
   "source": [
    "# 1. Find the index of an element\n",
    "print(\"Index of 34.78 in List1:\", List1.index(34.78))"
   ]
  },
  {
   "cell_type": "code",
   "execution_count": 79,
   "id": "7d6d7279",
   "metadata": {},
   "outputs": [
    {
     "name": "stdout",
     "output_type": "stream",
     "text": [
      "After appending: [1, 2, 'ram', 34.78, True, (33+2j), 'new_element is 34']\n"
     ]
    }
   ],
   "source": [
    "# 2. Appending an element\n",
    "List1.append(\"new_element is 34\")\n",
    "print(\"After appending:\", List1)"
   ]
  },
  {
   "cell_type": "code",
   "execution_count": 80,
   "id": "2ec15dde",
   "metadata": {},
   "outputs": [
    {
     "name": "stdout",
     "output_type": "stream",
     "text": [
      "After inserting 100 at index 1: [1, 100, 2, 'ram', 34.78, True, (33+2j), 'new_element is 34']\n"
     ]
    }
   ],
   "source": [
    "# 3. Inserting an element at a specific position\n",
    "List1.insert(1,100)\n",
    "print(\"After inserting 100 at index 1:\", List1)"
   ]
  },
  {
   "cell_type": "code",
   "execution_count": 81,
   "id": "fa501d46",
   "metadata": {},
   "outputs": [
    {
     "name": "stdout",
     "output_type": "stream",
     "text": [
      "After popping the last element: [1, 100, 2, 'ram', 34.78, True, (33+2j)]\n"
     ]
    }
   ],
   "source": [
    "# 4. Pop the last element\n",
    "List1.pop()\n",
    "print(\"After popping the last element:\", List1)"
   ]
  },
  {
   "cell_type": "code",
   "execution_count": 82,
   "id": "67d555c6",
   "metadata": {},
   "outputs": [
    {
     "name": "stdout",
     "output_type": "stream",
     "text": [
      "After popping the element at index 3: [1, 100, 2, 34.78, True, (33+2j)]\n"
     ]
    }
   ],
   "source": [
    "# pop an element at a specific index\n",
    "List1.pop(3)\n",
    "print(\"After popping the element at index 3:\", List1)"
   ]
  },
  {
   "cell_type": "code",
   "execution_count": 83,
   "id": "1b8677d6",
   "metadata": {},
   "outputs": [
    {
     "data": {
      "text/plain": [
       "[1, 100, 2, 34.78, True, (33+2j)]"
      ]
     },
     "execution_count": 83,
     "metadata": {},
     "output_type": "execute_result"
    }
   ],
   "source": [
    "# 5. Copying the list\n",
    "# Note: The copy method creates a shallow copy of the list.\n",
    "list2=List1.copy()\n",
    "list2"
   ]
  },
  {
   "cell_type": "code",
   "execution_count": 84,
   "id": "e8a592d2",
   "metadata": {},
   "outputs": [
    {
     "name": "stdout",
     "output_type": "stream",
     "text": [
      "count 34 in list1: 0\n",
      "count 34.78 in list2: 1\n"
     ]
    }
   ],
   "source": [
    "# 6. COunt the occurrences of an element\n",
    "print(\"count 34 in list1:\", List1.count(34))\n",
    "print(\"count 34.78 in list2:\", list2.count(34.78))"
   ]
  },
  {
   "cell_type": "code",
   "execution_count": 85,
   "id": "ed871592",
   "metadata": {},
   "outputs": [
    {
     "name": "stdout",
     "output_type": "stream",
     "text": [
      "[1, 100, 2, 34.78, True, (33+2j), 56]\n"
     ]
    }
   ],
   "source": [
    "# 7. extend the list with another list\n",
    "a=56\n",
    "List1.extend([a])\n",
    "print(List1)"
   ]
  },
  {
   "cell_type": "code",
   "execution_count": 86,
   "id": "9b333fbe",
   "metadata": {},
   "outputs": [
    {
     "name": "stdout",
     "output_type": "stream",
     "text": [
      "After removing 100: [1, 2, 34.78, True, (33+2j), 56]\n"
     ]
    }
   ],
   "source": [
    "# 8. Remove an element\n",
    "List1.remove(100)\n",
    "print(\"After removing 100:\", List1)"
   ]
  },
  {
   "cell_type": "code",
   "execution_count": 87,
   "id": "4d7c8cb0",
   "metadata": {},
   "outputs": [
    {
     "name": "stdout",
     "output_type": "stream",
     "text": [
      "After sorting List1: [(33+2j), 1, 2, 34.78, 56, True]\n"
     ]
    }
   ],
   "source": [
    "# 9. sort the list\n",
    "List1.sort(key=str)\n",
    "print(\"After sorting List1:\", List1)"
   ]
  },
  {
   "cell_type": "code",
   "execution_count": 88,
   "id": "7816a268",
   "metadata": {},
   "outputs": [
    {
     "name": "stdout",
     "output_type": "stream",
     "text": [
      "After reversing List1: [True, 56, 34.78, 2, 1, (33+2j)]\n"
     ]
    }
   ],
   "source": [
    "# 10. Reverse the list\n",
    "List1.reverse()\n",
    "print(\"After reversing List1:\", List1)"
   ]
  },
  {
   "cell_type": "code",
   "execution_count": 89,
   "id": "711553f5",
   "metadata": {},
   "outputs": [
    {
     "name": "stdout",
     "output_type": "stream",
     "text": [
      "After clearing List1: []\n"
     ]
    }
   ],
   "source": [
    "#11. Clear the list\n",
    "List1.clear()\n",
    "print(\"After clearing List1:\", List1)"
   ]
  },
  {
   "cell_type": "code",
   "execution_count": 90,
   "id": "16b035d0",
   "metadata": {},
   "outputs": [
    {
     "name": "stdout",
     "output_type": "stream",
     "text": [
      "List1 has been deleted.\n",
      "Trying to print List1 after deletion will raise an error.\n"
     ]
    }
   ],
   "source": [
    "#13. delete the list\n",
    "del List1\n",
    "print(\"List1 has been deleted.\")\n",
    "print(\"Trying to print List1 after deletion will raise an error.\")"
   ]
  },
  {
   "cell_type": "code",
   "execution_count": 92,
   "id": "3adfea06",
   "metadata": {},
   "outputs": [
    {
     "name": "stdout",
     "output_type": "stream",
     "text": [
      "[45.14, 80, 2, 8, 3, 1]\n"
     ]
    }
   ],
   "source": [
    "# 14. List reversing\n",
    "list2=[1,3,8,2,80,45.14]\n",
    "list2.reverse()\n",
    "print(list2)"
   ]
  },
  {
   "cell_type": "code",
   "execution_count": 93,
   "id": "bee1fbf8",
   "metadata": {},
   "outputs": [
    {
     "name": "stdout",
     "output_type": "stream",
     "text": [
      "List comprehension result: [1, 9, 25, 49, 81]\n"
     ]
    }
   ],
   "source": [
    "#15. List comprehension\n",
    "list3 = [x**2 for x in range(1,11,2)]\n",
    "print(\"List comprehension result:\", list3)"
   ]
  },
  {
   "cell_type": "code",
   "execution_count": 94,
   "id": "95b2997a",
   "metadata": {},
   "outputs": [
    {
     "name": "stdout",
     "output_type": "stream",
     "text": [
      "List comprehension with condition result: [2, 4, 6, 8, 10, 12, 14, 16, 18, 20]\n"
     ]
    }
   ],
   "source": [
    "#16. List comprehension with condition\n",
    "list4 = [x for x in range(1, 21) if x % 2 == 0]\n",
    "print(\"List comprehension with condition result:\", list4)"
   ]
  },
  {
   "cell_type": "code",
   "execution_count": 95,
   "id": "1c644e52",
   "metadata": {},
   "outputs": [
    {
     "name": "stdout",
     "output_type": "stream",
     "text": [
      "Nested list comprehension result: [[1, 1, 1], [2, 4, 8], [3, 9, 27]]\n"
     ]
    }
   ],
   "source": [
    "#17. Nested list comprehension\n",
    "list5 = [[x, x**2, x**3] for x in range(1, 4)]\n",
    "print(\"Nested list comprehension result:\", list5)"
   ]
  }
 ],
 "metadata": {
  "kernelspec": {
   "display_name": "Python 3",
   "language": "python",
   "name": "python3"
  },
  "language_info": {
   "codemirror_mode": {
    "name": "ipython",
    "version": 3
   },
   "file_extension": ".py",
   "mimetype": "text/x-python",
   "name": "python",
   "nbconvert_exporter": "python",
   "pygments_lexer": "ipython3",
   "version": "3.12.8"
  }
 },
 "nbformat": 4,
 "nbformat_minor": 5
}
