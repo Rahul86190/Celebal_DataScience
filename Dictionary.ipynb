{
 "cells": [
  {
   "cell_type": "markdown",
   "id": "1fb29f58",
   "metadata": {},
   "source": [
    "## Dictionary\n",
    "\n",
    "Dictionaries are used to store data values in key:value pairs.\n",
    "\n",
    "A dictionary is a collection which is ordered*, changeable and do not allow duplicates."
   ]
  },
  {
   "cell_type": "code",
   "execution_count": 1,
   "id": "60ce55fc",
   "metadata": {},
   "outputs": [
    {
     "name": "stdout",
     "output_type": "stream",
     "text": [
      "{'Name': 'Rahul', 'Age': 21, 'City': 'Delhi', 'Domain': 'Data Science'}\n",
      "<class 'dict'>\n",
      "4\n"
     ]
    }
   ],
   "source": [
    "dict1={\"Name\":\"Rahul\", \"Age\":21, \"City\":\"Delhi\",\"Domain\":\"Data Science\"}\n",
    "print(dict1)\n",
    "print(type(dict1))\n",
    "print(len(dict1))"
   ]
  },
  {
   "cell_type": "code",
   "execution_count": 2,
   "id": "a4712903",
   "metadata": {},
   "outputs": [
    {
     "name": "stdout",
     "output_type": "stream",
     "text": [
      "dict_keys(['Name', 'Age', 'City', 'Domain'])\n",
      "dict_values(['Rahul', 21, 'Delhi', 'Data Science'])\n",
      "dict_items([('Name', 'Rahul'), ('Age', 21), ('City', 'Delhi'), ('Domain', 'Data Science')])\n"
     ]
    }
   ],
   "source": [
    "# get keys \n",
    "print(dict1.keys())\n",
    "# get values\n",
    "print(dict1.values())\n",
    "# get items\n",
    "print(dict1.items())"
   ]
  },
  {
   "cell_type": "code",
   "execution_count": 3,
   "id": "ee7b6470",
   "metadata": {},
   "outputs": [
    {
     "name": "stdout",
     "output_type": "stream",
     "text": [
      "Rahul\n"
     ]
    }
   ],
   "source": [
    "# 1. Accessing values using keys\n",
    "print(dict1[\"Name\"])\n",
    "# print(dict1[0]) # This will raise a KeyError since 0 is not a valid key in the dictionary"
   ]
  },
  {
   "cell_type": "code",
   "execution_count": 4,
   "id": "873ece32",
   "metadata": {},
   "outputs": [
    {
     "name": "stdout",
     "output_type": "stream",
     "text": [
      "21\n"
     ]
    }
   ],
   "source": [
    "# 2. Accessing values using get() method\n",
    "print(dict1.get(\"Age\"))"
   ]
  },
  {
   "cell_type": "code",
   "execution_count": 5,
   "id": "5b63987b",
   "metadata": {},
   "outputs": [
    {
     "name": "stdout",
     "output_type": "stream",
     "text": [
      "{'Name': 'Rahul', 'Age': 21, 'City': 'Delhi', 'Domain': 'Data Science', 'Country': 'India'}\n"
     ]
    }
   ],
   "source": [
    "# 3. Adding a new key-value pair\n",
    "dict1[\"Country\"] = \"India\" \n",
    "print(dict1)"
   ]
  },
  {
   "cell_type": "code",
   "execution_count": 6,
   "id": "b27a0dd5",
   "metadata": {},
   "outputs": [
    {
     "name": "stdout",
     "output_type": "stream",
     "text": [
      "{'Name': 'Rahul', 'Age': 30, 'City': 'Delhi', 'Domain': 'Data Science', 'Country': 'India'}\n"
     ]
    }
   ],
   "source": [
    "# 4. Updating an existing key-value pair\n",
    "dict1[\"Age\"] = 30\n",
    "print(dict1)"
   ]
  },
  {
   "cell_type": "code",
   "execution_count": 7,
   "id": "ac3ce8fd",
   "metadata": {},
   "outputs": [
    {
     "name": "stdout",
     "output_type": "stream",
     "text": [
      "{'Name': 'Rahul', 'Age': 30, 'Domain': 'Data Science', 'Country': 'India'}\n"
     ]
    }
   ],
   "source": [
    "# 5. Deleting a key-value pair\n",
    "del dict1[\"City\"]\n",
    "print(dict1)"
   ]
  },
  {
   "cell_type": "code",
   "execution_count": 8,
   "id": "57a5c008",
   "metadata": {},
   "outputs": [
    {
     "name": "stdout",
     "output_type": "stream",
     "text": [
      "{'Name': 'Rahul', 'Age': 30, 'Domain': 'Data Science', 'Country': 'India', 'Height': 5.9}\n",
      "{'Name': 'Rahul', 'Age': 30, 'Domain': 'Data Science', 'Height': 5.9}\n",
      "{'Name': 'Rahul', 'Age': 30, 'Domain': 'Data Science'}\n"
     ]
    }
   ],
   "source": [
    "# 6. Pop operation\n",
    "dict1[\"Height\"] = 5.9\n",
    "print(dict1)\n",
    "dict1.pop(\"Country\")\n",
    "print(dict1)\n",
    "dict1.popitem()  # Removes the last inserted key-value pair\n",
    "print(dict1)"
   ]
  },
  {
   "cell_type": "code",
   "execution_count": 9,
   "id": "33254f11",
   "metadata": {},
   "outputs": [
    {
     "name": "stdout",
     "output_type": "stream",
     "text": [
      "{'Name': 'Rahul', 'Age': 21, 'City': 'Delhi'}\n",
      "{'Name': 'Rohit', 'Age': 21, 'City': 'Mumbai'}\n"
     ]
    }
   ],
   "source": [
    "# Update method us to modify multiple key-value pairs\n",
    "dict0={\"Name\":\"Rahul\", \"Age\":21, \"City\":\"Delhi\"}\n",
    "print(dict0)\n",
    "dict0.update({\"Name\":\"Rohit\", \"City\":\"Mumbai\"})\n",
    "print(dict0)"
   ]
  },
  {
   "cell_type": "code",
   "execution_count": 10,
   "id": "f11c1288",
   "metadata": {},
   "outputs": [
    {
     "name": "stdout",
     "output_type": "stream",
     "text": [
      "Alice\n",
      "25\n",
      "['Math', 'Science']\n",
      "Science\n",
      "90\n"
     ]
    }
   ],
   "source": [
    "# 6. A dictionary with mixed data types\n",
    "dict2 = {\n",
    "    \"Name\": \"Alice\",\n",
    "    \"Age\": 25,\n",
    "    \"IsStudent\": False,\n",
    "    \"Subjects\": [\"Math\", \"Science\"],\n",
    "    \"Scores\": {\"Math\": 90, \"Science\": 85}\n",
    "}\n",
    "\n",
    "# accessing mixed data types\n",
    "print(dict2[\"Name\"])\n",
    "print(dict2[\"Age\"])\n",
    "print(dict2[\"Subjects\"])\n",
    "print(dict2[\"Subjects\"][1])\n",
    "print(dict2[\"Scores\"][\"Math\"])  "
   ]
  },
  {
   "cell_type": "code",
   "execution_count": 11,
   "id": "bb66ba8c",
   "metadata": {},
   "outputs": [
    {
     "name": "stdout",
     "output_type": "stream",
     "text": [
      "Name: Alice\n",
      "Age: 25\n",
      "IsStudent: False\n",
      "Subjects: ['Math', 'Science']\n",
      "Scores: {'Math': 90, 'Science': 85}\n"
     ]
    }
   ],
   "source": [
    "# 7. Iterating through a dictionary\n",
    "for key, value in dict2.items():\n",
    "    print(f\"{key}: {value}\")"
   ]
  },
  {
   "cell_type": "code",
   "execution_count": 12,
   "id": "7c1119e1",
   "metadata": {},
   "outputs": [
    {
     "name": "stdout",
     "output_type": "stream",
     "text": [
      "Age exists in dict2\n"
     ]
    }
   ],
   "source": [
    "# 8. Checking if a key exists\n",
    "if \"Age\" in dict2:\n",
    "    print(\"Age exists in dict2\")"
   ]
  },
  {
   "cell_type": "code",
   "execution_count": 13,
   "id": "ec3e858c",
   "metadata": {},
   "outputs": [
    {
     "name": "stdout",
     "output_type": "stream",
     "text": [
      "The youngest child is Linus\n",
      "<class 'tuple'>\n"
     ]
    }
   ],
   "source": [
    "def my_function(*kids):\n",
    "  print(\"The youngest child is \" + kids[2])\n",
    "\n",
    "  print(type(kids))\n",
    "\n",
    "my_function(\"Emil\", \"Tobias\", \"Linus\")"
   ]
  }
 ],
 "metadata": {
  "kernelspec": {
   "display_name": "Python 3",
   "language": "python",
   "name": "python3"
  },
  "language_info": {
   "codemirror_mode": {
    "name": "ipython",
    "version": 3
   },
   "file_extension": ".py",
   "mimetype": "text/x-python",
   "name": "python",
   "nbconvert_exporter": "python",
   "pygments_lexer": "ipython3",
   "version": "3.12.8"
  }
 },
 "nbformat": 4,
 "nbformat_minor": 5
}
