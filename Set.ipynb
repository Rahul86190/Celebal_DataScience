{
 "cells": [
  {
   "cell_type": "markdown",
   "id": "bc9cd6bb",
   "metadata": {},
   "source": [
    "#### Set"
   ]
  },
  {
   "cell_type": "markdown",
   "id": "21084090",
   "metadata": {},
   "source": [
    "Sets are used to store multiple items in a single variable.\n",
    "\n",
    "A set is a collection which is unordered, unchangeable*, and unindexed."
   ]
  },
  {
   "cell_type": "code",
   "execution_count": 18,
   "id": "76f85410",
   "metadata": {},
   "outputs": [
    {
     "name": "stdout",
     "output_type": "stream",
     "text": [
      "{1, 2, 3, 'Rahul', 45}\n",
      "<class 'set'>\n"
     ]
    }
   ],
   "source": [
    "set1={1,2,3,45,\"Rahul\"}\n",
    "print(set1)\n",
    "print(type(set1))"
   ]
  },
  {
   "cell_type": "code",
   "execution_count": 17,
   "id": "9325d9d8",
   "metadata": {},
   "outputs": [],
   "source": [
    "# print(set1[0])  # This will raise an error because sets are unordered and do not support indexing"
   ]
  },
  {
   "cell_type": "code",
   "execution_count": 21,
   "id": "2f5f5452",
   "metadata": {},
   "outputs": [
    {
     "name": "stdout",
     "output_type": "stream",
     "text": [
      "{0, 1, 2, 3, 4, 5, 67, 34, 11, 1100, 89, 90}\n"
     ]
    }
   ],
   "source": [
    "set2={1,1,1,1,1,3,4,5,2,89,67,90,11,1100,34,1,0}\n",
    "print(set2)  # Duplicates are removed in sets and the order is not guaranteed"
   ]
  },
  {
   "cell_type": "code",
   "execution_count": 22,
   "id": "149726ee",
   "metadata": {},
   "outputs": [],
   "source": [
    "# make the set in order\n",
    "set3=sorted(set2)"
   ]
  },
  {
   "cell_type": "code",
   "execution_count": 23,
   "id": "869b0aec",
   "metadata": {},
   "outputs": [
    {
     "name": "stdout",
     "output_type": "stream",
     "text": [
      "<class 'list'>\n"
     ]
    }
   ],
   "source": [
    "set3\n",
    "print(type(set3))  # This will be a list, not a set"
   ]
  },
  {
   "cell_type": "code",
   "execution_count": 24,
   "id": "85456863",
   "metadata": {},
   "outputs": [
    {
     "name": "stdout",
     "output_type": "stream",
     "text": [
      "{0, 1, 2, 3, 4, 5, 34, 67, 11, 1100, 89, 90}\n"
     ]
    }
   ],
   "source": [
    "set3=set(set3)  # Convert the sorted list back to a set\n",
    "print(set3)  # Now this is a set again"
   ]
  },
  {
   "cell_type": "code",
   "execution_count": 28,
   "id": "e36dedaa",
   "metadata": {},
   "outputs": [
    {
     "name": "stdout",
     "output_type": "stream",
     "text": [
      "{'Rahul', 'Ramesh', 'Ravi', 'Rajesh', 'Rohit'}\n",
      "False\n",
      "True\n",
      "False\n"
     ]
    }
   ],
   "source": [
    "names={\"Rahul\",\"Rohit\",\"Ravi\",\"Ramesh\",\"Rajesh\"}\n",
    "print(names)\n",
    "print(\"Rochit\" in names)  # Check if \"Rochit\" is in the set, will return False\n",
    "print(\"Rohit\" in names)  # Check if \"Rohit\" is in the set, will return True\n",
    "print(\"Rohit\" not in names)  # Check if \"Rohit\" is not in the set, will return False"
   ]
  },
  {
   "cell_type": "markdown",
   "id": "d10e815c",
   "metadata": {},
   "source": [
    "### Once a set is created, you cannot change its items, but you can add new items."
   ]
  },
  {
   "cell_type": "markdown",
   "id": "9b84163a",
   "metadata": {},
   "source": [
    "> Adding item"
   ]
  },
  {
   "cell_type": "code",
   "execution_count": 34,
   "id": "846cc889",
   "metadata": {},
   "outputs": [
    {
     "name": "stdout",
     "output_type": "stream",
     "text": [
      "{'Rahul', 'Ramesh', 'Ravi', 'Rajesh', 'Rohit'}\n"
     ]
    }
   ],
   "source": [
    "set4={\"Rahul\",\"Rohit\",\"Ravi\",\"Ramesh\",\"Rajesh\"}\n",
    "print(set4)"
   ]
  },
  {
   "cell_type": "code",
   "execution_count": 35,
   "id": "41ebf40e",
   "metadata": {},
   "outputs": [],
   "source": [
    "set4.add(\"Ravindra\")  # This will raise an error because sets do not have an append method"
   ]
  },
  {
   "cell_type": "code",
   "execution_count": 36,
   "id": "6859562f",
   "metadata": {},
   "outputs": [
    {
     "data": {
      "text/plain": [
       "{'Rahul', 'Rajesh', 'Ramesh', 'Ravi', 'Ravindra', 'Rohit'}"
      ]
     },
     "execution_count": 36,
     "metadata": {},
     "output_type": "execute_result"
    }
   ],
   "source": [
    "set4"
   ]
  },
  {
   "cell_type": "markdown",
   "id": "e9113e30",
   "metadata": {},
   "source": [
    "> Add Sets\n",
    "\n",
    "To add items from another set into the current set, use the update() method."
   ]
  },
  {
   "cell_type": "code",
   "execution_count": 38,
   "id": "e934f832",
   "metadata": {},
   "outputs": [
    {
     "name": "stdout",
     "output_type": "stream",
     "text": [
      "{1, 2, 3, 'cherry', 'banana', 'apple'}\n"
     ]
    }
   ],
   "source": [
    "s={1,2,3}\n",
    "s1={\"apple\",\"banana\",\"cherry\"}\n",
    "s.update(s1)  # This will add elements from s1 to s\n",
    "print(s)  # Now s contains elements from both sets"
   ]
  },
  {
   "cell_type": "markdown",
   "id": "495133ad",
   "metadata": {},
   "source": [
    "> Add Any Iterable\n",
    "\n",
    "The object in the update() method does not have to be a set, it can be any iterable object (tuples, lists, dictionaries etc.)."
   ]
  },
  {
   "cell_type": "code",
   "execution_count": 39,
   "id": "aa17113f",
   "metadata": {},
   "outputs": [
    {
     "name": "stdout",
     "output_type": "stream",
     "text": [
      "{'cherry', 'orange', 'apple', 'kiwi', 'banana'}\n"
     ]
    }
   ],
   "source": [
    "s2 = {\"apple\", \"banana\", \"cherry\"}\n",
    "l3 = [\"kiwi\", \"orange\"]\n",
    "\n",
    "s2.update(l3)\n",
    "\n",
    "print(s2)"
   ]
  },
  {
   "cell_type": "code",
   "execution_count": 42,
   "id": "f334914f",
   "metadata": {},
   "outputs": [
    {
     "name": "stdout",
     "output_type": "stream",
     "text": [
      "{'cherry', 'orange', 'kiwi', 'banana', 'apple'}\n",
      "{'cherry', 'orange', 'kiwi', 'banana', 'apple'}\n"
     ]
    }
   ],
   "source": [
    "s4={\"apple\", \"banana\", \"cherry\"}\n",
    "s5={\"kiwi\", \"orange\"}\n",
    "print(s4.union(s5))  # This will print the union of both sets (only to show the union operation)\n",
    "print(s4 | s5)  # This is another way to perform the union operation using the pipe operator"
   ]
  },
  {
   "cell_type": "markdown",
   "id": "a53f2106",
   "metadata": {},
   "source": [
    "> Remove elements"
   ]
  },
  {
   "cell_type": "markdown",
   "id": "02791343",
   "metadata": {},
   "source": [
    "WE can remove elements by two methods -\n",
    "\n",
    "(1). remove attribute ( if item is not present then rise error)\n",
    "(2). discard attribute ( if item is not present then not rise error)"
   ]
  },
  {
   "cell_type": "code",
   "execution_count": null,
   "id": "bdd0c4ed",
   "metadata": {},
   "outputs": [],
   "source": [
    "s6={\"apple\", \"banana\", \"cherry\"}\n",
    "s6.remove(\"apple\")\n",
    "print(s6)\n",
    "# s6.remove(\"date\")  # This will raise a KeyError because \"date\" is not in the set"
   ]
  },
  {
   "cell_type": "code",
   "execution_count": 45,
   "id": "aa1bd989",
   "metadata": {},
   "outputs": [
    {
     "name": "stdout",
     "output_type": "stream",
     "text": [
      "{'cherry', 'banana'}\n"
     ]
    }
   ],
   "source": [
    "s7={\"apple\", \"banana\", \"cherry\"}\n",
    "s7.discard(\"apple\")\n",
    "print(s7)  "
   ]
  },
  {
   "cell_type": "code",
   "execution_count": 47,
   "id": "2e686c5c",
   "metadata": {},
   "outputs": [
    {
     "name": "stdout",
     "output_type": "stream",
     "text": [
      "{'cherry', 'banana'}\n"
     ]
    }
   ],
   "source": [
    "s7.discard(\"date\")  # This will not raise an error, even though \"date\" is not in the set\n",
    "print(s7)"
   ]
  },
  {
   "cell_type": "markdown",
   "id": "47a04a42",
   "metadata": {},
   "source": [
    "You can also use the pop() method to remove an item, but this method will remove a random item, so you cannot be sure what item that gets removed.\n",
    "\n",
    "The return value of the pop() method is the removed item."
   ]
  },
  {
   "cell_type": "code",
   "execution_count": null,
   "id": "8a238a08",
   "metadata": {},
   "outputs": [
    {
     "name": "stdout",
     "output_type": "stream",
     "text": [
      "{'cherry', 'date', 'grape', 'banana', 'apple'}\n"
     ]
    }
   ],
   "source": [
    "s8={\"apple\", \"banana\", \"cherry\",\"date\",\"fig\",\"grape\"}\n",
    "s8.pop()  # This will remove and return an arbitrary element from the set\n",
    "print(s8)  # The set after popping an element"
   ]
  }
 ],
 "metadata": {
  "kernelspec": {
   "display_name": "Python 3",
   "language": "python",
   "name": "python3"
  },
  "language_info": {
   "codemirror_mode": {
    "name": "ipython",
    "version": 3
   },
   "file_extension": ".py",
   "mimetype": "text/x-python",
   "name": "python",
   "nbconvert_exporter": "python",
   "pygments_lexer": "ipython3",
   "version": "3.12.8"
  }
 },
 "nbformat": 4,
 "nbformat_minor": 5
}
