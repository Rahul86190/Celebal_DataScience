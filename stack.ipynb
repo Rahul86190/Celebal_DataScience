{
 "cells": [
  {
   "cell_type": "markdown",
   "id": "95717c41",
   "metadata": {},
   "source": [
    "Stack has Two operations :\n",
    "\n",
    "Push\n",
    "\n",
    "Pop\n"
   ]
  },
  {
   "cell_type": "code",
   "execution_count": 1,
   "id": "7ae55c7c",
   "metadata": {},
   "outputs": [],
   "source": [
    "stack1=[1,2,3,4,5,6,\"A\",\"B\"]"
   ]
  },
  {
   "cell_type": "code",
   "execution_count": 2,
   "id": "207bbdc9",
   "metadata": {},
   "outputs": [
    {
     "name": "stdout",
     "output_type": "stream",
     "text": [
      "B\n"
     ]
    }
   ],
   "source": [
    "TopElement=stack1[-1]\n",
    "print(TopElement)"
   ]
  },
  {
   "cell_type": "code",
   "execution_count": 3,
   "id": "73fdce83",
   "metadata": {},
   "outputs": [
    {
     "name": "stdout",
     "output_type": "stream",
     "text": [
      "8\n"
     ]
    }
   ],
   "source": [
    "print(len(stack1))"
   ]
  },
  {
   "cell_type": "code",
   "execution_count": 4,
   "id": "2cc79c85",
   "metadata": {},
   "outputs": [
    {
     "name": "stdout",
     "output_type": "stream",
     "text": [
      "isempty False\n"
     ]
    }
   ],
   "source": [
    "isnull=not bool(stack1)\n",
    "print(\"isempty\",isnull)"
   ]
  },
  {
   "cell_type": "code",
   "execution_count": 5,
   "id": "c7ab9b12",
   "metadata": {},
   "outputs": [
    {
     "data": {
      "text/plain": [
       "[1, 2, 3, 4, 5, 6, 'A', 'B', 'r']"
      ]
     },
     "execution_count": 5,
     "metadata": {},
     "output_type": "execute_result"
    }
   ],
   "source": [
    "# Push element\n",
    "stack1.append(\"r\")\n",
    "stack1"
   ]
  },
  {
   "cell_type": "code",
   "execution_count": 6,
   "id": "ec475087",
   "metadata": {},
   "outputs": [
    {
     "name": "stdout",
     "output_type": "stream",
     "text": [
      "r\n"
     ]
    }
   ],
   "source": [
    "# Pop Element\n",
    "poppedElement=stack1.pop()\n",
    "print(poppedElement)"
   ]
  },
  {
   "cell_type": "code",
   "execution_count": 7,
   "id": "d1fc68de",
   "metadata": {},
   "outputs": [
    {
     "data": {
      "text/plain": [
       "[1, 2, 3, 4, 5, 6, 'A', 'B']"
      ]
     },
     "execution_count": 7,
     "metadata": {},
     "output_type": "execute_result"
    }
   ],
   "source": [
    "stack1"
   ]
  },
  {
   "cell_type": "code",
   "execution_count": 19,
   "id": "3777ecd5",
   "metadata": {},
   "outputs": [
    {
     "name": "stdout",
     "output_type": "stream",
     "text": [
      "True\n",
      "Stack is Empty\n",
      "78\n",
      "[55, 78, '44556']\n",
      "44556\n",
      "[55, 78]\n",
      "\n",
      "[55, 78, 90, 45, 36, 12]\n",
      "12\n",
      "12\n",
      "[55, 78, 90, 45, 36]\n"
     ]
    }
   ],
   "source": [
    "# Stack Implemented \n",
    "\n",
    "class Stack:\n",
    "    def __init__(self):\n",
    "        self.stack=[]\n",
    "\n",
    "    def isempty(self):\n",
    "        return len(self.stack)==0\n",
    "    \n",
    "    def push(self,element):\n",
    "        self.stack.append(element)\n",
    "\n",
    "    def pop(self):\n",
    "        if self.isempty():\n",
    "            print(len(self.stack))\n",
    "            return \"Stack is Empty\"\n",
    "        return self.stack.pop()\n",
    "\n",
    "    def Top(self):\n",
    "        if self.isempty():\n",
    "            return \"Stack is Empty\"\n",
    "        return self.stack[-1]\n",
    "    \n",
    "    def Show(self):\n",
    "        return self.stack\n",
    "\n",
    "\n",
    "myStack=Stack()\n",
    "\n",
    "print(myStack.isempty())\n",
    "print(myStack.Top())\n",
    "\n",
    "myStack.push(55)\n",
    "myStack.push(78)\n",
    "print(myStack.Top())\n",
    "myStack.push(\"44556\")\n",
    "print(myStack.Show())\n",
    "print(myStack.pop())\n",
    "print(myStack.Show())\n",
    "print()\n",
    "for i in 90,45,36,12:myStack.push(i)\n",
    "print(myStack.Show())\n",
    "print(myStack.Top())\n",
    "print(myStack.pop())\n",
    "print(myStack.Show())"
   ]
  },
  {
   "cell_type": "code",
   "execution_count": null,
   "id": "b824fa24",
   "metadata": {},
   "outputs": [],
   "source": []
  }
 ],
 "metadata": {
  "kernelspec": {
   "display_name": "Python 3",
   "language": "python",
   "name": "python3"
  },
  "language_info": {
   "codemirror_mode": {
    "name": "ipython",
    "version": 3
   },
   "file_extension": ".py",
   "mimetype": "text/x-python",
   "name": "python",
   "nbconvert_exporter": "python",
   "pygments_lexer": "ipython3",
   "version": "3.12.8"
  }
 },
 "nbformat": 4,
 "nbformat_minor": 5
}
