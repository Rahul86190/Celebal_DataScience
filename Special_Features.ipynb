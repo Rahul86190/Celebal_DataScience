{
 "cells": [
  {
   "cell_type": "markdown",
   "id": "bb81bc0d",
   "metadata": {},
   "source": [
    "## abs()"
   ]
  },
  {
   "cell_type": "code",
   "execution_count": 6,
   "id": "5dcd9eaa",
   "metadata": {},
   "outputs": [
    {
     "data": {
      "text/plain": [
       "6.4"
      ]
     },
     "execution_count": 6,
     "metadata": {},
     "output_type": "execute_result"
    }
   ],
   "source": [
    "x=abs(-6.4)\n",
    "x"
   ]
  },
  {
   "cell_type": "markdown",
   "id": "411337d6",
   "metadata": {},
   "source": [
    "## all()"
   ]
  },
  {
   "cell_type": "code",
   "execution_count": 7,
   "id": "bb349171",
   "metadata": {},
   "outputs": [
    {
     "name": "stdout",
     "output_type": "stream",
     "text": [
      "True\n",
      "False\n"
     ]
    }
   ],
   "source": [
    "x=[\"apple\",\"banana\",1,5]\n",
    "print(all(x))\n",
    "\n",
    "y=[0,\"apple\",'banana',56]\n",
    "print(all(y))\n"
   ]
  },
  {
   "cell_type": "markdown",
   "id": "1abd7623",
   "metadata": {},
   "source": [
    "## any()"
   ]
  },
  {
   "cell_type": "code",
   "execution_count": 8,
   "id": "9a1e7706",
   "metadata": {},
   "outputs": [
    {
     "name": "stdout",
     "output_type": "stream",
     "text": [
      "True\n"
     ]
    }
   ],
   "source": [
    "x=[0,5,3,\"Rahul\"]\n",
    "print(any(x))"
   ]
  },
  {
   "cell_type": "markdown",
   "id": "d2e873ca",
   "metadata": {},
   "source": [
    "## ascii()"
   ]
  },
  {
   "cell_type": "code",
   "execution_count": 9,
   "id": "706b6143",
   "metadata": {},
   "outputs": [
    {
     "name": "stdout",
     "output_type": "stream",
     "text": [
      "333445\n",
      "'my name is rahul'\n",
      "'This is not a Ascii character \\xe5'\n"
     ]
    }
   ],
   "source": [
    "x=333445\n",
    "print(ascii(x))\n",
    "\n",
    "y=\"my name is rahul\"\n",
    "print(ascii(y))\n",
    "\n",
    "z=\"This is not a Ascii character å\"\n",
    "print(ascii(z))"
   ]
  },
  {
   "cell_type": "markdown",
   "id": "0168d888",
   "metadata": {},
   "source": [
    "## bin()"
   ]
  },
  {
   "cell_type": "code",
   "execution_count": 10,
   "id": "9076b773",
   "metadata": {},
   "outputs": [
    {
     "name": "stdout",
     "output_type": "stream",
     "text": [
      "0b100010\n"
     ]
    }
   ],
   "source": [
    "x=34\n",
    "print(bin(x))"
   ]
  },
  {
   "cell_type": "markdown",
   "id": "c3e80d76",
   "metadata": {},
   "source": [
    "## bool()"
   ]
  },
  {
   "cell_type": "code",
   "execution_count": 11,
   "id": "9515cbf3",
   "metadata": {},
   "outputs": [
    {
     "name": "stdout",
     "output_type": "stream",
     "text": [
      "type  of x is  <class 'bool'>\n",
      "type of y is  <class 'int'>\n"
     ]
    }
   ],
   "source": [
    "x=bool(1)\n",
    "y=1\n",
    "print(\"type  of x is \",type(x))\n",
    "print(\"type of y is \",type(y))"
   ]
  },
  {
   "cell_type": "markdown",
   "id": "61f702eb",
   "metadata": {},
   "source": [
    "## bytearray()"
   ]
  },
  {
   "cell_type": "code",
   "execution_count": 12,
   "id": "b121f091",
   "metadata": {},
   "outputs": [
    {
     "name": "stdout",
     "output_type": "stream",
     "text": [
      "bytearray(b'\\x00\\x00\\x00\\x00\\x00')\n"
     ]
    }
   ],
   "source": [
    "x=5\n",
    "print(bytearray(x))   # can be modified"
   ]
  },
  {
   "cell_type": "markdown",
   "id": "9a8f1684",
   "metadata": {},
   "source": [
    "## bytes()"
   ]
  },
  {
   "cell_type": "code",
   "execution_count": 13,
   "id": "aba584f0",
   "metadata": {},
   "outputs": [
    {
     "name": "stdout",
     "output_type": "stream",
     "text": [
      "b'\\x00\\x00\\x00\\x00'\n"
     ]
    }
   ],
   "source": [
    "x=4\n",
    "print(bytes(x))   # cannot modified"
   ]
  },
  {
   "cell_type": "markdown",
   "id": "87df45a1",
   "metadata": {},
   "source": [
    "## callable()"
   ]
  },
  {
   "cell_type": "code",
   "execution_count": 14,
   "id": "5b7703f8",
   "metadata": {},
   "outputs": [
    {
     "name": "stdout",
     "output_type": "stream",
     "text": [
      "True\n",
      "False\n"
     ]
    }
   ],
   "source": [
    "def x():\n",
    "    print(\"x = \",5)\n",
    "print(callable(x))\n",
    "\n",
    "y=10\n",
    "print(callable(y))"
   ]
  },
  {
   "cell_type": "markdown",
   "id": "45c1c473",
   "metadata": {},
   "source": [
    "## chr()"
   ]
  },
  {
   "cell_type": "code",
   "execution_count": 15,
   "id": "48ef1b87",
   "metadata": {},
   "outputs": [
    {
     "name": "stdout",
     "output_type": "stream",
     "text": [
      "B\n"
     ]
    }
   ],
   "source": [
    "x=66\n",
    "print(chr(x))"
   ]
  },
  {
   "cell_type": "markdown",
   "id": "aa2b0f72",
   "metadata": {},
   "source": [
    "##  compile()"
   ]
  },
  {
   "cell_type": "code",
   "execution_count": 16,
   "id": "a0c5f3b5",
   "metadata": {},
   "outputs": [
    {
     "name": "stdout",
     "output_type": "stream",
     "text": [
      "55\n"
     ]
    }
   ],
   "source": [
    "x = compile('print(55)', 'test', 'eval')\n",
    "exec(x)"
   ]
  },
  {
   "cell_type": "code",
   "execution_count": 17,
   "id": "100795e6",
   "metadata": {},
   "outputs": [
    {
     "name": "stdout",
     "output_type": "stream",
     "text": [
      "55\n",
      "88\n"
     ]
    }
   ],
   "source": [
    "x = compile('print(55)\\nprint(88)', 'test', 'exec')\n",
    "exec(x)"
   ]
  },
  {
   "cell_type": "markdown",
   "id": "e3f007c8",
   "metadata": {},
   "source": [
    "## eval()   \n",
    "For single expression"
   ]
  },
  {
   "cell_type": "code",
   "execution_count": 18,
   "id": "d0f7fcf9",
   "metadata": {},
   "outputs": [
    {
     "name": "stdout",
     "output_type": "stream",
     "text": [
      "8\n"
     ]
    },
    {
     "data": {
      "text/plain": [
       "True"
      ]
     },
     "execution_count": 18,
     "metadata": {},
     "output_type": "execute_result"
    }
   ],
   "source": [
    "x=\"print(5+3)\"\n",
    "eval(x)\n",
    "\n",
    "x=\"bool(1)\"\n",
    "eval(x)"
   ]
  },
  {
   "cell_type": "markdown",
   "id": "ad49db4b",
   "metadata": {},
   "source": [
    "## exec()\n",
    "for multiple expression, * executes the specified Python code."
   ]
  },
  {
   "cell_type": "code",
   "execution_count": 19,
   "id": "fc43f4d4",
   "metadata": {},
   "outputs": [
    {
     "name": "stdout",
     "output_type": "stream",
     "text": [
      "adult\n",
      "HI\n"
     ]
    }
   ],
   "source": [
    "age=43\n",
    "x=\"if age>18:print('adult')\"\n",
    "exec(x)\n",
    "\n",
    "y='name=\"Rahul\"'\n",
    "exec(y)\n",
    "\n",
    "y='print(\"HI\")'\n",
    "eval(y)"
   ]
  },
  {
   "cell_type": "markdown",
   "id": "32da1b83",
   "metadata": {},
   "source": [
    "## complex()"
   ]
  },
  {
   "cell_type": "code",
   "execution_count": 20,
   "id": "e31df11c",
   "metadata": {},
   "outputs": [
    {
     "name": "stdout",
     "output_type": "stream",
     "text": [
      "(3+10j)\n"
     ]
    }
   ],
   "source": [
    "x=complex(3,10)\n",
    "print(x)"
   ]
  },
  {
   "cell_type": "markdown",
   "id": "b7d9c845",
   "metadata": {},
   "source": [
    "## delattr()"
   ]
  },
  {
   "cell_type": "code",
   "execution_count": 21,
   "id": "10511734",
   "metadata": {},
   "outputs": [
    {
     "name": "stdout",
     "output_type": "stream",
     "text": [
      "Rahul\n",
      "22\n",
      "Jaipur\n"
     ]
    },
    {
     "ename": "TypeError",
     "evalue": "city is not abailable",
     "output_type": "error",
     "traceback": [
      "\u001b[1;31m---------------------------------------------------------------------------\u001b[0m",
      "\u001b[1;31mTypeError\u001b[0m                                 Traceback (most recent call last)",
      "Cell \u001b[1;32mIn[21], line 16\u001b[0m\n\u001b[0;32m     14\u001b[0m     x\u001b[38;5;241m=\u001b[39mobj1\u001b[38;5;241m.\u001b[39mcity\n\u001b[0;32m     15\u001b[0m \u001b[38;5;28;01mexcept\u001b[39;00m \u001b[38;5;167;01mAttributeError\u001b[39;00m :\n\u001b[1;32m---> 16\u001b[0m     \u001b[38;5;28;01mraise\u001b[39;00m \u001b[38;5;167;01mTypeError\u001b[39;00m(\u001b[38;5;124m\"\u001b[39m\u001b[38;5;124mcity is not abailable\u001b[39m\u001b[38;5;124m\"\u001b[39m) \u001b[38;5;28;01mfrom\u001b[39;00m\u001b[38;5;250m \u001b[39m\u001b[38;5;28;01mNone\u001b[39;00m\n",
      "\u001b[1;31mTypeError\u001b[0m: city is not abailable"
     ]
    }
   ],
   "source": [
    "class new:\n",
    "    def __init__(self):\n",
    "        self.name=\"Rahul\"\n",
    "        self.age=22\n",
    "        self.city=\"Jaipur\"\n",
    "obj1=new()\n",
    "print(obj1.name)\n",
    "print(obj1.age)\n",
    "print(obj1.city)\n",
    "\n",
    "del obj1.age\n",
    "delattr(obj1,\"city\")\n",
    "try:\n",
    "    x=obj1.city\n",
    "except AttributeError :\n",
    "    raise TypeError(\"city is not abailable\") from None\n",
    "\n"
   ]
  },
  {
   "cell_type": "markdown",
   "id": "280615cc",
   "metadata": {},
   "source": [
    "When you raise an exception inside an except block, Python automatically links the new exception to the original one.\n",
    "\n",
    "This is called implicit exception chaining, and it helps trace the full flow of what went wrong.\n",
    "\n"
   ]
  },
  {
   "cell_type": "markdown",
   "id": "d5ae5fac",
   "metadata": {},
   "source": [
    "## dict()"
   ]
  },
  {
   "cell_type": "code",
   "execution_count": null,
   "id": "f4e8b8e0",
   "metadata": {},
   "outputs": [],
   "source": [
    "y=dict(name=\"rahul\",age=34,city=\"KOTA\")\n",
    "print(y)\n",
    "\n",
    "x=dict([(1,\"rahul\"),(2,\"maya\"),(4,\"rabbit\"),(5,\"rahul_2\")])\n",
    "print(x)"
   ]
  },
  {
   "cell_type": "markdown",
   "id": "6a560386",
   "metadata": {},
   "source": [
    "## divmod()"
   ]
  },
  {
   "cell_type": "markdown",
   "id": "4e6999f3",
   "metadata": {},
   "source": [
    "The divmod() function returns a tuple containing the quotient  and the remainder when argument1 (dividend) is divided by argument2 (divisor)."
   ]
  },
  {
   "cell_type": "code",
   "execution_count": null,
   "id": "4d61c3a6",
   "metadata": {},
   "outputs": [],
   "source": [
    "x = divmod(5, 2)\n",
    "x"
   ]
  },
  {
   "cell_type": "markdown",
   "id": "7d83ec8a",
   "metadata": {},
   "source": [
    "## enumerate"
   ]
  },
  {
   "cell_type": "markdown",
   "id": "6b8c767b",
   "metadata": {},
   "source": [
    "The enumerate() function takes a collection (e.g. a tuple) and returns it as an enumerate object.\n",
    "\n"
   ]
  },
  {
   "cell_type": "code",
   "execution_count": null,
   "id": "e760c320",
   "metadata": {},
   "outputs": [],
   "source": [
    "x = ('apple', 'banana', 'cherry')\n",
    "y = enumerate(x)\n",
    "# print(list(y))\n",
    "d=dict(y)\n",
    "print(d)"
   ]
  },
  {
   "cell_type": "markdown",
   "id": "dd423c51",
   "metadata": {},
   "source": [
    "## format()"
   ]
  },
  {
   "cell_type": "code",
   "execution_count": null,
   "id": "4e1bda58",
   "metadata": {},
   "outputs": [],
   "source": [
    "x = format(0.5, '%')\n",
    "print(x)\n",
    "\n",
    "y=format(78,'b')  # binart format\n",
    "print(y)\n",
    "\n",
    "z=format(23,'X')  # hex format upper case\n",
    "print(z)\n"
   ]
  },
  {
   "cell_type": "markdown",
   "id": "1b82d1ef",
   "metadata": {},
   "source": [
    "## getattr"
   ]
  },
  {
   "cell_type": "code",
   "execution_count": null,
   "id": "b4b46880",
   "metadata": {},
   "outputs": [],
   "source": [
    "class Person:\n",
    "  name = \"John\"\n",
    "  age = 36\n",
    "  country = \"Norway\"\n",
    "\n",
    "x = getattr(Person, 'age')\n",
    "x"
   ]
  },
  {
   "cell_type": "markdown",
   "id": "30740dfe",
   "metadata": {},
   "source": [
    "## setattr()"
   ]
  },
  {
   "cell_type": "code",
   "execution_count": null,
   "id": "86717b21",
   "metadata": {},
   "outputs": [],
   "source": [
    "class Person:\n",
    "  name = \"John\"\n",
    "  age = 36\n",
    "  country = \"Norway\"\n",
    "p=Person()\n",
    "setattr(Person, 'age', 40)\n",
    "print(p.age)\n",
    "setattr(Person, 'height', 20)   # to set or insert a new variable\n",
    "print(p.height)\n",
    "hasattr(Person,\"height\")  # to check the attribte has exist or not\n"
   ]
  },
  {
   "cell_type": "markdown",
   "id": "16a411b1",
   "metadata": {},
   "source": [
    "## help()"
   ]
  },
  {
   "cell_type": "code",
   "execution_count": null,
   "id": "7ace77cc",
   "metadata": {},
   "outputs": [],
   "source": [
    "help(hasattr)"
   ]
  },
  {
   "cell_type": "markdown",
   "id": "4014cde2",
   "metadata": {},
   "source": [
    "## id()"
   ]
  },
  {
   "cell_type": "code",
   "execution_count": null,
   "id": "07b1d80a",
   "metadata": {},
   "outputs": [],
   "source": [
    "x = ('apple', 'banana', 'cherry')\n",
    "y = id(x)\n",
    "print(y)"
   ]
  },
  {
   "cell_type": "code",
   "execution_count": null,
   "id": "58b66ae0",
   "metadata": {},
   "outputs": [],
   "source": [
    "help(id)"
   ]
  },
  {
   "cell_type": "code",
   "execution_count": null,
   "id": "bf5fa6f6",
   "metadata": {},
   "outputs": [],
   "source": [
    "help(hash)"
   ]
  },
  {
   "cell_type": "markdown",
   "id": "0678ee4e",
   "metadata": {},
   "source": [
    "## isinstance()"
   ]
  },
  {
   "cell_type": "markdown",
   "id": "bddb492d",
   "metadata": {},
   "source": [
    "The isinstance() function returns True if the specified object is of the specified type, otherwise False.\n",
    "\n"
   ]
  },
  {
   "cell_type": "code",
   "execution_count": null,
   "id": "0602b47a",
   "metadata": {},
   "outputs": [],
   "source": [
    "x = isinstance(5, int)\n",
    "print(x)\n",
    "\n",
    "x = isinstance(\"Hello\", (float, int, str, list, dict, tuple))\n",
    "print(x)\n",
    "\n",
    "class myObj:\n",
    "  name = \"John\"\n",
    "\n",
    "y = myObj()\n",
    "\n",
    "x = isinstance(y, myObj)\n",
    "print(x)"
   ]
  },
  {
   "cell_type": "markdown",
   "id": "1a513339",
   "metadata": {},
   "source": [
    "## iter()"
   ]
  },
  {
   "cell_type": "code",
   "execution_count": null,
   "id": "a9a62bf6",
   "metadata": {},
   "outputs": [],
   "source": [
    "x = iter([\"apple\", \"banana\", \"cherry\"])\n",
    "print(next(x))\n",
    "print(next(x))\n",
    "print(next(x))"
   ]
  },
  {
   "cell_type": "markdown",
   "id": "16856401",
   "metadata": {},
   "source": [
    "# globals()"
   ]
  },
  {
   "cell_type": "markdown",
   "id": "aea3b40e",
   "metadata": {},
   "source": [
    "The globals() function returns the global symbol table as a dictionary.\n",
    "\n",
    "A symbol table contains necessary information about the current program"
   ]
  },
  {
   "cell_type": "code",
   "execution_count": null,
   "id": "c821bb26",
   "metadata": {},
   "outputs": [],
   "source": [
    "x = globals()\n",
    "print(x)"
   ]
  },
  {
   "cell_type": "code",
   "execution_count": null,
   "id": "096b1302",
   "metadata": {},
   "outputs": [],
   "source": [
    "print(x['__name__'])"
   ]
  },
  {
   "cell_type": "markdown",
   "id": "a888c3f8",
   "metadata": {},
   "source": [
    "## map()"
   ]
  },
  {
   "cell_type": "code",
   "execution_count": null,
   "id": "febf61f7",
   "metadata": {},
   "outputs": [],
   "source": [
    "def myfunc(a, b):\n",
    "  return a + b\n",
    "\n",
    "x = myfunc(('apple', 'banana', 'cherry'), ('orange', 'lemon', 'pineapple'))\n",
    "print(x)\n",
    "\n",
    "\n",
    "def myfunc(a, b):\n",
    "  return a + b\n",
    "\n",
    "x = map(myfunc, ('apple', 'banana', 'cherry'), ('orange', 'lemon', 'pineapple'))\n",
    "print(list(x))"
   ]
  },
  {
   "cell_type": "markdown",
   "id": "d2e79dda",
   "metadata": {},
   "source": [
    "## memoryview()"
   ]
  },
  {
   "cell_type": "code",
   "execution_count": null,
   "id": "c2b18bfc",
   "metadata": {},
   "outputs": [],
   "source": [
    "x = memoryview(b\"Hello\")\n",
    "\n",
    "print(x)\n",
    "\n",
    "#return the Unicode of the first character\n",
    "print(x[0])\n",
    "\n",
    "#return the Unicode of the second character\n",
    "print(x[1])"
   ]
  },
  {
   "cell_type": "markdown",
   "id": "61a677d5",
   "metadata": {},
   "source": [
    "## pow()"
   ]
  },
  {
   "cell_type": "code",
   "execution_count": null,
   "id": "120acba5",
   "metadata": {},
   "outputs": [],
   "source": [
    "x=pow(3,2)\n",
    "x"
   ]
  },
  {
   "cell_type": "markdown",
   "id": "b20748c9",
   "metadata": {},
   "source": [
    "## slice()"
   ]
  },
  {
   "cell_type": "code",
   "execution_count": null,
   "id": "f541a721",
   "metadata": {},
   "outputs": [],
   "source": [
    "a = (\"a\", \"b\", \"c\", \"d\", \"e\", \"f\", \"g\", \"h\")\n",
    "x = slice(2)\n",
    "print(a[x])"
   ]
  },
  {
   "cell_type": "code",
   "execution_count": null,
   "id": "f9dbbad0",
   "metadata": {},
   "outputs": [],
   "source": [
    "a = (\"a\", \"b\", \"c\", \"d\", \"e\", \"f\", \"g\", \"h\")\n",
    "x = slice(0, 8, 3)\n",
    "print(a[x])"
   ]
  },
  {
   "cell_type": "markdown",
   "id": "0910fffb",
   "metadata": {},
   "source": [
    "## vars()"
   ]
  },
  {
   "cell_type": "code",
   "execution_count": null,
   "id": "a3765e70",
   "metadata": {},
   "outputs": [],
   "source": [
    "class Person:\n",
    "    name=\"Rahul\"\n",
    "    city=\"Jaipur\"\n",
    "\n",
    "x=vars(Person)\n",
    "x"
   ]
  },
  {
   "cell_type": "markdown",
   "id": "11418994",
   "metadata": {},
   "source": [
    "# zip()"
   ]
  },
  {
   "cell_type": "code",
   "execution_count": null,
   "id": "3bd8e0eb",
   "metadata": {},
   "outputs": [],
   "source": [
    "a = (\"John\", \"Charles\", \"Mike\")\n",
    "b = (\"Jenny\", \"Christy\", \"Monica\", \"Vicky\")\n",
    "\n",
    "x = zip(a, b)\n",
    "# print(list(x))\n",
    "d=dict(x)\n",
    "print(d)"
   ]
  },
  {
   "cell_type": "markdown",
   "id": "79edcbb7",
   "metadata": {},
   "source": [
    "## min()"
   ]
  },
  {
   "cell_type": "code",
   "execution_count": null,
   "id": "f4223d81",
   "metadata": {},
   "outputs": [
    {
     "name": "stdout",
     "output_type": "stream",
     "text": [
      "0\n"
     ]
    }
   ],
   "source": [
    "a=[1,3,4,6,89,0]\n",
    "print(min(a))"
   ]
  },
  {
   "cell_type": "markdown",
   "id": "1542ac4f",
   "metadata": {},
   "source": [
    "## max()"
   ]
  },
  {
   "cell_type": "code",
   "execution_count": null,
   "id": "626ba9d5",
   "metadata": {},
   "outputs": [
    {
     "name": "stdout",
     "output_type": "stream",
     "text": [
      "99\n"
     ]
    }
   ],
   "source": [
    "a=[3,5,6,1,2,22,99,90]\n",
    "print(max(a))"
   ]
  },
  {
   "cell_type": "markdown",
   "id": "f7bbbc32",
   "metadata": {},
   "source": [
    "## sort()"
   ]
  },
  {
   "cell_type": "code",
   "execution_count": null,
   "id": "2535e8aa",
   "metadata": {},
   "outputs": [
    {
     "name": "stdout",
     "output_type": "stream",
     "text": [
      "[0, 1, 1, 1, 2, 3, 3, 4, 23, 34, 78, 90, 100, 234, 543, 3333]\n"
     ]
    }
   ],
   "source": [
    "a=[1,2,3,4,90,0,1,3,100,34,23,234,543,3333,1,78]\n",
    "print(sorted(a))"
   ]
  }
 ],
 "metadata": {
  "kernelspec": {
   "display_name": "Python 3",
   "language": "python",
   "name": "python3"
  },
  "language_info": {
   "codemirror_mode": {
    "name": "ipython",
    "version": 3
   },
   "file_extension": ".py",
   "mimetype": "text/x-python",
   "name": "python",
   "nbconvert_exporter": "python",
   "pygments_lexer": "ipython3",
   "version": "3.12.8"
  }
 },
 "nbformat": 4,
 "nbformat_minor": 5
}
