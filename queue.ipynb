{
 "cells": [
  {
   "cell_type": "markdown",
   "id": "1ae3c9d4",
   "metadata": {},
   "source": [
    "Queue follow First in First out Principal"
   ]
  },
  {
   "cell_type": "markdown",
   "id": "c021c4bc",
   "metadata": {},
   "source": [
    "### Basic queue understanding"
   ]
  },
  {
   "cell_type": "code",
   "execution_count": 1,
   "id": "d77ee7a8",
   "metadata": {},
   "outputs": [
    {
     "name": "stdout",
     "output_type": "stream",
     "text": [
      "Queue is :  ['Apple', 'Arm', 'Azure']\n",
      "peek element is :  Apple\n",
      "Queue after popped is ['Arm', 'Azure'] and popped element is Apple\n",
      "isEmpty:  False\n",
      "Size:  2\n"
     ]
    }
   ],
   "source": [
    "queue=[]\n",
    "\n",
    "# push operations\n",
    "\n",
    "queue.append('Apple')\n",
    "queue.append(\"Arm\")\n",
    "queue.append(\"Azure\")\n",
    "\n",
    "print(\"Queue is : \",queue)\n",
    "\n",
    "# peek \n",
    "peek = queue[0]\n",
    "print(\"peek element is : \",peek)\n",
    "\n",
    "# pop operation\n",
    "popped_element=queue.pop(0)\n",
    "print(f\"Queue after popped is {queue} and popped element is {popped_element}\")\n",
    "\n",
    "# isEmpty\n",
    "isEmpty = not bool(queue)\n",
    "print(\"isEmpty: \", isEmpty)\n",
    "\n",
    "# Size\n",
    "print(\"Size: \", len(queue))"
   ]
  },
  {
   "cell_type": "markdown",
   "id": "5e508bb6",
   "metadata": {},
   "source": [
    "### Queue using class/objects"
   ]
  },
  {
   "cell_type": "code",
   "execution_count": 11,
   "id": "c5a65714",
   "metadata": {},
   "outputs": [
    {
     "name": "stdout",
     "output_type": "stream",
     "text": [
      "True\n",
      "Queue is empty\n",
      "Queue length is 0\n",
      "Queue is empty\n",
      "\n",
      "False\n",
      "Peek element is Adam\n",
      "Queue length is 3\n",
      "\n",
      "Element is popped Successfully. Popped element is Adam\n",
      "Peek element is Apple\n",
      "Queue length is 2\n",
      "queue is :  ['Apple', 'Amo']\n"
     ]
    }
   ],
   "source": [
    "class Queue:\n",
    "    def __init__(self):\n",
    "        self.queue=[]\n",
    "\n",
    "    def enqueue(self,value):\n",
    "        self.queue.append(value)\n",
    "    \n",
    "    def dequeue(self):\n",
    "        if self.isempty():\n",
    "            return \"Queue is empty\"\n",
    "        popped_element=self.queue.pop(0)\n",
    "        return f\"Element is popped Successfully. Popped element is {popped_element}\"\n",
    "\n",
    "    def isempty(self):\n",
    "        return len(self.queue)==0\n",
    "    \n",
    "    def peek(self):\n",
    "        if self.isempty():\n",
    "            return \"Queue is empty\"\n",
    "        return f\"Peek element is {self.queue[0]}\"\n",
    "    \n",
    "\n",
    "    def size(self):\n",
    "        return f\"Queue length is {len(self.queue)}\"\n",
    "    \n",
    "myqueue=Queue()\n",
    "print(myqueue.isempty())\n",
    "print(myqueue.peek())\n",
    "print(myqueue.size())\n",
    "print(myqueue.dequeue())\n",
    "\n",
    "myqueue.enqueue(\"Adam\")\n",
    "myqueue.enqueue(\"Apple\")\n",
    "myqueue.enqueue(\"Amo\")\n",
    "print()\n",
    "\n",
    "print(myqueue.isempty())\n",
    "print(myqueue.peek())\n",
    "print(myqueue.size())\n",
    "print()\n",
    "\n",
    "print(myqueue.dequeue())\n",
    "print(myqueue.peek())\n",
    "print(myqueue.size())\n",
    "print(\"queue is : \",myqueue.queue)"
   ]
  },
  {
   "cell_type": "code",
   "execution_count": null,
   "id": "09db912b",
   "metadata": {},
   "outputs": [],
   "source": []
  }
 ],
 "metadata": {
  "kernelspec": {
   "display_name": "Python 3",
   "language": "python",
   "name": "python3"
  },
  "language_info": {
   "codemirror_mode": {
    "name": "ipython",
    "version": 3
   },
   "file_extension": ".py",
   "mimetype": "text/x-python",
   "name": "python",
   "nbconvert_exporter": "python",
   "pygments_lexer": "ipython3",
   "version": "3.12.8"
  }
 },
 "nbformat": 4,
 "nbformat_minor": 5
}
